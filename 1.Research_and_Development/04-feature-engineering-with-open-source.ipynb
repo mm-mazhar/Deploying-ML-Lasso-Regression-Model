{
 "cells": [
  {
   "cell_type": "markdown",
   "metadata": {
    "id": "VGgo7xWXxqAR"
   },
   "source": [
    "# Feature Engineering with Open-Source\n",
    "\n",
    "In this notebook, we will reproduce the Feature Engineering Pipeline from the notebook 1 (01-data-analysis-feature-engineering), but we will replace, whenever possible, the manually created functions by open-source classes, and hopefully understand the value they bring forward."
   ]
  },
  {
   "cell_type": "markdown",
   "metadata": {
    "id": "qo9m93_PxqAX"
   },
   "source": [
    "# Reproducibility: Setting the seed\n",
    "\n",
    "With the aim to ensure reproducibility between runs of the same notebook, but also between the research and production environment, for each step that includes some element of randomness, it is extremely important that we **set the seed**."
   ]
  },
  {
   "cell_type": "code",
   "execution_count": 1,
   "metadata": {
    "colab": {
     "base_uri": "https://localhost:8080/"
    },
    "id": "jNBzOu6SxqAY",
    "outputId": "d17b0bbd-c142-4129-a09a-46214dc7d33c",
    "tags": []
   },
   "outputs": [],
   "source": [
    "# to handle datasets\n",
    "import pandas as pd\n",
    "import numpy as np\n",
    "from datetime import datetime\n",
    "from collections import Counter\n",
    "# ignore warnings\n",
    "import warnings\n",
    "warnings.filterwarnings(\"ignore\")\n",
    "\n",
    "# for plotting\n",
    "import matplotlib.pyplot as plt\n",
    "import seaborn as sns\n",
    "import ipywidgets as widgets\n",
    "from IPython.display import display\n",
    "\n",
    "# for the yeo-johnson transformation\n",
    "import scipy.stats as stats\n",
    "\n",
    "# from Scikit-learn\n",
    "from sklearn.model_selection import train_test_split\n",
    "from sklearn.preprocessing import MinMaxScaler, Binarizer\n",
    "from sklearn.preprocessing import Binarizer # for hugely skewed variables\n",
    "\n",
    "# from feature-engine\n",
    "from feature_engine.imputation import (\n",
    "    AddMissingIndicator,\n",
    "    MeanMedianImputer,\n",
    "    CategoricalImputer,\n",
    ")\n",
    "\n",
    "from feature_engine.encoding import (\n",
    "    RareLabelEncoder,\n",
    "    OrdinalEncoder,\n",
    ")\n",
    "\n",
    "from feature_engine.transformation import (\n",
    "    LogTransformer,\n",
    "    YeoJohnsonTransformer,\n",
    ")\n",
    "\n",
    "from feature_engine.selection import DropFeatures\n",
    "from feature_engine.datetime import DatetimeFeatures\n",
    "from feature_engine.wrappers import SklearnTransformerWrapper\n",
    "\n",
    "# to save the trained scaler class\n",
    "import joblib\n",
    "\n",
    "# to build the model\n",
    "from sklearn.linear_model import Lasso\n",
    "\n",
    "# to evaluate the model\n",
    "from sklearn.metrics import mean_squared_error, r2_score\n",
    "\n",
    "# to display all the columns of the dataframe in the notebook\n",
    "pd.pandas.set_option('display.max_columns', None)\n",
    "#pd.pandas.set_option('display.max_rows', None)"
   ]
  },
  {
   "cell_type": "code",
   "execution_count": 2,
   "metadata": {
    "id": "qVvr15VvxqAc"
   },
   "outputs": [],
   "source": [
    "# load dataset\n",
    "data = pd.read_csv(\"../Data/data.csv\", parse_dates = ['Built_in_year'])"
   ]
  },
  {
   "cell_type": "code",
   "execution_count": 3,
   "metadata": {},
   "outputs": [
    {
     "data": {
      "text/html": [
       "<div>\n",
       "<style scoped>\n",
       "    .dataframe tbody tr th:only-of-type {\n",
       "        vertical-align: middle;\n",
       "    }\n",
       "\n",
       "    .dataframe tbody tr th {\n",
       "        vertical-align: top;\n",
       "    }\n",
       "\n",
       "    .dataframe thead th {\n",
       "        text-align: right;\n",
       "    }\n",
       "</style>\n",
       "<table border=\"1\" class=\"dataframe\">\n",
       "  <thead>\n",
       "    <tr style=\"text-align: right;\">\n",
       "      <th></th>\n",
       "      <th>Ids</th>\n",
       "      <th>Location1</th>\n",
       "      <th>Location2</th>\n",
       "      <th>Type</th>\n",
       "      <th>Bedrooms</th>\n",
       "      <th>Bathrooms</th>\n",
       "      <th>Size_in_SqYds</th>\n",
       "      <th>Price_in_millions</th>\n",
       "      <th>Built_in_year</th>\n",
       "      <th>Parking_Spaces</th>\n",
       "      <th>Floors_in_Building</th>\n",
       "      <th>Elevators</th>\n",
       "      <th>Store_Rooms</th>\n",
       "      <th>Lobby_in_Building</th>\n",
       "      <th>Double_Glazed_Windows</th>\n",
       "      <th>Central_Air_Conditioning</th>\n",
       "      <th>Central_Heating</th>\n",
       "      <th>Waste_Disposal</th>\n",
       "      <th>Furnished</th>\n",
       "      <th>Service_Elevators_in_Building</th>\n",
       "      <th>Flooring</th>\n",
       "      <th>Electricity_Backup</th>\n",
       "      <th>Servant_Quarters</th>\n",
       "      <th>Study_Room</th>\n",
       "      <th>Prayer_Room</th>\n",
       "      <th>Powder_Room</th>\n",
       "      <th>Gym</th>\n",
       "      <th>Lounge_or_Sitting_Room</th>\n",
       "      <th>Laundry_Room</th>\n",
       "      <th>Business_Center_or_Media_Room_in_Building</th>\n",
       "      <th>Satellite_or_Cable_TV_Ready</th>\n",
       "      <th>Broadband_Internet_Access</th>\n",
       "      <th>Intercom</th>\n",
       "      <th>Conference_Room_in_Building</th>\n",
       "      <th>Community_Swimming_Pool</th>\n",
       "      <th>Community_Lawn_or_Garden</th>\n",
       "      <th>Community_Gym</th>\n",
       "      <th>Community_Center</th>\n",
       "      <th>First_Aid_or_Medical_Centre</th>\n",
       "      <th>Day_Care_center</th>\n",
       "      <th>Kids_Play_Area</th>\n",
       "      <th>Mosque</th>\n",
       "      <th>Barbeque_Area</th>\n",
       "      <th>Lawn_or_Garden</th>\n",
       "      <th>Swimming_Pool</th>\n",
       "      <th>Sauna</th>\n",
       "      <th>Jacuzzi</th>\n",
       "      <th>Nearby_Schools</th>\n",
       "      <th>Nearby_Hospital</th>\n",
       "      <th>Nearby_Shopping_Malls</th>\n",
       "      <th>Nearby_Restaurants</th>\n",
       "      <th>Nearby_Public_Transport_Service</th>\n",
       "      <th>Other_Nearby_Places</th>\n",
       "      <th>Security_Staff</th>\n",
       "      <th>Maintainance_Staff</th>\n",
       "      <th>Laundry_or_Dry_Cleaning_Facility</th>\n",
       "      <th>Facilities_for_Disabled</th>\n",
       "    </tr>\n",
       "  </thead>\n",
       "  <tbody>\n",
       "    <tr>\n",
       "      <th>0</th>\n",
       "      <td>0</td>\n",
       "      <td>DHA Phase 6, DHA Defence</td>\n",
       "      <td>DHA Defence</td>\n",
       "      <td>House</td>\n",
       "      <td>6.0</td>\n",
       "      <td>6.0</td>\n",
       "      <td>600.0</td>\n",
       "      <td>220.0</td>\n",
       "      <td>NaT</td>\n",
       "      <td>3</td>\n",
       "      <td>NaN</td>\n",
       "      <td>NaN</td>\n",
       "      <td>NaN</td>\n",
       "      <td>0</td>\n",
       "      <td>1</td>\n",
       "      <td>1</td>\n",
       "      <td>1</td>\n",
       "      <td>0</td>\n",
       "      <td>0</td>\n",
       "      <td>0</td>\n",
       "      <td>1</td>\n",
       "      <td>0</td>\n",
       "      <td>1</td>\n",
       "      <td>1</td>\n",
       "      <td>0</td>\n",
       "      <td>0</td>\n",
       "      <td>1</td>\n",
       "      <td>1</td>\n",
       "      <td>0</td>\n",
       "      <td>0</td>\n",
       "      <td>0</td>\n",
       "      <td>0</td>\n",
       "      <td>0</td>\n",
       "      <td>0</td>\n",
       "      <td>0</td>\n",
       "      <td>0</td>\n",
       "      <td>0</td>\n",
       "      <td>0</td>\n",
       "      <td>0</td>\n",
       "      <td>0</td>\n",
       "      <td>0</td>\n",
       "      <td>0</td>\n",
       "      <td>0</td>\n",
       "      <td>0</td>\n",
       "      <td>0</td>\n",
       "      <td>0</td>\n",
       "      <td>0</td>\n",
       "      <td>0</td>\n",
       "      <td>0</td>\n",
       "      <td>0</td>\n",
       "      <td>0</td>\n",
       "      <td>0</td>\n",
       "      <td>0</td>\n",
       "      <td>0</td>\n",
       "      <td>0</td>\n",
       "      <td>0</td>\n",
       "      <td>0</td>\n",
       "    </tr>\n",
       "    <tr>\n",
       "      <th>1</th>\n",
       "      <td>1</td>\n",
       "      <td>Saadi Town - Block 3, Saadi Town, Scheme 33</td>\n",
       "      <td>Scheme 33</td>\n",
       "      <td>House</td>\n",
       "      <td>6.0</td>\n",
       "      <td>6.0</td>\n",
       "      <td>240.0</td>\n",
       "      <td>38.5</td>\n",
       "      <td>NaT</td>\n",
       "      <td>1</td>\n",
       "      <td>NaN</td>\n",
       "      <td>NaN</td>\n",
       "      <td>NaN</td>\n",
       "      <td>0</td>\n",
       "      <td>0</td>\n",
       "      <td>0</td>\n",
       "      <td>0</td>\n",
       "      <td>0</td>\n",
       "      <td>0</td>\n",
       "      <td>0</td>\n",
       "      <td>1</td>\n",
       "      <td>1</td>\n",
       "      <td>0</td>\n",
       "      <td>1</td>\n",
       "      <td>0</td>\n",
       "      <td>0</td>\n",
       "      <td>0</td>\n",
       "      <td>0</td>\n",
       "      <td>0</td>\n",
       "      <td>0</td>\n",
       "      <td>0</td>\n",
       "      <td>0</td>\n",
       "      <td>0</td>\n",
       "      <td>0</td>\n",
       "      <td>0</td>\n",
       "      <td>0</td>\n",
       "      <td>0</td>\n",
       "      <td>0</td>\n",
       "      <td>0</td>\n",
       "      <td>0</td>\n",
       "      <td>0</td>\n",
       "      <td>0</td>\n",
       "      <td>0</td>\n",
       "      <td>0</td>\n",
       "      <td>0</td>\n",
       "      <td>0</td>\n",
       "      <td>0</td>\n",
       "      <td>0</td>\n",
       "      <td>0</td>\n",
       "      <td>0</td>\n",
       "      <td>0</td>\n",
       "      <td>0</td>\n",
       "      <td>0</td>\n",
       "      <td>0</td>\n",
       "      <td>0</td>\n",
       "      <td>0</td>\n",
       "      <td>0</td>\n",
       "    </tr>\n",
       "  </tbody>\n",
       "</table>\n",
       "</div>"
      ],
      "text/plain": [
       "   Ids                                    Location1    Location2   Type  \\\n",
       "0    0                     DHA Phase 6, DHA Defence  DHA Defence  House   \n",
       "1    1  Saadi Town - Block 3, Saadi Town, Scheme 33    Scheme 33  House   \n",
       "\n",
       "   Bedrooms  Bathrooms  Size_in_SqYds  Price_in_millions Built_in_year  \\\n",
       "0       6.0        6.0          600.0              220.0           NaT   \n",
       "1       6.0        6.0          240.0               38.5           NaT   \n",
       "\n",
       "   Parking_Spaces  Floors_in_Building  Elevators  Store_Rooms  \\\n",
       "0               3                 NaN        NaN          NaN   \n",
       "1               1                 NaN        NaN          NaN   \n",
       "\n",
       "   Lobby_in_Building  Double_Glazed_Windows  Central_Air_Conditioning  \\\n",
       "0                  0                      1                         1   \n",
       "1                  0                      0                         0   \n",
       "\n",
       "   Central_Heating  Waste_Disposal  Furnished  Service_Elevators_in_Building  \\\n",
       "0                1               0          0                              0   \n",
       "1                0               0          0                              0   \n",
       "\n",
       "   Flooring  Electricity_Backup  Servant_Quarters  Study_Room  Prayer_Room  \\\n",
       "0         1                   0                 1           1            0   \n",
       "1         1                   1                 0           1            0   \n",
       "\n",
       "   Powder_Room  Gym  Lounge_or_Sitting_Room  Laundry_Room  \\\n",
       "0            0    1                       1             0   \n",
       "1            0    0                       0             0   \n",
       "\n",
       "   Business_Center_or_Media_Room_in_Building  Satellite_or_Cable_TV_Ready  \\\n",
       "0                                          0                            0   \n",
       "1                                          0                            0   \n",
       "\n",
       "   Broadband_Internet_Access  Intercom  Conference_Room_in_Building  \\\n",
       "0                          0         0                            0   \n",
       "1                          0         0                            0   \n",
       "\n",
       "   Community_Swimming_Pool  Community_Lawn_or_Garden  Community_Gym  \\\n",
       "0                        0                         0              0   \n",
       "1                        0                         0              0   \n",
       "\n",
       "   Community_Center  First_Aid_or_Medical_Centre  Day_Care_center  \\\n",
       "0                 0                            0                0   \n",
       "1                 0                            0                0   \n",
       "\n",
       "   Kids_Play_Area  Mosque  Barbeque_Area  Lawn_or_Garden  Swimming_Pool  \\\n",
       "0               0       0              0               0              0   \n",
       "1               0       0              0               0              0   \n",
       "\n",
       "   Sauna  Jacuzzi  Nearby_Schools  Nearby_Hospital  Nearby_Shopping_Malls  \\\n",
       "0      0        0               0                0                      0   \n",
       "1      0        0               0                0                      0   \n",
       "\n",
       "   Nearby_Restaurants  Nearby_Public_Transport_Service  Other_Nearby_Places  \\\n",
       "0                   0                                0                    0   \n",
       "1                   0                                0                    0   \n",
       "\n",
       "   Security_Staff  Maintainance_Staff  Laundry_or_Dry_Cleaning_Facility  \\\n",
       "0               0                   0                                 0   \n",
       "1               0                   0                                 0   \n",
       "\n",
       "   Facilities_for_Disabled  \n",
       "0                        0  \n",
       "1                        0  "
      ]
     },
     "execution_count": 3,
     "metadata": {},
     "output_type": "execute_result"
    }
   ],
   "source": [
    "data.head(2)"
   ]
  },
  {
   "cell_type": "markdown",
   "metadata": {
    "id": "q44MQfkwxqAh"
   },
   "source": [
    "## Drop Columns and Rows"
   ]
  },
  {
   "cell_type": "code",
   "execution_count": 4,
   "metadata": {},
   "outputs": [],
   "source": [
    "# drop id, it is just a number given to identify each house\n",
    "# drop 'Built_in_year', 'Location2', 'Store_Rooms' columns\n",
    "\n",
    "drop_features = DropFeatures(features_to_drop = ['Ids', 'Location2', 'Store_Rooms'])\n",
    "data = drop_features.fit_transform(data)"
   ]
  },
  {
   "cell_type": "code",
   "execution_count": 5,
   "metadata": {},
   "outputs": [
    {
     "name": "stdout",
     "output_type": "stream",
     "text": [
      "Shape:  (14201, 54)\n"
     ]
    }
   ],
   "source": [
    "# drop rows in col 'Price_in_millions' that have missing values\n",
    "data.drop(data.loc[data['Price_in_millions'].isnull()].index, axis = 0, inplace = True)\n",
    "print(\"Shape: \", data.shape)"
   ]
  },
  {
   "cell_type": "markdown",
   "metadata": {},
   "source": [
    "## Datetime Features"
   ]
  },
  {
   "cell_type": "code",
   "execution_count": 6,
   "metadata": {
    "id": "lUBtggcjxqAd"
   },
   "outputs": [],
   "source": [
    "date_time_features = DatetimeFeatures(variables = ['Built_in_year'], \n",
    "                                      features_to_extract = ['year'], \n",
    "                                      drop_original = True, \n",
    "                                      missing_values = 'ignore')\n",
    "\n",
    "data = date_time_features.fit_transform(data)"
   ]
  },
  {
   "cell_type": "markdown",
   "metadata": {},
   "source": [
    "## Drop Duplicates"
   ]
  },
  {
   "cell_type": "code",
   "execution_count": 7,
   "metadata": {},
   "outputs": [
    {
     "name": "stdout",
     "output_type": "stream",
     "text": [
      "Shape: (9819, 54)\n"
     ]
    }
   ],
   "source": [
    "# Using DataFrame.drop_duplicates() to keep first duplicate row\n",
    "data = data.drop_duplicates(keep = 'first')\n",
    "# rows and columns of the data\n",
    "print(f'Shape: {data.shape}')"
   ]
  },
  {
   "cell_type": "code",
   "execution_count": 8,
   "metadata": {},
   "outputs": [
    {
     "name": "stdout",
     "output_type": "stream",
     "text": [
      "Shape: (9819, 54)\n",
      "DataFrame: \n",
      "----------\n"
     ]
    },
    {
     "data": {
      "text/html": [
       "<div>\n",
       "<style scoped>\n",
       "    .dataframe tbody tr th:only-of-type {\n",
       "        vertical-align: middle;\n",
       "    }\n",
       "\n",
       "    .dataframe tbody tr th {\n",
       "        vertical-align: top;\n",
       "    }\n",
       "\n",
       "    .dataframe thead th {\n",
       "        text-align: right;\n",
       "    }\n",
       "</style>\n",
       "<table border=\"1\" class=\"dataframe\">\n",
       "  <thead>\n",
       "    <tr style=\"text-align: right;\">\n",
       "      <th></th>\n",
       "      <th>Location1</th>\n",
       "      <th>Type</th>\n",
       "      <th>Bedrooms</th>\n",
       "      <th>Bathrooms</th>\n",
       "      <th>Size_in_SqYds</th>\n",
       "      <th>Price_in_millions</th>\n",
       "      <th>Parking_Spaces</th>\n",
       "      <th>Floors_in_Building</th>\n",
       "      <th>Elevators</th>\n",
       "      <th>Lobby_in_Building</th>\n",
       "      <th>Double_Glazed_Windows</th>\n",
       "      <th>Central_Air_Conditioning</th>\n",
       "      <th>Central_Heating</th>\n",
       "      <th>Waste_Disposal</th>\n",
       "      <th>Furnished</th>\n",
       "      <th>Service_Elevators_in_Building</th>\n",
       "      <th>Flooring</th>\n",
       "      <th>Electricity_Backup</th>\n",
       "      <th>Servant_Quarters</th>\n",
       "      <th>Study_Room</th>\n",
       "      <th>Prayer_Room</th>\n",
       "      <th>Powder_Room</th>\n",
       "      <th>Gym</th>\n",
       "      <th>Lounge_or_Sitting_Room</th>\n",
       "      <th>Laundry_Room</th>\n",
       "      <th>Business_Center_or_Media_Room_in_Building</th>\n",
       "      <th>Satellite_or_Cable_TV_Ready</th>\n",
       "      <th>Broadband_Internet_Access</th>\n",
       "      <th>Intercom</th>\n",
       "      <th>Conference_Room_in_Building</th>\n",
       "      <th>Community_Swimming_Pool</th>\n",
       "      <th>Community_Lawn_or_Garden</th>\n",
       "      <th>Community_Gym</th>\n",
       "      <th>Community_Center</th>\n",
       "      <th>First_Aid_or_Medical_Centre</th>\n",
       "      <th>Day_Care_center</th>\n",
       "      <th>Kids_Play_Area</th>\n",
       "      <th>Mosque</th>\n",
       "      <th>Barbeque_Area</th>\n",
       "      <th>Lawn_or_Garden</th>\n",
       "      <th>Swimming_Pool</th>\n",
       "      <th>Sauna</th>\n",
       "      <th>Jacuzzi</th>\n",
       "      <th>Nearby_Schools</th>\n",
       "      <th>Nearby_Hospital</th>\n",
       "      <th>Nearby_Shopping_Malls</th>\n",
       "      <th>Nearby_Restaurants</th>\n",
       "      <th>Nearby_Public_Transport_Service</th>\n",
       "      <th>Other_Nearby_Places</th>\n",
       "      <th>Security_Staff</th>\n",
       "      <th>Maintainance_Staff</th>\n",
       "      <th>Laundry_or_Dry_Cleaning_Facility</th>\n",
       "      <th>Facilities_for_Disabled</th>\n",
       "      <th>Built_in_year_year</th>\n",
       "    </tr>\n",
       "  </thead>\n",
       "  <tbody>\n",
       "    <tr>\n",
       "      <th>0</th>\n",
       "      <td>DHA Phase 6, DHA Defence</td>\n",
       "      <td>House</td>\n",
       "      <td>6.0</td>\n",
       "      <td>6.0</td>\n",
       "      <td>600.0</td>\n",
       "      <td>220.0</td>\n",
       "      <td>3</td>\n",
       "      <td>NaN</td>\n",
       "      <td>NaN</td>\n",
       "      <td>0</td>\n",
       "      <td>1</td>\n",
       "      <td>1</td>\n",
       "      <td>1</td>\n",
       "      <td>0</td>\n",
       "      <td>0</td>\n",
       "      <td>0</td>\n",
       "      <td>1</td>\n",
       "      <td>0</td>\n",
       "      <td>1</td>\n",
       "      <td>1</td>\n",
       "      <td>0</td>\n",
       "      <td>0</td>\n",
       "      <td>1</td>\n",
       "      <td>1</td>\n",
       "      <td>0</td>\n",
       "      <td>0</td>\n",
       "      <td>0</td>\n",
       "      <td>0</td>\n",
       "      <td>0</td>\n",
       "      <td>0</td>\n",
       "      <td>0</td>\n",
       "      <td>0</td>\n",
       "      <td>0</td>\n",
       "      <td>0</td>\n",
       "      <td>0</td>\n",
       "      <td>0</td>\n",
       "      <td>0</td>\n",
       "      <td>0</td>\n",
       "      <td>0</td>\n",
       "      <td>0</td>\n",
       "      <td>0</td>\n",
       "      <td>0</td>\n",
       "      <td>0</td>\n",
       "      <td>0</td>\n",
       "      <td>0</td>\n",
       "      <td>0</td>\n",
       "      <td>0</td>\n",
       "      <td>0</td>\n",
       "      <td>0</td>\n",
       "      <td>0</td>\n",
       "      <td>0</td>\n",
       "      <td>0</td>\n",
       "      <td>0</td>\n",
       "      <td>NaN</td>\n",
       "    </tr>\n",
       "    <tr>\n",
       "      <th>1</th>\n",
       "      <td>Saadi Town - Block 3, Saadi Town, Scheme 33</td>\n",
       "      <td>House</td>\n",
       "      <td>6.0</td>\n",
       "      <td>6.0</td>\n",
       "      <td>240.0</td>\n",
       "      <td>38.5</td>\n",
       "      <td>1</td>\n",
       "      <td>NaN</td>\n",
       "      <td>NaN</td>\n",
       "      <td>0</td>\n",
       "      <td>0</td>\n",
       "      <td>0</td>\n",
       "      <td>0</td>\n",
       "      <td>0</td>\n",
       "      <td>0</td>\n",
       "      <td>0</td>\n",
       "      <td>1</td>\n",
       "      <td>1</td>\n",
       "      <td>0</td>\n",
       "      <td>1</td>\n",
       "      <td>0</td>\n",
       "      <td>0</td>\n",
       "      <td>0</td>\n",
       "      <td>0</td>\n",
       "      <td>0</td>\n",
       "      <td>0</td>\n",
       "      <td>0</td>\n",
       "      <td>0</td>\n",
       "      <td>0</td>\n",
       "      <td>0</td>\n",
       "      <td>0</td>\n",
       "      <td>0</td>\n",
       "      <td>0</td>\n",
       "      <td>0</td>\n",
       "      <td>0</td>\n",
       "      <td>0</td>\n",
       "      <td>0</td>\n",
       "      <td>0</td>\n",
       "      <td>0</td>\n",
       "      <td>0</td>\n",
       "      <td>0</td>\n",
       "      <td>0</td>\n",
       "      <td>0</td>\n",
       "      <td>0</td>\n",
       "      <td>0</td>\n",
       "      <td>0</td>\n",
       "      <td>0</td>\n",
       "      <td>0</td>\n",
       "      <td>0</td>\n",
       "      <td>0</td>\n",
       "      <td>0</td>\n",
       "      <td>0</td>\n",
       "      <td>0</td>\n",
       "      <td>NaN</td>\n",
       "    </tr>\n",
       "  </tbody>\n",
       "</table>\n",
       "</div>"
      ],
      "text/plain": [
       "                                     Location1   Type  Bedrooms  Bathrooms  \\\n",
       "0                     DHA Phase 6, DHA Defence  House       6.0        6.0   \n",
       "1  Saadi Town - Block 3, Saadi Town, Scheme 33  House       6.0        6.0   \n",
       "\n",
       "   Size_in_SqYds  Price_in_millions  Parking_Spaces  Floors_in_Building  \\\n",
       "0          600.0              220.0               3                 NaN   \n",
       "1          240.0               38.5               1                 NaN   \n",
       "\n",
       "   Elevators  Lobby_in_Building  Double_Glazed_Windows  \\\n",
       "0        NaN                  0                      1   \n",
       "1        NaN                  0                      0   \n",
       "\n",
       "   Central_Air_Conditioning  Central_Heating  Waste_Disposal  Furnished  \\\n",
       "0                         1                1               0          0   \n",
       "1                         0                0               0          0   \n",
       "\n",
       "   Service_Elevators_in_Building  Flooring  Electricity_Backup  \\\n",
       "0                              0         1                   0   \n",
       "1                              0         1                   1   \n",
       "\n",
       "   Servant_Quarters  Study_Room  Prayer_Room  Powder_Room  Gym  \\\n",
       "0                 1           1            0            0    1   \n",
       "1                 0           1            0            0    0   \n",
       "\n",
       "   Lounge_or_Sitting_Room  Laundry_Room  \\\n",
       "0                       1             0   \n",
       "1                       0             0   \n",
       "\n",
       "   Business_Center_or_Media_Room_in_Building  Satellite_or_Cable_TV_Ready  \\\n",
       "0                                          0                            0   \n",
       "1                                          0                            0   \n",
       "\n",
       "   Broadband_Internet_Access  Intercom  Conference_Room_in_Building  \\\n",
       "0                          0         0                            0   \n",
       "1                          0         0                            0   \n",
       "\n",
       "   Community_Swimming_Pool  Community_Lawn_or_Garden  Community_Gym  \\\n",
       "0                        0                         0              0   \n",
       "1                        0                         0              0   \n",
       "\n",
       "   Community_Center  First_Aid_or_Medical_Centre  Day_Care_center  \\\n",
       "0                 0                            0                0   \n",
       "1                 0                            0                0   \n",
       "\n",
       "   Kids_Play_Area  Mosque  Barbeque_Area  Lawn_or_Garden  Swimming_Pool  \\\n",
       "0               0       0              0               0              0   \n",
       "1               0       0              0               0              0   \n",
       "\n",
       "   Sauna  Jacuzzi  Nearby_Schools  Nearby_Hospital  Nearby_Shopping_Malls  \\\n",
       "0      0        0               0                0                      0   \n",
       "1      0        0               0                0                      0   \n",
       "\n",
       "   Nearby_Restaurants  Nearby_Public_Transport_Service  Other_Nearby_Places  \\\n",
       "0                   0                                0                    0   \n",
       "1                   0                                0                    0   \n",
       "\n",
       "   Security_Staff  Maintainance_Staff  Laundry_or_Dry_Cleaning_Facility  \\\n",
       "0               0                   0                                 0   \n",
       "1               0                   0                                 0   \n",
       "\n",
       "   Facilities_for_Disabled  Built_in_year_year  \n",
       "0                        0                 NaN  \n",
       "1                        0                 NaN  "
      ]
     },
     "execution_count": 8,
     "metadata": {},
     "output_type": "execute_result"
    }
   ],
   "source": [
    "# rows and columns of the data\n",
    "print(f'Shape: {data.shape}')\n",
    "\n",
    "# visualise the dataset\n",
    "print('DataFrame: ')\n",
    "print('-' * 10)\n",
    "data.head(2)"
   ]
  },
  {
   "cell_type": "markdown",
   "metadata": {},
   "source": [
    "## Split the data into train and test"
   ]
  },
  {
   "cell_type": "code",
   "execution_count": 9,
   "metadata": {},
   "outputs": [
    {
     "data": {
      "text/plain": [
       "((8837, 53), (982, 53))"
      ]
     },
     "execution_count": 9,
     "metadata": {},
     "output_type": "execute_result"
    }
   ],
   "source": [
    "# Let's separate into train and test set\n",
    "# Remember to set the seed (random_state for this sklearn function)\n",
    "to_drop = ['Price_in_millions']\n",
    "targe_var = 'Price_in_millions'\n",
    "\n",
    "X_train, X_test, y_train, y_test = train_test_split(\n",
    "    data.drop(to_drop, axis = 1), # predictive variables\n",
    "    data[targe_var], # targe_var, # target\n",
    "    test_size = 0.1, # portion of dataset to allocate to test set\n",
    "    random_state = 0, # we are setting the seed here\n",
    ")\n",
    "\n",
    "X_train.shape, X_test.shape"
   ]
  },
  {
   "cell_type": "markdown",
   "metadata": {
    "id": "N6mXg6pxxqAl"
   },
   "source": [
    "## 1. Target\n",
    "\n",
    "Apply Log transformation to the target variable: 'Price_in_millions'."
   ]
  },
  {
   "cell_type": "code",
   "execution_count": 10,
   "metadata": {},
   "outputs": [],
   "source": [
    "y_train = np.log(y_train)\n",
    "y_test = np.log(y_test)"
   ]
  },
  {
   "cell_type": "markdown",
   "metadata": {
    "id": "jwBLgIN4xqAm"
   },
   "source": [
    "## 2. Missing Values"
   ]
  },
  {
   "cell_type": "code",
   "execution_count": 11,
   "metadata": {
    "id": "wKMWMCFYxqAm",
    "tags": []
   },
   "outputs": [
    {
     "data": {
      "text/html": [
       "<div>\n",
       "<style scoped>\n",
       "    .dataframe tbody tr th:only-of-type {\n",
       "        vertical-align: middle;\n",
       "    }\n",
       "\n",
       "    .dataframe tbody tr th {\n",
       "        vertical-align: top;\n",
       "    }\n",
       "\n",
       "    .dataframe thead th {\n",
       "        text-align: right;\n",
       "    }\n",
       "</style>\n",
       "<table border=\"1\" class=\"dataframe\">\n",
       "  <thead>\n",
       "    <tr style=\"text-align: right;\">\n",
       "      <th></th>\n",
       "      <th>Count</th>\n",
       "      <th>Percent</th>\n",
       "    </tr>\n",
       "  </thead>\n",
       "  <tbody>\n",
       "    <tr>\n",
       "      <th>Elevators</th>\n",
       "      <td>8628</td>\n",
       "      <td>87.870455</td>\n",
       "    </tr>\n",
       "    <tr>\n",
       "      <th>Floors_in_Building</th>\n",
       "      <td>8510</td>\n",
       "      <td>86.668704</td>\n",
       "    </tr>\n",
       "    <tr>\n",
       "      <th>Built_in_year_year</th>\n",
       "      <td>7451</td>\n",
       "      <td>75.883491</td>\n",
       "    </tr>\n",
       "    <tr>\n",
       "      <th>Bathrooms</th>\n",
       "      <td>942</td>\n",
       "      <td>9.593645</td>\n",
       "    </tr>\n",
       "    <tr>\n",
       "      <th>Bedrooms</th>\n",
       "      <td>722</td>\n",
       "      <td>7.353091</td>\n",
       "    </tr>\n",
       "    <tr>\n",
       "      <th>Size_in_SqYds</th>\n",
       "      <td>215</td>\n",
       "      <td>2.189632</td>\n",
       "    </tr>\n",
       "  </tbody>\n",
       "</table>\n",
       "</div>"
      ],
      "text/plain": [
       "                    Count    Percent\n",
       "Elevators            8628  87.870455\n",
       "Floors_in_Building   8510  86.668704\n",
       "Built_in_year_year   7451  75.883491\n",
       "Bathrooms             942   9.593645\n",
       "Bedrooms              722   7.353091\n",
       "Size_in_SqYds         215   2.189632"
      ]
     },
     "execution_count": 11,
     "metadata": {},
     "output_type": "execute_result"
    }
   ],
   "source": [
    "# to display all the columns of the dataframe in the notebook\n",
    "pd.pandas.set_option('display.max_rows', None)\n",
    "missing_data = pd.DataFrame(data.isnull().sum().sort_values(ascending = False), columns = ['Count'])\n",
    "missing_data['Percent'] = (missing_data['Count'] / len(data)) * 100\n",
    "# ingnoring the count which is 0 and display the result which has missing data\n",
    "missing_data = missing_data[missing_data['Count'] > 0]\n",
    "missing_data"
   ]
  },
  {
   "cell_type": "markdown",
   "metadata": {
    "id": "AicLt5SDxqAn"
   },
   "source": [
    "### Impute missing values for Numerical variables"
   ]
  },
  {
   "cell_type": "markdown",
   "metadata": {
    "id": "HlBeOZyNxqAn"
   },
   "source": [
    "To engineer missing values in numerical variables, we will:\n",
    "\n",
    "- add a binary missing indicator variable\n",
    "- and then replace the missing values in the original variable with the mean"
   ]
  },
  {
   "cell_type": "code",
   "execution_count": 12,
   "metadata": {
    "id": "65jktwY1xqAo"
   },
   "outputs": [],
   "source": [
    "# let's identify the categorical variables we will capture those of type *object*\n",
    "cat_vars = [var for var in data.columns if data[var].dtype == 'O']"
   ]
  },
  {
   "cell_type": "code",
   "execution_count": 13,
   "metadata": {
    "id": "yUykPA0JxqAo"
   },
   "outputs": [
    {
     "name": "stdout",
     "output_type": "stream",
     "text": [
      "Total number of numerical variables: 51\n"
     ]
    }
   ],
   "source": [
    "# now let's identify the numerical variables\n",
    "num_vars = [var for var in data.columns if var not in cat_vars and var != 'Price_in_millions']\n",
    "\n",
    "# number of numerical variables\n",
    "print(f\"Total number of numerical variables: {len(num_vars)}\")"
   ]
  },
  {
   "cell_type": "code",
   "execution_count": 14,
   "metadata": {
    "id": "8_eEI-5dxqAp"
   },
   "outputs": [
    {
     "name": "stdout",
     "output_type": "stream",
     "text": [
      "Numerical variables with missing values in percent:\n",
      "---------------------------------------------------\n",
      "Elevators             0.878705\n",
      "Floors_in_Building    0.866687\n",
      "Built_in_year_year    0.758835\n",
      "Bathrooms             0.095936\n",
      "Bedrooms              0.073531\n",
      "Size_in_SqYds         0.021896\n",
      "dtype: float64\n"
     ]
    }
   ],
   "source": [
    "# make a list with the numerical variables that contain missing values\n",
    "vars_with_na = [var for var in num_vars if data[var].isnull().sum() > 0]\n",
    "\n",
    "# print percentage of missing values per variable\n",
    "print(f\"Numerical variables with missing values in percent:\")\n",
    "print(\"-\" * 51)\n",
    "print(data[vars_with_na].isnull().mean().sort_values(ascending = False))"
   ]
  },
  {
   "cell_type": "code",
   "execution_count": 15,
   "metadata": {
    "id": "lXOeih8FxqAq"
   },
   "outputs": [
    {
     "name": "stdout",
     "output_type": "stream",
     "text": [
      "Numerical variables with missing values:\n",
      "----------------------------------------\n",
      "['Bedrooms', 'Bathrooms', 'Size_in_SqYds', 'Floors_in_Building', 'Elevators', 'Built_in_year_year']\n"
     ]
    }
   ],
   "source": [
    "# Numerical variables with missing values\n",
    "print('Numerical variables with missing values:')\n",
    "print('-' * 40)\n",
    "print(vars_with_na)"
   ]
  },
  {
   "cell_type": "code",
   "execution_count": 16,
   "metadata": {
    "id": "FNk6UxHtxqAr"
   },
   "outputs": [
    {
     "name": "stdout",
     "output_type": "stream",
     "text": [
      "['Bedrooms_na', 'Bathrooms_na', 'Size_in_SqYds_na', 'Floors_in_Building_na', 'Elevators_na', 'Built_in_year_year_na']\n"
     ]
    }
   ],
   "source": [
    "vars_with_na_concatenated = [var + '_na' for var in vars_with_na]\n",
    "print(vars_with_na_concatenated)"
   ]
  },
  {
   "cell_type": "code",
   "execution_count": 17,
   "metadata": {
    "id": "jORfb9z-xqAs"
   },
   "outputs": [],
   "source": [
    "# add missing indicator\n",
    "if len(vars_with_na) > 0:\n",
    "\n",
    "    missing_ind = AddMissingIndicator(variables = vars_with_na)\n",
    "    \n",
    "    missing_ind.fit(X_train)\n",
    "\n",
    "    X_train = missing_ind.transform(X_train)\n",
    "    X_test = missing_ind.transform(X_test)\n",
    "    \n",
    "else:\n",
    "    print('No numerical variables with missing values')"
   ]
  },
  {
   "cell_type": "code",
   "execution_count": 18,
   "metadata": {},
   "outputs": [
    {
     "data": {
      "text/html": [
       "<div>\n",
       "<style scoped>\n",
       "    .dataframe tbody tr th:only-of-type {\n",
       "        vertical-align: middle;\n",
       "    }\n",
       "\n",
       "    .dataframe tbody tr th {\n",
       "        vertical-align: top;\n",
       "    }\n",
       "\n",
       "    .dataframe thead th {\n",
       "        text-align: right;\n",
       "    }\n",
       "</style>\n",
       "<table border=\"1\" class=\"dataframe\">\n",
       "  <thead>\n",
       "    <tr style=\"text-align: right;\">\n",
       "      <th></th>\n",
       "      <th>Bedrooms_na</th>\n",
       "      <th>Bathrooms_na</th>\n",
       "      <th>Size_in_SqYds_na</th>\n",
       "      <th>Floors_in_Building_na</th>\n",
       "      <th>Elevators_na</th>\n",
       "      <th>Built_in_year_year_na</th>\n",
       "    </tr>\n",
       "  </thead>\n",
       "  <tbody>\n",
       "    <tr>\n",
       "      <th>4093</th>\n",
       "      <td>0</td>\n",
       "      <td>0</td>\n",
       "      <td>0</td>\n",
       "      <td>0</td>\n",
       "      <td>0</td>\n",
       "      <td>0</td>\n",
       "    </tr>\n",
       "    <tr>\n",
       "      <th>6926</th>\n",
       "      <td>0</td>\n",
       "      <td>0</td>\n",
       "      <td>0</td>\n",
       "      <td>1</td>\n",
       "      <td>1</td>\n",
       "      <td>0</td>\n",
       "    </tr>\n",
       "    <tr>\n",
       "      <th>4266</th>\n",
       "      <td>0</td>\n",
       "      <td>0</td>\n",
       "      <td>0</td>\n",
       "      <td>1</td>\n",
       "      <td>1</td>\n",
       "      <td>1</td>\n",
       "    </tr>\n",
       "    <tr>\n",
       "      <th>10058</th>\n",
       "      <td>0</td>\n",
       "      <td>0</td>\n",
       "      <td>0</td>\n",
       "      <td>1</td>\n",
       "      <td>1</td>\n",
       "      <td>1</td>\n",
       "    </tr>\n",
       "    <tr>\n",
       "      <th>11640</th>\n",
       "      <td>0</td>\n",
       "      <td>0</td>\n",
       "      <td>0</td>\n",
       "      <td>1</td>\n",
       "      <td>1</td>\n",
       "      <td>1</td>\n",
       "    </tr>\n",
       "  </tbody>\n",
       "</table>\n",
       "</div>"
      ],
      "text/plain": [
       "       Bedrooms_na  Bathrooms_na  Size_in_SqYds_na  Floors_in_Building_na  \\\n",
       "4093             0             0                 0                      0   \n",
       "6926             0             0                 0                      1   \n",
       "4266             0             0                 0                      1   \n",
       "10058            0             0                 0                      1   \n",
       "11640            0             0                 0                      1   \n",
       "\n",
       "       Elevators_na  Built_in_year_year_na  \n",
       "4093              0                      0  \n",
       "6926              1                      0  \n",
       "4266              1                      1  \n",
       "10058             1                      1  \n",
       "11640             1                      1  "
      ]
     },
     "execution_count": 18,
     "metadata": {},
     "output_type": "execute_result"
    }
   ],
   "source": [
    "# check the binary missing indicator variables in the train set\n",
    "X_train[vars_with_na_concatenated].head()"
   ]
  },
  {
   "cell_type": "code",
   "execution_count": 19,
   "metadata": {},
   "outputs": [
    {
     "data": {
      "text/html": [
       "<div>\n",
       "<style scoped>\n",
       "    .dataframe tbody tr th:only-of-type {\n",
       "        vertical-align: middle;\n",
       "    }\n",
       "\n",
       "    .dataframe tbody tr th {\n",
       "        vertical-align: top;\n",
       "    }\n",
       "\n",
       "    .dataframe thead th {\n",
       "        text-align: right;\n",
       "    }\n",
       "</style>\n",
       "<table border=\"1\" class=\"dataframe\">\n",
       "  <thead>\n",
       "    <tr style=\"text-align: right;\">\n",
       "      <th></th>\n",
       "      <th>Bedrooms_na</th>\n",
       "      <th>Bathrooms_na</th>\n",
       "      <th>Size_in_SqYds_na</th>\n",
       "      <th>Floors_in_Building_na</th>\n",
       "      <th>Elevators_na</th>\n",
       "      <th>Built_in_year_year_na</th>\n",
       "    </tr>\n",
       "  </thead>\n",
       "  <tbody>\n",
       "    <tr>\n",
       "      <th>13793</th>\n",
       "      <td>0</td>\n",
       "      <td>0</td>\n",
       "      <td>0</td>\n",
       "      <td>1</td>\n",
       "      <td>1</td>\n",
       "      <td>1</td>\n",
       "    </tr>\n",
       "    <tr>\n",
       "      <th>11589</th>\n",
       "      <td>0</td>\n",
       "      <td>0</td>\n",
       "      <td>0</td>\n",
       "      <td>1</td>\n",
       "      <td>1</td>\n",
       "      <td>1</td>\n",
       "    </tr>\n",
       "    <tr>\n",
       "      <th>3549</th>\n",
       "      <td>0</td>\n",
       "      <td>0</td>\n",
       "      <td>0</td>\n",
       "      <td>1</td>\n",
       "      <td>1</td>\n",
       "      <td>1</td>\n",
       "    </tr>\n",
       "    <tr>\n",
       "      <th>13320</th>\n",
       "      <td>1</td>\n",
       "      <td>1</td>\n",
       "      <td>0</td>\n",
       "      <td>1</td>\n",
       "      <td>1</td>\n",
       "      <td>1</td>\n",
       "    </tr>\n",
       "    <tr>\n",
       "      <th>7658</th>\n",
       "      <td>1</td>\n",
       "      <td>1</td>\n",
       "      <td>0</td>\n",
       "      <td>1</td>\n",
       "      <td>1</td>\n",
       "      <td>1</td>\n",
       "    </tr>\n",
       "  </tbody>\n",
       "</table>\n",
       "</div>"
      ],
      "text/plain": [
       "       Bedrooms_na  Bathrooms_na  Size_in_SqYds_na  Floors_in_Building_na  \\\n",
       "13793            0             0                 0                      1   \n",
       "11589            0             0                 0                      1   \n",
       "3549             0             0                 0                      1   \n",
       "13320            1             1                 0                      1   \n",
       "7658             1             1                 0                      1   \n",
       "\n",
       "       Elevators_na  Built_in_year_year_na  \n",
       "13793             1                      1  \n",
       "11589             1                      1  \n",
       "3549              1                      1  \n",
       "13320             1                      1  \n",
       "7658              1                      1  "
      ]
     },
     "execution_count": 19,
     "metadata": {},
     "output_type": "execute_result"
    }
   ],
   "source": [
    "# check the binary missing indicator variables in the test set\n",
    "X_test[vars_with_na_concatenated].head()"
   ]
  },
  {
   "cell_type": "code",
   "execution_count": 20,
   "metadata": {
    "id": "lLVLWn8hxqAu"
   },
   "outputs": [
    {
     "data": {
      "text/plain": [
       "{'Bedrooms': 3.7471559633027525,\n",
       " 'Bathrooms': 3.876346780255575,\n",
       " 'Size_in_SqYds': 260.6207774178621,\n",
       " 'Floors_in_Building': 11.084398976982097,\n",
       " 'Elevators': 2.527001862197393,\n",
       " 'Built_in_year_year': 2018.1284575714956}"
      ]
     },
     "execution_count": 20,
     "metadata": {},
     "output_type": "execute_result"
    }
   ],
   "source": [
    "# Now replace missing data with the mean\n",
    "\n",
    "# set the imputer\n",
    "mean_imputer = MeanMedianImputer(imputation_method = 'mean', variables = vars_with_na)\n",
    "\n",
    "# learn and store parameters from train set\n",
    "mean_imputer.fit(X_train)\n",
    "\n",
    "# the stored parameters\n",
    "mean_imputer.imputer_dict_"
   ]
  },
  {
   "cell_type": "code",
   "execution_count": 21,
   "metadata": {
    "id": "OupMwYtixqAv"
   },
   "outputs": [],
   "source": [
    "X_train = mean_imputer.transform(X_train)\n",
    "X_test = mean_imputer.transform(X_test)"
   ]
  },
  {
   "cell_type": "code",
   "execution_count": 22,
   "metadata": {},
   "outputs": [
    {
     "data": {
      "text/plain": [
       "Bedrooms              0\n",
       "Bathrooms             0\n",
       "Size_in_SqYds         0\n",
       "Floors_in_Building    0\n",
       "Elevators             0\n",
       "Built_in_year_year    0\n",
       "dtype: int64"
      ]
     },
     "execution_count": 22,
     "metadata": {},
     "output_type": "execute_result"
    }
   ],
   "source": [
    "# IMPORTANT: note that we could save the imputers with joblib\n",
    "# check that we have no more missing values in the engineered variables\n",
    "X_train[vars_with_na].isnull().sum()"
   ]
  },
  {
   "cell_type": "code",
   "execution_count": 23,
   "metadata": {},
   "outputs": [
    {
     "data": {
      "text/plain": [
       "Bedrooms              0\n",
       "Bathrooms             0\n",
       "Size_in_SqYds         0\n",
       "Floors_in_Building    0\n",
       "Elevators             0\n",
       "Built_in_year_year    0\n",
       "dtype: int64"
      ]
     },
     "execution_count": 23,
     "metadata": {},
     "output_type": "execute_result"
    }
   ],
   "source": [
    "# IMPORTANT: note that we could save the imputers with joblib\n",
    "# check that we have no more missing values in the engineered variables\n",
    "X_test[vars_with_na].isnull().sum()"
   ]
  },
  {
   "cell_type": "markdown",
   "metadata": {
    "id": "1I_1J0ioxqAw"
   },
   "source": [
    "#### 'Year'/Time Related variables"
   ]
  },
  {
   "cell_type": "code",
   "execution_count": 24,
   "metadata": {
    "id": "4IqNfjlrxqAw"
   },
   "outputs": [
    {
     "data": {
      "text/plain": [
       "['Built_in_year_year']"
      ]
     },
     "execution_count": 24,
     "metadata": {},
     "output_type": "execute_result"
    }
   ],
   "source": [
    "# list of variables that contain year information\n",
    "year_vars = [var for var in num_vars if 'Yr' in var or 'Built_in_year_year' in var]\n",
    "year_vars"
   ]
  },
  {
   "cell_type": "code",
   "execution_count": 25,
   "metadata": {
    "id": "r2FeVa3LxqAx"
   },
   "outputs": [
    {
     "name": "stdout",
     "output_type": "stream",
     "text": [
      "Current Year: 2023\n"
     ]
    }
   ],
   "source": [
    "current_year = datetime.now().year\n",
    "print(f'Current Year: {current_year}')"
   ]
  },
  {
   "cell_type": "code",
   "execution_count": 26,
   "metadata": {
    "id": "Si5tv-y1xqAy"
   },
   "outputs": [],
   "source": [
    "def elapsed_years(df, current_year):\n",
    "    # capture difference between the year variable (i.e. when it was built) and the year now\n",
    "    df['CurrYr'] = current_year\n",
    "    df['Yrs_SinceBlt'] = df['CurrYr'] - df['Built_in_year_year']\n",
    "    return df\n",
    "\n",
    "X_train = elapsed_years(X_train, current_year)\n",
    "X_test = elapsed_years(X_test, current_year)\n",
    "#data.head(4)"
   ]
  },
  {
   "cell_type": "code",
   "execution_count": 27,
   "metadata": {
    "id": "03PY63fgxqAz"
   },
   "outputs": [],
   "source": [
    "#data.columns"
   ]
  },
  {
   "cell_type": "code",
   "execution_count": 28,
   "metadata": {
    "id": "0iy5OYAUxqA0"
   },
   "outputs": [],
   "source": [
    "# now we drop 'Year' and 'CurrYr'\n",
    "drop_features = DropFeatures(features_to_drop = ['Built_in_year_year', 'CurrYr'])\n",
    "X_train = drop_features.fit_transform(X_train)\n",
    "X_test = drop_features.fit_transform(X_test)"
   ]
  },
  {
   "cell_type": "markdown",
   "metadata": {
    "id": "hWV4MEZQxqA1"
   },
   "source": [
    "### Impute missing values for Categorical variables\n",
    "\n",
    "We will replace missing values with the string \"missing\" in those variables with a lot of missing data. \n",
    "\n",
    "Alternatively, we will replace missing data with the most frequent category in those variables that contain fewer observations without values. \n",
    "\n",
    "This is common practice."
   ]
  },
  {
   "cell_type": "markdown",
   "metadata": {
    "id": "r6en--6PxqA2"
   },
   "source": [
    "Here, we don't have any categorical variable that have missing values, but for demonstration purpose we include the following code to show how to deal with if there is any"
   ]
  },
  {
   "cell_type": "code",
   "execution_count": 29,
   "metadata": {
    "id": "2xUXFIxnxqA2",
    "tags": []
   },
   "outputs": [
    {
     "name": "stdout",
     "output_type": "stream",
     "text": [
      "Number of categorical variables:  2\n",
      "-----------------------------------\n",
      "\n",
      "List of categorical variables:  ['Location1', 'Type']\n",
      "-----------------------------------------------------\n",
      "\n",
      "                                           Location1   Type\n",
      "0                           DHA Phase 6, DHA Defence  House\n",
      "1        Saadi Town - Block 3, Saadi Town, Scheme 33  House\n",
      "2     Bahria Town - Precinct 19, Bahria Town Karachi   Flat\n",
      "3  Askari 5 - Sector J, Askari 5, Malir Cantonmen...  House\n",
      "4  Bahria Town - Precinct 35, Bahria Sports City,...  House\n"
     ]
    }
   ],
   "source": [
    "# let's identify the categorical variables we will capture those of type *object*\n",
    "cat_vars = [var for var in data.columns if data[var].dtype == 'O']\n",
    "\n",
    "# number of categorical variables\n",
    "len(cat_vars)\n",
    "\n",
    "# cast all variables as categorical\n",
    "# data[cat_vars] = data[cat_vars].astype('O')\n",
    "\n",
    "print('Number of categorical variables: ', len(cat_vars))\n",
    "print('-' * 35)\n",
    "print('')\n",
    "\n",
    "print('List of categorical variables: ', cat_vars)\n",
    "print('-' * 53)\n",
    "print('')\n",
    "\n",
    "# visualise the categorical variables\n",
    "print(data[cat_vars].head())"
   ]
  },
  {
   "cell_type": "code",
   "execution_count": 30,
   "metadata": {
    "id": "obOF591jxqA3"
   },
   "outputs": [
    {
     "name": "stdout",
     "output_type": "stream",
     "text": [
      "Percentage of missing values per variable: Series([], dtype: float64)\n"
     ]
    }
   ],
   "source": [
    "# make a list of the categorical variables that contain missing values\n",
    "cat_vars_with_na = [var for var in cat_vars if data[var].isnull().sum() > 0]\n",
    "\n",
    "# print percentage of missing values per variable\n",
    "print(f'Percentage of missing values per variable: {data[cat_vars_with_na ].isnull().mean().sort_values(ascending = False)}')"
   ]
  },
  {
   "cell_type": "code",
   "execution_count": 31,
   "metadata": {
    "id": "78MUh4B8xqA6"
   },
   "outputs": [],
   "source": [
    "# variables to impute with the string missing\n",
    "with_string_missing = [var for var in cat_vars_with_na if data[var].isnull().mean() > 0.1]\n",
    "\n",
    "# variables to impute with the most frequent category\n",
    "with_frequent_category = [var for var in cat_vars_with_na if data[var].isnull().mean() < 0.1]"
   ]
  },
  {
   "cell_type": "code",
   "execution_count": 32,
   "metadata": {
    "id": "Wu8B2h1ExqA6"
   },
   "outputs": [
    {
     "name": "stdout",
     "output_type": "stream",
     "text": [
      "Variables to impute with the string missing: []\n"
     ]
    }
   ],
   "source": [
    "print(f'Variables to impute with the string missing: {with_string_missing}')"
   ]
  },
  {
   "cell_type": "code",
   "execution_count": 33,
   "metadata": {
    "id": "eebieYxixqA7"
   },
   "outputs": [
    {
     "name": "stdout",
     "output_type": "stream",
     "text": [
      "Variables to impute with the most frequent category: []\n"
     ]
    }
   ],
   "source": [
    "print(f'Variables to impute with the most frequent category: {with_frequent_category}')"
   ]
  },
  {
   "cell_type": "code",
   "execution_count": 34,
   "metadata": {
    "id": "Noz30X9gxqA8"
   },
   "outputs": [
    {
     "name": "stdout",
     "output_type": "stream",
     "text": [
      "No categorical variables with missing values\n"
     ]
    }
   ],
   "source": [
    "# replace missing values with new label: \"Missing\"\n",
    "\n",
    "if len(with_string_missing) > 0:\n",
    "    # replace missing values with new label: \"Missing\"\n",
    "\n",
    "    # set up the class\n",
    "    cat_imputer_missing = CategoricalImputer(\n",
    "        imputation_method = 'missing', variables = with_string_missing)\n",
    "\n",
    "    # fit the class to the train set\n",
    "    cat_imputer_missing.fit(X_train)\n",
    "\n",
    "    # the class learns and stores the parameters\n",
    "    print(\"Cat Imputer Missing: \", cat_imputer_missing.imputer_dict_)\n",
    "    \n",
    "    # replace NA by missing\n",
    "    # IMPORTANT: note that we could store this class with joblib\n",
    "    X_train = cat_imputer_missing.transform(X_train)\n",
    "    X_test = cat_imputer_missing.transform(X_test)\n",
    "    \n",
    "else:\n",
    "    print('No categorical variables with missing values')\n",
    "    "
   ]
  },
  {
   "cell_type": "code",
   "execution_count": 35,
   "metadata": {
    "id": "qbH4LYRFxqA9"
   },
   "outputs": [
    {
     "name": "stdout",
     "output_type": "stream",
     "text": [
      "No categorical variables with missing values\n"
     ]
    }
   ],
   "source": [
    "# replace missing values with most frequent category\n",
    "if len(with_frequent_category) > 0:\n",
    "    # set up the class\n",
    "    cat_imputer_frequent = CategoricalImputer(\n",
    "        imputation_method = 'frequent', variables = with_frequent_category)\n",
    "\n",
    "    # fit the class to the train set\n",
    "    cat_imputer_frequent.fit(X_train)\n",
    "\n",
    "    # the class learns and stores the parameters\n",
    "    print(\"Cat Imputer Frequent: \", cat_imputer_frequent.imputer_dict_)\n",
    "    \n",
    "    # replace NA by missing\n",
    "    # IMPORTANT: note that we could store this class with joblib\n",
    "    X_train = cat_imputer_frequent.transform(X_train)\n",
    "    X_test = cat_imputer_frequent.transform(X_test)\n",
    "    \n",
    "else:\n",
    "    print('No categorical variables with missing values')"
   ]
  },
  {
   "cell_type": "code",
   "execution_count": 36,
   "metadata": {
    "id": "PrQQL7vjxqA-"
   },
   "outputs": [
    {
     "name": "stdout",
     "output_type": "stream",
     "text": [
      "check that we have no missing information in the engineered variables of the train set\n",
      "---------------------------------------------------------------------\n",
      "Series([], dtype: float64)\n"
     ]
    }
   ],
   "source": [
    "# check that we have no missing information in the engineered variables\n",
    "print('check that we have no missing information in the engineered variables of the train set')\n",
    "print('-' * 69)\n",
    "print(X_train[cat_vars_with_na].isnull().sum())"
   ]
  },
  {
   "cell_type": "code",
   "execution_count": 37,
   "metadata": {},
   "outputs": [
    {
     "name": "stdout",
     "output_type": "stream",
     "text": [
      "check that we have no missing information in the engineered variables of the test set\n",
      "---------------------------------------------------------------------\n",
      "Series([], dtype: float64)\n"
     ]
    }
   ],
   "source": [
    "# check that we have no missing information in the engineered variables\n",
    "print('check that we have no missing information in the engineered variables of the test set')\n",
    "print('-' * 69)\n",
    "print(X_test[cat_vars_with_na].isnull().sum())"
   ]
  },
  {
   "cell_type": "code",
   "execution_count": 38,
   "metadata": {},
   "outputs": [
    {
     "data": {
      "text/plain": [
       "[]"
      ]
     },
     "execution_count": 38,
     "metadata": {},
     "output_type": "execute_result"
    }
   ],
   "source": [
    "# check absence of na in dataset\n",
    "[var for var in X_train.columns if X_train[var].isnull().sum() > 0]"
   ]
  },
  {
   "cell_type": "code",
   "execution_count": 39,
   "metadata": {},
   "outputs": [
    {
     "data": {
      "text/plain": [
       "[]"
      ]
     },
     "execution_count": 39,
     "metadata": {},
     "output_type": "execute_result"
    }
   ],
   "source": [
    "# check absence of na in dataset\n",
    "[var for var in X_test.columns if X_test[var].isnull().sum() > 0]"
   ]
  },
  {
   "cell_type": "markdown",
   "metadata": {
    "id": "QrYKsYZ6xqBB"
   },
   "source": [
    "## Convert Datatypes of Columns"
   ]
  },
  {
   "cell_type": "code",
   "execution_count": 40,
   "metadata": {
    "id": "zmdYhnSkxqBB"
   },
   "outputs": [],
   "source": [
    "#convert all float64 columns to int32/float32\n",
    "# float_cols = ['Bedrooms', 'Bathrooms', 'Floors_in_Building', 'Elevators', 'Year']\n",
    "float_cols = ['Bedrooms', 'Bathrooms', 'Floors_in_Building', 'Elevators', 'Yrs_SinceBlt']\n",
    "X_train[float_cols] = X_train[float_cols].astype('int32')\n",
    "X_test[float_cols] = X_test[float_cols].astype('int32')\n",
    "\n",
    "\n",
    "int64_cols = data.select_dtypes(include = ['int64']).columns\n",
    "X_train[int64_cols] = X_train[int64_cols].astype('int32')\n",
    "X_test[int64_cols] = X_test[int64_cols].astype('int32')\n",
    "\n",
    "\n",
    "float64_cols = ['Size_in_SqYds']\n",
    "X_train[float64_cols] = X_train[float64_cols].astype('float32')\n",
    "X_test[float64_cols] = X_test[float64_cols].astype('float32')\n"
   ]
  },
  {
   "cell_type": "markdown",
   "metadata": {
    "id": "a0SMJxBxxqBC"
   },
   "source": [
    "## Numerical variable transformation\n",
    "\n",
    "### Logarithmic transformation"
   ]
  },
  {
   "cell_type": "code",
   "execution_count": 41,
   "metadata": {},
   "outputs": [],
   "source": [
    "#X_train.columns"
   ]
  },
  {
   "cell_type": "code",
   "execution_count": 42,
   "metadata": {
    "id": "xAMCoVrkxqBD"
   },
   "outputs": [
    {
     "data": {
      "text/plain": [
       "['Yrs_SinceBlt']"
      ]
     },
     "execution_count": 42,
     "metadata": {},
     "output_type": "execute_result"
    }
   ],
   "source": [
    "year_vars = [var for var in X_train.columns if 'Yrs_SinceBlt' in var]\n",
    "year_vars"
   ]
  },
  {
   "cell_type": "code",
   "execution_count": 43,
   "metadata": {
    "id": "zZS-oByuxqBE"
   },
   "outputs": [
    {
     "data": {
      "text/plain": [
       "['Location1', 'Type']"
      ]
     },
     "execution_count": 43,
     "metadata": {},
     "output_type": "execute_result"
    }
   ],
   "source": [
    "cat_vars"
   ]
  },
  {
   "cell_type": "code",
   "execution_count": 44,
   "metadata": {
    "id": "0LwhK_yWxqBF"
   },
   "outputs": [],
   "source": [
    "num_vars = [\n",
    "    var for var in X_train.columns if var not in cat_vars and (var != 'Price_in_millions' and var != 'log_price' and 'Yrs_SinceBlt' not in var)\n",
    "]\n",
    "#num_vars"
   ]
  },
  {
   "cell_type": "code",
   "execution_count": 45,
   "metadata": {
    "id": "gMDz6J7nxqBF"
   },
   "outputs": [],
   "source": [
    "#  let's male a list of discrete variables\n",
    "\n",
    "discrete_vars = [var for var in num_vars if X_train[var].dtype != 'O' and \n",
    "                 X_train[var].dtype != 'float32' and \n",
    "                 X_train[var].dtype != 'float64'  and \n",
    "                 var not in year_vars\n",
    "                ]\n",
    "#discrete_vars"
   ]
  },
  {
   "cell_type": "code",
   "execution_count": 46,
   "metadata": {
    "id": "Rzw2KZt_xqBG"
   },
   "outputs": [
    {
     "name": "stdout",
     "output_type": "stream",
     "text": [
      "Number of continuous variables:  1\n",
      "----------------------------------\n",
      "Continuous variables:  ['Size_in_SqYds']\n"
     ]
    }
   ],
   "source": [
    "# make list of continuous variables\n",
    "cont_vars = [\n",
    "    var for var in num_vars if var not in discrete_vars + year_vars]\n",
    "\n",
    "print('Number of continuous variables: ', len(cont_vars))\n",
    "print('-' * 34)\n",
    "print('Continuous variables: ', cont_vars)"
   ]
  },
  {
   "cell_type": "code",
   "execution_count": 47,
   "metadata": {
    "id": "-BsF7ePaxqBH"
   },
   "outputs": [],
   "source": [
    "log_transformer = LogTransformer(variables = cont_vars)\n",
    "\n",
    "X_train = log_transformer.fit_transform(X_train)\n",
    "X_test = log_transformer.transform(X_test)"
   ]
  },
  {
   "cell_type": "markdown",
   "metadata": {},
   "source": [
    "## Check that dataset does not contain null values"
   ]
  },
  {
   "cell_type": "code",
   "execution_count": 48,
   "metadata": {
    "id": "EO5HsGAsxqBI"
   },
   "outputs": [
    {
     "data": {
      "text/plain": [
       "[]"
      ]
     },
     "execution_count": 48,
     "metadata": {},
     "output_type": "execute_result"
    }
   ],
   "source": [
    "# check that dataset does not contain null values in the train set\n",
    "[var for var in cont_vars if X_train[var].isnull().sum() > 0]"
   ]
  },
  {
   "cell_type": "code",
   "execution_count": 49,
   "metadata": {},
   "outputs": [
    {
     "data": {
      "text/plain": [
       "[]"
      ]
     },
     "execution_count": 49,
     "metadata": {},
     "output_type": "execute_result"
    }
   ],
   "source": [
    "# check that dataset does not contain null values in the test set\n",
    "[var for var in cont_vars if X_test[var].isnull().sum() > 0]"
   ]
  },
  {
   "cell_type": "markdown",
   "metadata": {
    "id": "oXB9t-J1xqBJ"
   },
   "source": [
    "## Categorical variables\n",
    "\n",
    "### Encoding categorical variable 'Type'"
   ]
  },
  {
   "cell_type": "code",
   "execution_count": 50,
   "metadata": {
    "id": "H0KtgKICxqBL"
   },
   "outputs": [
    {
     "data": {
      "text/plain": [
       "{'Type': {'Flat': 0, 'House': 1}}"
      ]
     },
     "execution_count": 50,
     "metadata": {},
     "output_type": "execute_result"
    }
   ],
   "source": [
    "# set up the encoder\n",
    "type_vars = ['Type']\n",
    "\n",
    "cat_encoder = OrdinalEncoder(encoding_method = 'ordered', variables = type_vars)\n",
    "\n",
    "# create the mappings\n",
    "cat_encoder.fit(X_train, y_train)\n",
    "\n",
    "# mappings are stored and class can be saved\n",
    "cat_encoder.encoder_dict_"
   ]
  },
  {
   "cell_type": "code",
   "execution_count": 51,
   "metadata": {},
   "outputs": [],
   "source": [
    "X_train = cat_encoder.transform(X_train)\n",
    "X_test = cat_encoder.transform(X_test)"
   ]
  },
  {
   "cell_type": "code",
   "execution_count": 52,
   "metadata": {},
   "outputs": [
    {
     "data": {
      "text/plain": [
       "(array([0, 1], dtype=int64), array([0, 1], dtype=int64))"
      ]
     },
     "execution_count": 52,
     "metadata": {},
     "output_type": "execute_result"
    }
   ],
   "source": [
    "X_train.Type.unique(), X_test.Type.unique()"
   ]
  },
  {
   "cell_type": "code",
   "execution_count": 53,
   "metadata": {
    "id": "A2wC0TTfxqBM"
   },
   "outputs": [],
   "source": [
    "# # re-map strings to numbers\n",
    "\n",
    "# type_mappings = {'Missing': 0, 'NA': 0, 'NaN': 0, 'Flat': 1, 'House': 2}\n",
    "\n",
    "# type_vars = ['Type']\n",
    "\n",
    "# for var in type_vars:\n",
    "#     data[var] = data[var].map(type_mappings)"
   ]
  },
  {
   "cell_type": "code",
   "execution_count": 54,
   "metadata": {
    "id": "OHIPtj6RxqBN"
   },
   "outputs": [],
   "source": [
    "#data['Type'].unique()"
   ]
  },
  {
   "cell_type": "markdown",
   "metadata": {
    "id": "CEHdxKM4xqBP"
   },
   "source": [
    "### Removing Rare Labels"
   ]
  },
  {
   "cell_type": "code",
   "execution_count": 55,
   "metadata": {
    "id": "FGePSpcLxqBQ"
   },
   "outputs": [
    {
     "name": "stdout",
     "output_type": "stream",
     "text": [
      "1\n",
      "['Location1']\n"
     ]
    }
   ],
   "source": [
    "# let's again identify the categorical variables\n",
    "# we will capture those of type *object*\n",
    "\n",
    "cat_vars = [var for var in data.columns if data[var].dtype == 'O']\n",
    "\n",
    "# capture the remaining categorical variables\n",
    "# (those that we did not re-map)\n",
    "\n",
    "cat_others = [\n",
    "    var for var in cat_vars if var not in type_vars\n",
    "]\n",
    "\n",
    "print(len(cat_others))\n",
    "print(cat_others)"
   ]
  },
  {
   "cell_type": "code",
   "execution_count": 56,
   "metadata": {
    "id": "1OBE0nd5xqBQ"
   },
   "outputs": [
    {
     "name": "stdout",
     "output_type": "stream",
     "text": [
      "{'Location1': ['DHA Phase 6, DHA Defence', 'DHA Phase 8, DHA Defence', 'Askari 5 - Sector J, Askari 5, Malir Cantonment, Cantt', 'Falcon Complex New Malir, Malir', 'DHA Phase 5, DHA Defence', 'Askari 5, Malir Cantonment, Cantt', 'DHA Phase 7, DHA Defence', 'Bahria Town Karachi', 'DHA Phase 4, DHA Defence', 'Navy Housing Scheme Karsaz', 'Bahria Apartments, Bahria Town Karachi']}\n",
      "11\n"
     ]
    }
   ],
   "source": [
    "# threshold_for_rare_labels = 0.0049\n",
    "# threshold_for_rare_labels = 0.0059\n",
    "# threshold_for_rare_labels = 0.0055\n",
    "threshold_for_rare_labels = 0.01\n",
    "\n",
    "rare_encoder = RareLabelEncoder(tol = threshold_for_rare_labels, n_categories = 1, variables = cat_others, replace_with = 'Rare')\n",
    "\n",
    "# find common labels\n",
    "rare_encoder.fit(X_train)\n",
    "\n",
    "# the common labels are stored, we can save the class\n",
    "# and then use it later :)\n",
    "print(rare_encoder.encoder_dict_)\n",
    "print(len(rare_encoder.encoder_dict_['Location1']))"
   ]
  },
  {
   "cell_type": "code",
   "execution_count": 57,
   "metadata": {},
   "outputs": [],
   "source": [
    "X_train = rare_encoder.transform(X_train)\n",
    "X_test = rare_encoder.transform(X_test)"
   ]
  },
  {
   "cell_type": "markdown",
   "metadata": {
    "id": "JKeM0Qr6xqBT"
   },
   "source": [
    "### Encoding of categorical variable 'Location1'"
   ]
  },
  {
   "cell_type": "code",
   "execution_count": 58,
   "metadata": {
    "id": "pItyKZloxqBT"
   },
   "outputs": [
    {
     "data": {
      "text/plain": [
       "{'Location1': {'Bahria Town Karachi': 0,\n",
       "  'Bahria Apartments, Bahria Town Karachi': 1,\n",
       "  'Rare': 2,\n",
       "  'Askari 5, Malir Cantonment, Cantt': 3,\n",
       "  'Askari 5 - Sector J, Askari 5, Malir Cantonment, Cantt': 4,\n",
       "  'DHA Phase 5, DHA Defence': 5,\n",
       "  'DHA Phase 4, DHA Defence': 6,\n",
       "  'DHA Phase 7, DHA Defence': 7,\n",
       "  'Falcon Complex New Malir, Malir': 8,\n",
       "  'DHA Phase 6, DHA Defence': 9,\n",
       "  'Navy Housing Scheme Karsaz': 10,\n",
       "  'DHA Phase 8, DHA Defence': 11}}"
      ]
     },
     "execution_count": 58,
     "metadata": {},
     "output_type": "execute_result"
    }
   ],
   "source": [
    "# set up the encoder\n",
    "cat_encoder = OrdinalEncoder(encoding_method = 'ordered', variables = cat_others)\n",
    "\n",
    "# create the mappings\n",
    "cat_encoder.fit(X_train, y_train)\n",
    "\n",
    "# mappings are stored and class can be saved\n",
    "cat_encoder.encoder_dict_"
   ]
  },
  {
   "cell_type": "code",
   "execution_count": 59,
   "metadata": {},
   "outputs": [],
   "source": [
    "X_train = cat_encoder.transform(X_train)\n",
    "X_test = cat_encoder.transform(X_test)"
   ]
  },
  {
   "cell_type": "markdown",
   "metadata": {
    "id": "Csc6sU10xqBa"
   },
   "source": [
    "## Feature Scaling"
   ]
  },
  {
   "cell_type": "code",
   "execution_count": 60,
   "metadata": {
    "id": "wzmNyIt8xqBf"
   },
   "outputs": [],
   "source": [
    "# create scaler\n",
    "scaler = MinMaxScaler()\n",
    "\n",
    "#  fit  the scaler to the train set\n",
    "scaler.fit(X_train) \n",
    "\n",
    "# transform the train and test set\n",
    "\n",
    "# sklearn returns numpy arrays, so we wrap the\n",
    "# array with a pandas dataframe\n",
    "\n",
    "X_train = pd.DataFrame(scaler.transform(X_train), columns = X_train.columns)\n",
    "\n",
    "X_test = pd.DataFrame(scaler.transform(X_test), columns = X_train.columns)"
   ]
  },
  {
   "cell_type": "code",
   "execution_count": 61,
   "metadata": {
    "id": "4wEZarNSxqBg"
   },
   "outputs": [
    {
     "data": {
      "text/html": [
       "<div>\n",
       "<style scoped>\n",
       "    .dataframe tbody tr th:only-of-type {\n",
       "        vertical-align: middle;\n",
       "    }\n",
       "\n",
       "    .dataframe tbody tr th {\n",
       "        vertical-align: top;\n",
       "    }\n",
       "\n",
       "    .dataframe thead th {\n",
       "        text-align: right;\n",
       "    }\n",
       "</style>\n",
       "<table border=\"1\" class=\"dataframe\">\n",
       "  <thead>\n",
       "    <tr style=\"text-align: right;\">\n",
       "      <th></th>\n",
       "      <th>Location1</th>\n",
       "      <th>Type</th>\n",
       "      <th>Bedrooms</th>\n",
       "      <th>Bathrooms</th>\n",
       "      <th>Size_in_SqYds</th>\n",
       "      <th>Parking_Spaces</th>\n",
       "      <th>Floors_in_Building</th>\n",
       "      <th>Elevators</th>\n",
       "      <th>Lobby_in_Building</th>\n",
       "      <th>Double_Glazed_Windows</th>\n",
       "      <th>Central_Air_Conditioning</th>\n",
       "      <th>Central_Heating</th>\n",
       "      <th>Waste_Disposal</th>\n",
       "      <th>Furnished</th>\n",
       "      <th>Service_Elevators_in_Building</th>\n",
       "      <th>Flooring</th>\n",
       "      <th>Electricity_Backup</th>\n",
       "      <th>Servant_Quarters</th>\n",
       "      <th>Study_Room</th>\n",
       "      <th>Prayer_Room</th>\n",
       "      <th>Powder_Room</th>\n",
       "      <th>Gym</th>\n",
       "      <th>Lounge_or_Sitting_Room</th>\n",
       "      <th>Laundry_Room</th>\n",
       "      <th>Business_Center_or_Media_Room_in_Building</th>\n",
       "      <th>Satellite_or_Cable_TV_Ready</th>\n",
       "      <th>Broadband_Internet_Access</th>\n",
       "      <th>Intercom</th>\n",
       "      <th>Conference_Room_in_Building</th>\n",
       "      <th>Community_Swimming_Pool</th>\n",
       "      <th>Community_Lawn_or_Garden</th>\n",
       "      <th>Community_Gym</th>\n",
       "      <th>Community_Center</th>\n",
       "      <th>First_Aid_or_Medical_Centre</th>\n",
       "      <th>Day_Care_center</th>\n",
       "      <th>Kids_Play_Area</th>\n",
       "      <th>Mosque</th>\n",
       "      <th>Barbeque_Area</th>\n",
       "      <th>Lawn_or_Garden</th>\n",
       "      <th>Swimming_Pool</th>\n",
       "      <th>Sauna</th>\n",
       "      <th>Jacuzzi</th>\n",
       "      <th>Nearby_Schools</th>\n",
       "      <th>Nearby_Hospital</th>\n",
       "      <th>Nearby_Shopping_Malls</th>\n",
       "      <th>Nearby_Restaurants</th>\n",
       "      <th>Nearby_Public_Transport_Service</th>\n",
       "      <th>Other_Nearby_Places</th>\n",
       "      <th>Security_Staff</th>\n",
       "      <th>Maintainance_Staff</th>\n",
       "      <th>Laundry_or_Dry_Cleaning_Facility</th>\n",
       "      <th>Facilities_for_Disabled</th>\n",
       "      <th>Bedrooms_na</th>\n",
       "      <th>Bathrooms_na</th>\n",
       "      <th>Size_in_SqYds_na</th>\n",
       "      <th>Floors_in_Building_na</th>\n",
       "      <th>Elevators_na</th>\n",
       "      <th>Built_in_year_year_na</th>\n",
       "      <th>Yrs_SinceBlt</th>\n",
       "    </tr>\n",
       "  </thead>\n",
       "  <tbody>\n",
       "    <tr>\n",
       "      <th>0</th>\n",
       "      <td>0.363636</td>\n",
       "      <td>0.0</td>\n",
       "      <td>0.2</td>\n",
       "      <td>0.333333</td>\n",
       "      <td>0.362916</td>\n",
       "      <td>0.010</td>\n",
       "      <td>0.208333</td>\n",
       "      <td>0.045455</td>\n",
       "      <td>1.0</td>\n",
       "      <td>1.0</td>\n",
       "      <td>1.0</td>\n",
       "      <td>1.0</td>\n",
       "      <td>1.0</td>\n",
       "      <td>1.0</td>\n",
       "      <td>1.0</td>\n",
       "      <td>1.0</td>\n",
       "      <td>1.0</td>\n",
       "      <td>0.0</td>\n",
       "      <td>0.0</td>\n",
       "      <td>0.0</td>\n",
       "      <td>0.0</td>\n",
       "      <td>0.0</td>\n",
       "      <td>0.0</td>\n",
       "      <td>0.0</td>\n",
       "      <td>0.0</td>\n",
       "      <td>0.0</td>\n",
       "      <td>0.0</td>\n",
       "      <td>0.0</td>\n",
       "      <td>0.0</td>\n",
       "      <td>0.0</td>\n",
       "      <td>0.0</td>\n",
       "      <td>0.0</td>\n",
       "      <td>0.0</td>\n",
       "      <td>0.0</td>\n",
       "      <td>0.0</td>\n",
       "      <td>0.0</td>\n",
       "      <td>0.0</td>\n",
       "      <td>0.0</td>\n",
       "      <td>0.0</td>\n",
       "      <td>0.0</td>\n",
       "      <td>0.0</td>\n",
       "      <td>0.0</td>\n",
       "      <td>0.0</td>\n",
       "      <td>0.0</td>\n",
       "      <td>0.0</td>\n",
       "      <td>0.0</td>\n",
       "      <td>0.0</td>\n",
       "      <td>0.0</td>\n",
       "      <td>0.0</td>\n",
       "      <td>0.0</td>\n",
       "      <td>0.0</td>\n",
       "      <td>0.0</td>\n",
       "      <td>0.0</td>\n",
       "      <td>0.0</td>\n",
       "      <td>0.0</td>\n",
       "      <td>0.0</td>\n",
       "      <td>0.0</td>\n",
       "      <td>0.0</td>\n",
       "      <td>0.125000</td>\n",
       "    </tr>\n",
       "    <tr>\n",
       "      <th>1</th>\n",
       "      <td>0.545455</td>\n",
       "      <td>1.0</td>\n",
       "      <td>0.5</td>\n",
       "      <td>0.555556</td>\n",
       "      <td>0.360900</td>\n",
       "      <td>0.002</td>\n",
       "      <td>0.229167</td>\n",
       "      <td>0.045455</td>\n",
       "      <td>0.0</td>\n",
       "      <td>0.0</td>\n",
       "      <td>0.0</td>\n",
       "      <td>0.0</td>\n",
       "      <td>0.0</td>\n",
       "      <td>0.0</td>\n",
       "      <td>0.0</td>\n",
       "      <td>1.0</td>\n",
       "      <td>1.0</td>\n",
       "      <td>1.0</td>\n",
       "      <td>0.0</td>\n",
       "      <td>0.0</td>\n",
       "      <td>0.0</td>\n",
       "      <td>0.0</td>\n",
       "      <td>0.0</td>\n",
       "      <td>0.0</td>\n",
       "      <td>0.0</td>\n",
       "      <td>0.0</td>\n",
       "      <td>0.0</td>\n",
       "      <td>0.0</td>\n",
       "      <td>0.0</td>\n",
       "      <td>0.0</td>\n",
       "      <td>0.0</td>\n",
       "      <td>0.0</td>\n",
       "      <td>0.0</td>\n",
       "      <td>0.0</td>\n",
       "      <td>0.0</td>\n",
       "      <td>0.0</td>\n",
       "      <td>0.0</td>\n",
       "      <td>0.0</td>\n",
       "      <td>0.0</td>\n",
       "      <td>0.0</td>\n",
       "      <td>0.0</td>\n",
       "      <td>0.0</td>\n",
       "      <td>0.0</td>\n",
       "      <td>0.0</td>\n",
       "      <td>0.0</td>\n",
       "      <td>0.0</td>\n",
       "      <td>0.0</td>\n",
       "      <td>0.0</td>\n",
       "      <td>0.0</td>\n",
       "      <td>0.0</td>\n",
       "      <td>0.0</td>\n",
       "      <td>0.0</td>\n",
       "      <td>0.0</td>\n",
       "      <td>0.0</td>\n",
       "      <td>0.0</td>\n",
       "      <td>1.0</td>\n",
       "      <td>1.0</td>\n",
       "      <td>0.0</td>\n",
       "      <td>0.583333</td>\n",
       "    </tr>\n",
       "    <tr>\n",
       "      <th>2</th>\n",
       "      <td>0.181818</td>\n",
       "      <td>0.0</td>\n",
       "      <td>0.2</td>\n",
       "      <td>0.222222</td>\n",
       "      <td>0.290589</td>\n",
       "      <td>0.000</td>\n",
       "      <td>0.229167</td>\n",
       "      <td>0.045455</td>\n",
       "      <td>0.0</td>\n",
       "      <td>0.0</td>\n",
       "      <td>0.0</td>\n",
       "      <td>0.0</td>\n",
       "      <td>0.0</td>\n",
       "      <td>0.0</td>\n",
       "      <td>0.0</td>\n",
       "      <td>0.0</td>\n",
       "      <td>0.0</td>\n",
       "      <td>0.0</td>\n",
       "      <td>0.0</td>\n",
       "      <td>0.0</td>\n",
       "      <td>0.0</td>\n",
       "      <td>0.0</td>\n",
       "      <td>0.0</td>\n",
       "      <td>0.0</td>\n",
       "      <td>0.0</td>\n",
       "      <td>0.0</td>\n",
       "      <td>0.0</td>\n",
       "      <td>0.0</td>\n",
       "      <td>0.0</td>\n",
       "      <td>0.0</td>\n",
       "      <td>0.0</td>\n",
       "      <td>0.0</td>\n",
       "      <td>0.0</td>\n",
       "      <td>0.0</td>\n",
       "      <td>0.0</td>\n",
       "      <td>0.0</td>\n",
       "      <td>0.0</td>\n",
       "      <td>0.0</td>\n",
       "      <td>0.0</td>\n",
       "      <td>0.0</td>\n",
       "      <td>0.0</td>\n",
       "      <td>0.0</td>\n",
       "      <td>0.0</td>\n",
       "      <td>0.0</td>\n",
       "      <td>0.0</td>\n",
       "      <td>0.0</td>\n",
       "      <td>0.0</td>\n",
       "      <td>0.0</td>\n",
       "      <td>0.0</td>\n",
       "      <td>0.0</td>\n",
       "      <td>0.0</td>\n",
       "      <td>0.0</td>\n",
       "      <td>0.0</td>\n",
       "      <td>0.0</td>\n",
       "      <td>0.0</td>\n",
       "      <td>1.0</td>\n",
       "      <td>1.0</td>\n",
       "      <td>1.0</td>\n",
       "      <td>0.187500</td>\n",
       "    </tr>\n",
       "    <tr>\n",
       "      <th>3</th>\n",
       "      <td>0.181818</td>\n",
       "      <td>1.0</td>\n",
       "      <td>0.4</td>\n",
       "      <td>0.444444</td>\n",
       "      <td>0.326943</td>\n",
       "      <td>0.000</td>\n",
       "      <td>0.229167</td>\n",
       "      <td>0.045455</td>\n",
       "      <td>0.0</td>\n",
       "      <td>0.0</td>\n",
       "      <td>0.0</td>\n",
       "      <td>0.0</td>\n",
       "      <td>0.0</td>\n",
       "      <td>0.0</td>\n",
       "      <td>0.0</td>\n",
       "      <td>1.0</td>\n",
       "      <td>1.0</td>\n",
       "      <td>0.0</td>\n",
       "      <td>1.0</td>\n",
       "      <td>1.0</td>\n",
       "      <td>0.0</td>\n",
       "      <td>0.0</td>\n",
       "      <td>0.0</td>\n",
       "      <td>0.0</td>\n",
       "      <td>0.0</td>\n",
       "      <td>0.0</td>\n",
       "      <td>0.0</td>\n",
       "      <td>0.0</td>\n",
       "      <td>0.0</td>\n",
       "      <td>0.0</td>\n",
       "      <td>0.0</td>\n",
       "      <td>0.0</td>\n",
       "      <td>0.0</td>\n",
       "      <td>0.0</td>\n",
       "      <td>0.0</td>\n",
       "      <td>0.0</td>\n",
       "      <td>0.0</td>\n",
       "      <td>0.0</td>\n",
       "      <td>0.0</td>\n",
       "      <td>0.0</td>\n",
       "      <td>0.0</td>\n",
       "      <td>0.0</td>\n",
       "      <td>1.0</td>\n",
       "      <td>1.0</td>\n",
       "      <td>1.0</td>\n",
       "      <td>1.0</td>\n",
       "      <td>1.0</td>\n",
       "      <td>1.0</td>\n",
       "      <td>0.0</td>\n",
       "      <td>0.0</td>\n",
       "      <td>0.0</td>\n",
       "      <td>0.0</td>\n",
       "      <td>0.0</td>\n",
       "      <td>0.0</td>\n",
       "      <td>0.0</td>\n",
       "      <td>1.0</td>\n",
       "      <td>1.0</td>\n",
       "      <td>1.0</td>\n",
       "      <td>0.187500</td>\n",
       "    </tr>\n",
       "    <tr>\n",
       "      <th>4</th>\n",
       "      <td>0.181818</td>\n",
       "      <td>0.0</td>\n",
       "      <td>0.1</td>\n",
       "      <td>0.111111</td>\n",
       "      <td>0.088235</td>\n",
       "      <td>0.000</td>\n",
       "      <td>0.229167</td>\n",
       "      <td>0.045455</td>\n",
       "      <td>0.0</td>\n",
       "      <td>0.0</td>\n",
       "      <td>0.0</td>\n",
       "      <td>0.0</td>\n",
       "      <td>0.0</td>\n",
       "      <td>0.0</td>\n",
       "      <td>0.0</td>\n",
       "      <td>1.0</td>\n",
       "      <td>1.0</td>\n",
       "      <td>0.0</td>\n",
       "      <td>0.0</td>\n",
       "      <td>0.0</td>\n",
       "      <td>0.0</td>\n",
       "      <td>0.0</td>\n",
       "      <td>0.0</td>\n",
       "      <td>0.0</td>\n",
       "      <td>1.0</td>\n",
       "      <td>1.0</td>\n",
       "      <td>1.0</td>\n",
       "      <td>0.0</td>\n",
       "      <td>0.0</td>\n",
       "      <td>0.0</td>\n",
       "      <td>0.0</td>\n",
       "      <td>0.0</td>\n",
       "      <td>0.0</td>\n",
       "      <td>0.0</td>\n",
       "      <td>0.0</td>\n",
       "      <td>0.0</td>\n",
       "      <td>0.0</td>\n",
       "      <td>0.0</td>\n",
       "      <td>0.0</td>\n",
       "      <td>0.0</td>\n",
       "      <td>0.0</td>\n",
       "      <td>0.0</td>\n",
       "      <td>0.0</td>\n",
       "      <td>0.0</td>\n",
       "      <td>0.0</td>\n",
       "      <td>0.0</td>\n",
       "      <td>0.0</td>\n",
       "      <td>0.0</td>\n",
       "      <td>0.0</td>\n",
       "      <td>0.0</td>\n",
       "      <td>0.0</td>\n",
       "      <td>0.0</td>\n",
       "      <td>0.0</td>\n",
       "      <td>0.0</td>\n",
       "      <td>0.0</td>\n",
       "      <td>1.0</td>\n",
       "      <td>1.0</td>\n",
       "      <td>1.0</td>\n",
       "      <td>0.187500</td>\n",
       "    </tr>\n",
       "  </tbody>\n",
       "</table>\n",
       "</div>"
      ],
      "text/plain": [
       "   Location1  Type  Bedrooms  Bathrooms  Size_in_SqYds  Parking_Spaces  \\\n",
       "0   0.363636   0.0       0.2   0.333333       0.362916           0.010   \n",
       "1   0.545455   1.0       0.5   0.555556       0.360900           0.002   \n",
       "2   0.181818   0.0       0.2   0.222222       0.290589           0.000   \n",
       "3   0.181818   1.0       0.4   0.444444       0.326943           0.000   \n",
       "4   0.181818   0.0       0.1   0.111111       0.088235           0.000   \n",
       "\n",
       "   Floors_in_Building  Elevators  Lobby_in_Building  Double_Glazed_Windows  \\\n",
       "0            0.208333   0.045455                1.0                    1.0   \n",
       "1            0.229167   0.045455                0.0                    0.0   \n",
       "2            0.229167   0.045455                0.0                    0.0   \n",
       "3            0.229167   0.045455                0.0                    0.0   \n",
       "4            0.229167   0.045455                0.0                    0.0   \n",
       "\n",
       "   Central_Air_Conditioning  Central_Heating  Waste_Disposal  Furnished  \\\n",
       "0                       1.0              1.0             1.0        1.0   \n",
       "1                       0.0              0.0             0.0        0.0   \n",
       "2                       0.0              0.0             0.0        0.0   \n",
       "3                       0.0              0.0             0.0        0.0   \n",
       "4                       0.0              0.0             0.0        0.0   \n",
       "\n",
       "   Service_Elevators_in_Building  Flooring  Electricity_Backup  \\\n",
       "0                            1.0       1.0                 1.0   \n",
       "1                            0.0       1.0                 1.0   \n",
       "2                            0.0       0.0                 0.0   \n",
       "3                            0.0       1.0                 1.0   \n",
       "4                            0.0       1.0                 1.0   \n",
       "\n",
       "   Servant_Quarters  Study_Room  Prayer_Room  Powder_Room  Gym  \\\n",
       "0               0.0         0.0          0.0          0.0  0.0   \n",
       "1               1.0         0.0          0.0          0.0  0.0   \n",
       "2               0.0         0.0          0.0          0.0  0.0   \n",
       "3               0.0         1.0          1.0          0.0  0.0   \n",
       "4               0.0         0.0          0.0          0.0  0.0   \n",
       "\n",
       "   Lounge_or_Sitting_Room  Laundry_Room  \\\n",
       "0                     0.0           0.0   \n",
       "1                     0.0           0.0   \n",
       "2                     0.0           0.0   \n",
       "3                     0.0           0.0   \n",
       "4                     0.0           0.0   \n",
       "\n",
       "   Business_Center_or_Media_Room_in_Building  Satellite_or_Cable_TV_Ready  \\\n",
       "0                                        0.0                          0.0   \n",
       "1                                        0.0                          0.0   \n",
       "2                                        0.0                          0.0   \n",
       "3                                        0.0                          0.0   \n",
       "4                                        1.0                          1.0   \n",
       "\n",
       "   Broadband_Internet_Access  Intercom  Conference_Room_in_Building  \\\n",
       "0                        0.0       0.0                          0.0   \n",
       "1                        0.0       0.0                          0.0   \n",
       "2                        0.0       0.0                          0.0   \n",
       "3                        0.0       0.0                          0.0   \n",
       "4                        1.0       0.0                          0.0   \n",
       "\n",
       "   Community_Swimming_Pool  Community_Lawn_or_Garden  Community_Gym  \\\n",
       "0                      0.0                       0.0            0.0   \n",
       "1                      0.0                       0.0            0.0   \n",
       "2                      0.0                       0.0            0.0   \n",
       "3                      0.0                       0.0            0.0   \n",
       "4                      0.0                       0.0            0.0   \n",
       "\n",
       "   Community_Center  First_Aid_or_Medical_Centre  Day_Care_center  \\\n",
       "0               0.0                          0.0              0.0   \n",
       "1               0.0                          0.0              0.0   \n",
       "2               0.0                          0.0              0.0   \n",
       "3               0.0                          0.0              0.0   \n",
       "4               0.0                          0.0              0.0   \n",
       "\n",
       "   Kids_Play_Area  Mosque  Barbeque_Area  Lawn_or_Garden  Swimming_Pool  \\\n",
       "0             0.0     0.0            0.0             0.0            0.0   \n",
       "1             0.0     0.0            0.0             0.0            0.0   \n",
       "2             0.0     0.0            0.0             0.0            0.0   \n",
       "3             0.0     0.0            0.0             0.0            0.0   \n",
       "4             0.0     0.0            0.0             0.0            0.0   \n",
       "\n",
       "   Sauna  Jacuzzi  Nearby_Schools  Nearby_Hospital  Nearby_Shopping_Malls  \\\n",
       "0    0.0      0.0             0.0              0.0                    0.0   \n",
       "1    0.0      0.0             0.0              0.0                    0.0   \n",
       "2    0.0      0.0             0.0              0.0                    0.0   \n",
       "3    0.0      0.0             1.0              1.0                    1.0   \n",
       "4    0.0      0.0             0.0              0.0                    0.0   \n",
       "\n",
       "   Nearby_Restaurants  Nearby_Public_Transport_Service  Other_Nearby_Places  \\\n",
       "0                 0.0                              0.0                  0.0   \n",
       "1                 0.0                              0.0                  0.0   \n",
       "2                 0.0                              0.0                  0.0   \n",
       "3                 1.0                              1.0                  1.0   \n",
       "4                 0.0                              0.0                  0.0   \n",
       "\n",
       "   Security_Staff  Maintainance_Staff  Laundry_or_Dry_Cleaning_Facility  \\\n",
       "0             0.0                 0.0                               0.0   \n",
       "1             0.0                 0.0                               0.0   \n",
       "2             0.0                 0.0                               0.0   \n",
       "3             0.0                 0.0                               0.0   \n",
       "4             0.0                 0.0                               0.0   \n",
       "\n",
       "   Facilities_for_Disabled  Bedrooms_na  Bathrooms_na  Size_in_SqYds_na  \\\n",
       "0                      0.0          0.0           0.0               0.0   \n",
       "1                      0.0          0.0           0.0               0.0   \n",
       "2                      0.0          0.0           0.0               0.0   \n",
       "3                      0.0          0.0           0.0               0.0   \n",
       "4                      0.0          0.0           0.0               0.0   \n",
       "\n",
       "   Floors_in_Building_na  Elevators_na  Built_in_year_year_na  Yrs_SinceBlt  \n",
       "0                    0.0           0.0                    0.0      0.125000  \n",
       "1                    1.0           1.0                    0.0      0.583333  \n",
       "2                    1.0           1.0                    1.0      0.187500  \n",
       "3                    1.0           1.0                    1.0      0.187500  \n",
       "4                    1.0           1.0                    1.0      0.187500  "
      ]
     },
     "execution_count": 61,
     "metadata": {},
     "output_type": "execute_result"
    }
   ],
   "source": [
    "X_train.head()"
   ]
  },
  {
   "cell_type": "code",
   "execution_count": 62,
   "metadata": {
    "id": "0RZPqm1IxqBh"
   },
   "outputs": [
    {
     "data": {
      "text/html": [
       "<div>\n",
       "<style scoped>\n",
       "    .dataframe tbody tr th:only-of-type {\n",
       "        vertical-align: middle;\n",
       "    }\n",
       "\n",
       "    .dataframe tbody tr th {\n",
       "        vertical-align: top;\n",
       "    }\n",
       "\n",
       "    .dataframe thead th {\n",
       "        text-align: right;\n",
       "    }\n",
       "</style>\n",
       "<table border=\"1\" class=\"dataframe\">\n",
       "  <thead>\n",
       "    <tr style=\"text-align: right;\">\n",
       "      <th></th>\n",
       "      <th>Location1</th>\n",
       "      <th>Type</th>\n",
       "      <th>Bedrooms</th>\n",
       "      <th>Bathrooms</th>\n",
       "      <th>Size_in_SqYds</th>\n",
       "      <th>Parking_Spaces</th>\n",
       "      <th>Floors_in_Building</th>\n",
       "      <th>Elevators</th>\n",
       "      <th>Lobby_in_Building</th>\n",
       "      <th>Double_Glazed_Windows</th>\n",
       "      <th>Central_Air_Conditioning</th>\n",
       "      <th>Central_Heating</th>\n",
       "      <th>Waste_Disposal</th>\n",
       "      <th>Furnished</th>\n",
       "      <th>Service_Elevators_in_Building</th>\n",
       "      <th>Flooring</th>\n",
       "      <th>Electricity_Backup</th>\n",
       "      <th>Servant_Quarters</th>\n",
       "      <th>Study_Room</th>\n",
       "      <th>Prayer_Room</th>\n",
       "      <th>Powder_Room</th>\n",
       "      <th>Gym</th>\n",
       "      <th>Lounge_or_Sitting_Room</th>\n",
       "      <th>Laundry_Room</th>\n",
       "      <th>Business_Center_or_Media_Room_in_Building</th>\n",
       "      <th>Satellite_or_Cable_TV_Ready</th>\n",
       "      <th>Broadband_Internet_Access</th>\n",
       "      <th>Intercom</th>\n",
       "      <th>Conference_Room_in_Building</th>\n",
       "      <th>Community_Swimming_Pool</th>\n",
       "      <th>Community_Lawn_or_Garden</th>\n",
       "      <th>Community_Gym</th>\n",
       "      <th>Community_Center</th>\n",
       "      <th>First_Aid_or_Medical_Centre</th>\n",
       "      <th>Day_Care_center</th>\n",
       "      <th>Kids_Play_Area</th>\n",
       "      <th>Mosque</th>\n",
       "      <th>Barbeque_Area</th>\n",
       "      <th>Lawn_or_Garden</th>\n",
       "      <th>Swimming_Pool</th>\n",
       "      <th>Sauna</th>\n",
       "      <th>Jacuzzi</th>\n",
       "      <th>Nearby_Schools</th>\n",
       "      <th>Nearby_Hospital</th>\n",
       "      <th>Nearby_Shopping_Malls</th>\n",
       "      <th>Nearby_Restaurants</th>\n",
       "      <th>Nearby_Public_Transport_Service</th>\n",
       "      <th>Other_Nearby_Places</th>\n",
       "      <th>Security_Staff</th>\n",
       "      <th>Maintainance_Staff</th>\n",
       "      <th>Laundry_or_Dry_Cleaning_Facility</th>\n",
       "      <th>Facilities_for_Disabled</th>\n",
       "      <th>Bedrooms_na</th>\n",
       "      <th>Bathrooms_na</th>\n",
       "      <th>Size_in_SqYds_na</th>\n",
       "      <th>Floors_in_Building_na</th>\n",
       "      <th>Elevators_na</th>\n",
       "      <th>Built_in_year_year_na</th>\n",
       "      <th>Yrs_SinceBlt</th>\n",
       "    </tr>\n",
       "  </thead>\n",
       "  <tbody>\n",
       "    <tr>\n",
       "      <th>0</th>\n",
       "      <td>0.181818</td>\n",
       "      <td>0.0</td>\n",
       "      <td>0.1</td>\n",
       "      <td>0.111111</td>\n",
       "      <td>0.128161</td>\n",
       "      <td>0.000</td>\n",
       "      <td>0.229167</td>\n",
       "      <td>0.045455</td>\n",
       "      <td>0.0</td>\n",
       "      <td>0.0</td>\n",
       "      <td>0.0</td>\n",
       "      <td>0.0</td>\n",
       "      <td>0.0</td>\n",
       "      <td>0.0</td>\n",
       "      <td>0.0</td>\n",
       "      <td>0.0</td>\n",
       "      <td>0.0</td>\n",
       "      <td>0.0</td>\n",
       "      <td>0.0</td>\n",
       "      <td>0.0</td>\n",
       "      <td>0.0</td>\n",
       "      <td>0.0</td>\n",
       "      <td>0.0</td>\n",
       "      <td>0.0</td>\n",
       "      <td>0.0</td>\n",
       "      <td>0.0</td>\n",
       "      <td>0.0</td>\n",
       "      <td>0.0</td>\n",
       "      <td>0.0</td>\n",
       "      <td>0.0</td>\n",
       "      <td>0.0</td>\n",
       "      <td>0.0</td>\n",
       "      <td>0.0</td>\n",
       "      <td>0.0</td>\n",
       "      <td>0.0</td>\n",
       "      <td>0.0</td>\n",
       "      <td>0.0</td>\n",
       "      <td>0.0</td>\n",
       "      <td>0.0</td>\n",
       "      <td>0.0</td>\n",
       "      <td>0.0</td>\n",
       "      <td>0.0</td>\n",
       "      <td>0.0</td>\n",
       "      <td>0.0</td>\n",
       "      <td>0.0</td>\n",
       "      <td>0.0</td>\n",
       "      <td>0.0</td>\n",
       "      <td>0.0</td>\n",
       "      <td>0.0</td>\n",
       "      <td>0.0</td>\n",
       "      <td>0.0</td>\n",
       "      <td>0.0</td>\n",
       "      <td>0.0</td>\n",
       "      <td>0.0</td>\n",
       "      <td>0.0</td>\n",
       "      <td>1.0</td>\n",
       "      <td>1.0</td>\n",
       "      <td>1.0</td>\n",
       "      <td>0.1875</td>\n",
       "    </tr>\n",
       "    <tr>\n",
       "      <th>1</th>\n",
       "      <td>0.181818</td>\n",
       "      <td>0.0</td>\n",
       "      <td>0.3</td>\n",
       "      <td>0.333333</td>\n",
       "      <td>0.329458</td>\n",
       "      <td>0.001</td>\n",
       "      <td>0.229167</td>\n",
       "      <td>0.045455</td>\n",
       "      <td>0.0</td>\n",
       "      <td>0.0</td>\n",
       "      <td>0.0</td>\n",
       "      <td>0.0</td>\n",
       "      <td>0.0</td>\n",
       "      <td>0.0</td>\n",
       "      <td>0.0</td>\n",
       "      <td>1.0</td>\n",
       "      <td>1.0</td>\n",
       "      <td>0.0</td>\n",
       "      <td>0.0</td>\n",
       "      <td>0.0</td>\n",
       "      <td>0.0</td>\n",
       "      <td>0.0</td>\n",
       "      <td>1.0</td>\n",
       "      <td>0.0</td>\n",
       "      <td>0.0</td>\n",
       "      <td>0.0</td>\n",
       "      <td>0.0</td>\n",
       "      <td>0.0</td>\n",
       "      <td>0.0</td>\n",
       "      <td>0.0</td>\n",
       "      <td>0.0</td>\n",
       "      <td>0.0</td>\n",
       "      <td>0.0</td>\n",
       "      <td>0.0</td>\n",
       "      <td>0.0</td>\n",
       "      <td>0.0</td>\n",
       "      <td>0.0</td>\n",
       "      <td>0.0</td>\n",
       "      <td>0.0</td>\n",
       "      <td>0.0</td>\n",
       "      <td>0.0</td>\n",
       "      <td>0.0</td>\n",
       "      <td>0.0</td>\n",
       "      <td>0.0</td>\n",
       "      <td>0.0</td>\n",
       "      <td>0.0</td>\n",
       "      <td>0.0</td>\n",
       "      <td>0.0</td>\n",
       "      <td>0.0</td>\n",
       "      <td>0.0</td>\n",
       "      <td>0.0</td>\n",
       "      <td>0.0</td>\n",
       "      <td>0.0</td>\n",
       "      <td>0.0</td>\n",
       "      <td>0.0</td>\n",
       "      <td>1.0</td>\n",
       "      <td>1.0</td>\n",
       "      <td>1.0</td>\n",
       "      <td>0.1875</td>\n",
       "    </tr>\n",
       "    <tr>\n",
       "      <th>2</th>\n",
       "      <td>0.181818</td>\n",
       "      <td>0.0</td>\n",
       "      <td>0.3</td>\n",
       "      <td>0.333333</td>\n",
       "      <td>0.355216</td>\n",
       "      <td>0.000</td>\n",
       "      <td>0.229167</td>\n",
       "      <td>0.045455</td>\n",
       "      <td>1.0</td>\n",
       "      <td>1.0</td>\n",
       "      <td>1.0</td>\n",
       "      <td>1.0</td>\n",
       "      <td>1.0</td>\n",
       "      <td>1.0</td>\n",
       "      <td>1.0</td>\n",
       "      <td>1.0</td>\n",
       "      <td>1.0</td>\n",
       "      <td>0.0</td>\n",
       "      <td>0.0</td>\n",
       "      <td>0.0</td>\n",
       "      <td>0.0</td>\n",
       "      <td>0.0</td>\n",
       "      <td>0.0</td>\n",
       "      <td>0.0</td>\n",
       "      <td>0.0</td>\n",
       "      <td>0.0</td>\n",
       "      <td>0.0</td>\n",
       "      <td>0.0</td>\n",
       "      <td>0.0</td>\n",
       "      <td>0.0</td>\n",
       "      <td>0.0</td>\n",
       "      <td>0.0</td>\n",
       "      <td>0.0</td>\n",
       "      <td>0.0</td>\n",
       "      <td>0.0</td>\n",
       "      <td>0.0</td>\n",
       "      <td>0.0</td>\n",
       "      <td>0.0</td>\n",
       "      <td>0.0</td>\n",
       "      <td>0.0</td>\n",
       "      <td>0.0</td>\n",
       "      <td>0.0</td>\n",
       "      <td>0.0</td>\n",
       "      <td>0.0</td>\n",
       "      <td>0.0</td>\n",
       "      <td>0.0</td>\n",
       "      <td>0.0</td>\n",
       "      <td>0.0</td>\n",
       "      <td>0.0</td>\n",
       "      <td>0.0</td>\n",
       "      <td>0.0</td>\n",
       "      <td>0.0</td>\n",
       "      <td>0.0</td>\n",
       "      <td>0.0</td>\n",
       "      <td>0.0</td>\n",
       "      <td>1.0</td>\n",
       "      <td>1.0</td>\n",
       "      <td>1.0</td>\n",
       "      <td>0.1875</td>\n",
       "    </tr>\n",
       "    <tr>\n",
       "      <th>3</th>\n",
       "      <td>0.181818</td>\n",
       "      <td>0.0</td>\n",
       "      <td>0.2</td>\n",
       "      <td>0.222222</td>\n",
       "      <td>0.159759</td>\n",
       "      <td>0.000</td>\n",
       "      <td>0.229167</td>\n",
       "      <td>0.045455</td>\n",
       "      <td>0.0</td>\n",
       "      <td>0.0</td>\n",
       "      <td>0.0</td>\n",
       "      <td>0.0</td>\n",
       "      <td>0.0</td>\n",
       "      <td>0.0</td>\n",
       "      <td>0.0</td>\n",
       "      <td>0.0</td>\n",
       "      <td>0.0</td>\n",
       "      <td>0.0</td>\n",
       "      <td>0.0</td>\n",
       "      <td>0.0</td>\n",
       "      <td>0.0</td>\n",
       "      <td>0.0</td>\n",
       "      <td>0.0</td>\n",
       "      <td>0.0</td>\n",
       "      <td>0.0</td>\n",
       "      <td>0.0</td>\n",
       "      <td>0.0</td>\n",
       "      <td>0.0</td>\n",
       "      <td>0.0</td>\n",
       "      <td>0.0</td>\n",
       "      <td>0.0</td>\n",
       "      <td>0.0</td>\n",
       "      <td>0.0</td>\n",
       "      <td>0.0</td>\n",
       "      <td>0.0</td>\n",
       "      <td>0.0</td>\n",
       "      <td>0.0</td>\n",
       "      <td>0.0</td>\n",
       "      <td>0.0</td>\n",
       "      <td>0.0</td>\n",
       "      <td>0.0</td>\n",
       "      <td>0.0</td>\n",
       "      <td>0.0</td>\n",
       "      <td>0.0</td>\n",
       "      <td>0.0</td>\n",
       "      <td>0.0</td>\n",
       "      <td>0.0</td>\n",
       "      <td>0.0</td>\n",
       "      <td>0.0</td>\n",
       "      <td>0.0</td>\n",
       "      <td>0.0</td>\n",
       "      <td>0.0</td>\n",
       "      <td>1.0</td>\n",
       "      <td>1.0</td>\n",
       "      <td>0.0</td>\n",
       "      <td>1.0</td>\n",
       "      <td>1.0</td>\n",
       "      <td>1.0</td>\n",
       "      <td>0.1875</td>\n",
       "    </tr>\n",
       "    <tr>\n",
       "      <th>4</th>\n",
       "      <td>0.181818</td>\n",
       "      <td>1.0</td>\n",
       "      <td>0.2</td>\n",
       "      <td>0.222222</td>\n",
       "      <td>0.323739</td>\n",
       "      <td>0.000</td>\n",
       "      <td>0.229167</td>\n",
       "      <td>0.045455</td>\n",
       "      <td>0.0</td>\n",
       "      <td>0.0</td>\n",
       "      <td>0.0</td>\n",
       "      <td>0.0</td>\n",
       "      <td>0.0</td>\n",
       "      <td>0.0</td>\n",
       "      <td>0.0</td>\n",
       "      <td>0.0</td>\n",
       "      <td>0.0</td>\n",
       "      <td>0.0</td>\n",
       "      <td>0.0</td>\n",
       "      <td>0.0</td>\n",
       "      <td>0.0</td>\n",
       "      <td>0.0</td>\n",
       "      <td>0.0</td>\n",
       "      <td>0.0</td>\n",
       "      <td>0.0</td>\n",
       "      <td>0.0</td>\n",
       "      <td>0.0</td>\n",
       "      <td>0.0</td>\n",
       "      <td>0.0</td>\n",
       "      <td>0.0</td>\n",
       "      <td>0.0</td>\n",
       "      <td>0.0</td>\n",
       "      <td>0.0</td>\n",
       "      <td>0.0</td>\n",
       "      <td>0.0</td>\n",
       "      <td>0.0</td>\n",
       "      <td>0.0</td>\n",
       "      <td>0.0</td>\n",
       "      <td>0.0</td>\n",
       "      <td>0.0</td>\n",
       "      <td>0.0</td>\n",
       "      <td>0.0</td>\n",
       "      <td>0.0</td>\n",
       "      <td>0.0</td>\n",
       "      <td>0.0</td>\n",
       "      <td>0.0</td>\n",
       "      <td>0.0</td>\n",
       "      <td>0.0</td>\n",
       "      <td>0.0</td>\n",
       "      <td>0.0</td>\n",
       "      <td>0.0</td>\n",
       "      <td>0.0</td>\n",
       "      <td>1.0</td>\n",
       "      <td>1.0</td>\n",
       "      <td>0.0</td>\n",
       "      <td>1.0</td>\n",
       "      <td>1.0</td>\n",
       "      <td>1.0</td>\n",
       "      <td>0.1875</td>\n",
       "    </tr>\n",
       "  </tbody>\n",
       "</table>\n",
       "</div>"
      ],
      "text/plain": [
       "   Location1  Type  Bedrooms  Bathrooms  Size_in_SqYds  Parking_Spaces  \\\n",
       "0   0.181818   0.0       0.1   0.111111       0.128161           0.000   \n",
       "1   0.181818   0.0       0.3   0.333333       0.329458           0.001   \n",
       "2   0.181818   0.0       0.3   0.333333       0.355216           0.000   \n",
       "3   0.181818   0.0       0.2   0.222222       0.159759           0.000   \n",
       "4   0.181818   1.0       0.2   0.222222       0.323739           0.000   \n",
       "\n",
       "   Floors_in_Building  Elevators  Lobby_in_Building  Double_Glazed_Windows  \\\n",
       "0            0.229167   0.045455                0.0                    0.0   \n",
       "1            0.229167   0.045455                0.0                    0.0   \n",
       "2            0.229167   0.045455                1.0                    1.0   \n",
       "3            0.229167   0.045455                0.0                    0.0   \n",
       "4            0.229167   0.045455                0.0                    0.0   \n",
       "\n",
       "   Central_Air_Conditioning  Central_Heating  Waste_Disposal  Furnished  \\\n",
       "0                       0.0              0.0             0.0        0.0   \n",
       "1                       0.0              0.0             0.0        0.0   \n",
       "2                       1.0              1.0             1.0        1.0   \n",
       "3                       0.0              0.0             0.0        0.0   \n",
       "4                       0.0              0.0             0.0        0.0   \n",
       "\n",
       "   Service_Elevators_in_Building  Flooring  Electricity_Backup  \\\n",
       "0                            0.0       0.0                 0.0   \n",
       "1                            0.0       1.0                 1.0   \n",
       "2                            1.0       1.0                 1.0   \n",
       "3                            0.0       0.0                 0.0   \n",
       "4                            0.0       0.0                 0.0   \n",
       "\n",
       "   Servant_Quarters  Study_Room  Prayer_Room  Powder_Room  Gym  \\\n",
       "0               0.0         0.0          0.0          0.0  0.0   \n",
       "1               0.0         0.0          0.0          0.0  0.0   \n",
       "2               0.0         0.0          0.0          0.0  0.0   \n",
       "3               0.0         0.0          0.0          0.0  0.0   \n",
       "4               0.0         0.0          0.0          0.0  0.0   \n",
       "\n",
       "   Lounge_or_Sitting_Room  Laundry_Room  \\\n",
       "0                     0.0           0.0   \n",
       "1                     1.0           0.0   \n",
       "2                     0.0           0.0   \n",
       "3                     0.0           0.0   \n",
       "4                     0.0           0.0   \n",
       "\n",
       "   Business_Center_or_Media_Room_in_Building  Satellite_or_Cable_TV_Ready  \\\n",
       "0                                        0.0                          0.0   \n",
       "1                                        0.0                          0.0   \n",
       "2                                        0.0                          0.0   \n",
       "3                                        0.0                          0.0   \n",
       "4                                        0.0                          0.0   \n",
       "\n",
       "   Broadband_Internet_Access  Intercom  Conference_Room_in_Building  \\\n",
       "0                        0.0       0.0                          0.0   \n",
       "1                        0.0       0.0                          0.0   \n",
       "2                        0.0       0.0                          0.0   \n",
       "3                        0.0       0.0                          0.0   \n",
       "4                        0.0       0.0                          0.0   \n",
       "\n",
       "   Community_Swimming_Pool  Community_Lawn_or_Garden  Community_Gym  \\\n",
       "0                      0.0                       0.0            0.0   \n",
       "1                      0.0                       0.0            0.0   \n",
       "2                      0.0                       0.0            0.0   \n",
       "3                      0.0                       0.0            0.0   \n",
       "4                      0.0                       0.0            0.0   \n",
       "\n",
       "   Community_Center  First_Aid_or_Medical_Centre  Day_Care_center  \\\n",
       "0               0.0                          0.0              0.0   \n",
       "1               0.0                          0.0              0.0   \n",
       "2               0.0                          0.0              0.0   \n",
       "3               0.0                          0.0              0.0   \n",
       "4               0.0                          0.0              0.0   \n",
       "\n",
       "   Kids_Play_Area  Mosque  Barbeque_Area  Lawn_or_Garden  Swimming_Pool  \\\n",
       "0             0.0     0.0            0.0             0.0            0.0   \n",
       "1             0.0     0.0            0.0             0.0            0.0   \n",
       "2             0.0     0.0            0.0             0.0            0.0   \n",
       "3             0.0     0.0            0.0             0.0            0.0   \n",
       "4             0.0     0.0            0.0             0.0            0.0   \n",
       "\n",
       "   Sauna  Jacuzzi  Nearby_Schools  Nearby_Hospital  Nearby_Shopping_Malls  \\\n",
       "0    0.0      0.0             0.0              0.0                    0.0   \n",
       "1    0.0      0.0             0.0              0.0                    0.0   \n",
       "2    0.0      0.0             0.0              0.0                    0.0   \n",
       "3    0.0      0.0             0.0              0.0                    0.0   \n",
       "4    0.0      0.0             0.0              0.0                    0.0   \n",
       "\n",
       "   Nearby_Restaurants  Nearby_Public_Transport_Service  Other_Nearby_Places  \\\n",
       "0                 0.0                              0.0                  0.0   \n",
       "1                 0.0                              0.0                  0.0   \n",
       "2                 0.0                              0.0                  0.0   \n",
       "3                 0.0                              0.0                  0.0   \n",
       "4                 0.0                              0.0                  0.0   \n",
       "\n",
       "   Security_Staff  Maintainance_Staff  Laundry_or_Dry_Cleaning_Facility  \\\n",
       "0             0.0                 0.0                               0.0   \n",
       "1             0.0                 0.0                               0.0   \n",
       "2             0.0                 0.0                               0.0   \n",
       "3             0.0                 0.0                               0.0   \n",
       "4             0.0                 0.0                               0.0   \n",
       "\n",
       "   Facilities_for_Disabled  Bedrooms_na  Bathrooms_na  Size_in_SqYds_na  \\\n",
       "0                      0.0          0.0           0.0               0.0   \n",
       "1                      0.0          0.0           0.0               0.0   \n",
       "2                      0.0          0.0           0.0               0.0   \n",
       "3                      0.0          1.0           1.0               0.0   \n",
       "4                      0.0          1.0           1.0               0.0   \n",
       "\n",
       "   Floors_in_Building_na  Elevators_na  Built_in_year_year_na  Yrs_SinceBlt  \n",
       "0                    1.0           1.0                    1.0        0.1875  \n",
       "1                    1.0           1.0                    1.0        0.1875  \n",
       "2                    1.0           1.0                    1.0        0.1875  \n",
       "3                    1.0           1.0                    1.0        0.1875  \n",
       "4                    1.0           1.0                    1.0        0.1875  "
      ]
     },
     "execution_count": 62,
     "metadata": {},
     "output_type": "execute_result"
    }
   ],
   "source": [
    "X_test.head()"
   ]
  },
  {
   "cell_type": "markdown",
   "metadata": {},
   "source": [
    "## Save to CSV"
   ]
  },
  {
   "cell_type": "code",
   "execution_count": 63,
   "metadata": {},
   "outputs": [],
   "source": [
    "# let's now save the train and test sets for the next notebook!\n",
    "\n",
    "X_train.to_csv('../Data/xtrain.csv', index = False)\n",
    "X_test.to_csv('../Data/xtest.csv', index = False)\n",
    "\n",
    "y_train.to_csv('../Data/ytrain.csv', index = False)\n",
    "y_test.to_csv('../Data/ytest.csv', index = False)"
   ]
  },
  {
   "cell_type": "markdown",
   "metadata": {
    "id": "Ogqv2mQIxqDB"
   },
   "source": [
    "## Save Scaler"
   ]
  },
  {
   "cell_type": "code",
   "execution_count": 64,
   "metadata": {
    "id": "5Ff2NY78xqDC"
   },
   "outputs": [
    {
     "data": {
      "text/plain": [
       "['../Models/minmax_scaler.joblib']"
      ]
     },
     "execution_count": 64,
     "metadata": {},
     "output_type": "execute_result"
    }
   ],
   "source": [
    "# now let's save the scaler\n",
    "\n",
    "joblib.dump(scaler, '../Models/minmax_scaler.joblib') "
   ]
  },
  {
   "cell_type": "markdown",
   "metadata": {
    "id": "hEw3pv73xqDC"
   },
   "source": [
    "That Concludes Data Analysis and Feature Engineering"
   ]
  }
 ],
 "metadata": {
  "colab": {
   "provenance": []
  },
  "kernelspec": {
   "display_name": "mlPipeLine",
   "language": "python",
   "name": "mlpipeline"
  },
  "language_info": {
   "codemirror_mode": {
    "name": "ipython",
    "version": 3
   },
   "file_extension": ".py",
   "mimetype": "text/x-python",
   "name": "python",
   "nbconvert_exporter": "python",
   "pygments_lexer": "ipython3",
   "version": "3.11.3"
  },
  "toc": {
   "base_numbering": 1,
   "nav_menu": {},
   "number_sections": true,
   "sideBar": true,
   "skip_h1_title": false,
   "title_cell": "Table of Contents",
   "title_sidebar": "Contents",
   "toc_cell": false,
   "toc_position": {
    "height": "644.467px",
    "left": "0px",
    "right": "1324px",
    "top": "110.533px",
    "width": "266px"
   },
   "toc_section_display": "block",
   "toc_window_display": true
  }
 },
 "nbformat": 4,
 "nbformat_minor": 4
}
