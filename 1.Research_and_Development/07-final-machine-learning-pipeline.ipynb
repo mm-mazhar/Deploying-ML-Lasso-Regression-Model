{
 "cells": [
  {
   "cell_type": "markdown",
   "metadata": {},
   "source": [
    "# Final Machine Learning Pipeline\n",
    "\n",
    "The pipeline features\n",
    "\n",
    "- open source classes\n",
    "- in house package classes\n",
    "- feature selection during pipeline\n",
    "- score new data"
   ]
  },
  {
   "cell_type": "markdown",
   "metadata": {},
   "source": [
    "# Reproducibility: Setting the seed\n",
    "\n",
    "With the aim to ensure reproducibility between runs of the same notebook, but also between the research and production environment, for each step that includes some element of randomness, it is extremely important that we **set the seed**."
   ]
  },
  {
   "cell_type": "code",
   "execution_count": 1,
   "metadata": {},
   "outputs": [],
   "source": [
    "# data manipulation and plotting\n",
    "import pandas as pd\n",
    "import numpy as np\n",
    "# for plotting\n",
    "import matplotlib.pyplot as plt\n",
    "import seaborn as sns\n",
    "import ipywidgets as widgets\n",
    "from IPython.display import display\n",
    "\n",
    "from datetime import datetime\n",
    "from collections import Counter\n",
    "# ignore warnings\n",
    "import warnings\n",
    "warnings.filterwarnings(\"ignore\")\n",
    "\n",
    "# for saving the pipeline\n",
    "import joblib\n",
    "\n",
    "# to build the model\n",
    "from sklearn.linear_model import Lasso\n",
    "# to evaluate the model\n",
    "from sklearn.metrics import mean_squared_error, r2_score\n",
    "# train test split\n",
    "from sklearn.model_selection import train_test_split\n",
    "# pre-processing\n",
    "from sklearn.preprocessing import MinMaxScaler, Binarizer # Binarizer for hugely skewed variables\n",
    "# pipeline\n",
    "from sklearn.pipeline import Pipeline\n",
    "# feature selection\n",
    "from sklearn.pipeline import FeatureUnion\n",
    "from sklearn.preprocessing import FunctionTransformer\n",
    "from sklearn.feature_selection import SelectKBest\n",
    "from sklearn.feature_selection import SelectFromModel\n",
    "\n",
    "\n",
    "# from feature-engine\n",
    "from feature_engine.imputation import (\n",
    "    AddMissingIndicator,\n",
    "    MeanMedianImputer,\n",
    "    CategoricalImputer,\n",
    ")\n",
    "\n",
    "from feature_engine.encoding import (\n",
    "    RareLabelEncoder,\n",
    "    OrdinalEncoder,\n",
    ")\n",
    "\n",
    "from feature_engine.transformation import LogTransformer\n",
    "from feature_engine.selection import DropFeatures\n",
    "from feature_engine.datetime import DatetimeFeatures\n",
    "from feature_engine.wrappers import SklearnTransformerWrapper\n",
    "\n",
    "import sklearn_preprocessors as skpp\n",
    "\n",
    "# to display all the columns of the dataframe in the notebook\n",
    "pd.pandas.set_option('display.max_columns', None)\n",
    "#pd.pandas.set_option('display.max_rows', None)"
   ]
  },
  {
   "cell_type": "code",
   "execution_count": 2,
   "metadata": {},
   "outputs": [],
   "source": [
    "# from sklearn_preprocessors import DataTypeConverter"
   ]
  },
  {
   "cell_type": "code",
   "execution_count": 3,
   "metadata": {
    "tags": []
   },
   "outputs": [
    {
     "data": {
      "text/html": [
       "<div>\n",
       "<style scoped>\n",
       "    .dataframe tbody tr th:only-of-type {\n",
       "        vertical-align: middle;\n",
       "    }\n",
       "\n",
       "    .dataframe tbody tr th {\n",
       "        vertical-align: top;\n",
       "    }\n",
       "\n",
       "    .dataframe thead th {\n",
       "        text-align: right;\n",
       "    }\n",
       "</style>\n",
       "<table border=\"1\" class=\"dataframe\">\n",
       "  <thead>\n",
       "    <tr style=\"text-align: right;\">\n",
       "      <th></th>\n",
       "      <th>Ids</th>\n",
       "      <th>Location1</th>\n",
       "      <th>Location2</th>\n",
       "      <th>Type</th>\n",
       "      <th>Bedrooms</th>\n",
       "      <th>Bathrooms</th>\n",
       "      <th>Size_in_SqYds</th>\n",
       "      <th>Price_in_millions</th>\n",
       "      <th>Built_in_year</th>\n",
       "      <th>Parking_Spaces</th>\n",
       "      <th>Floors_in_Building</th>\n",
       "      <th>Elevators</th>\n",
       "      <th>Store_Rooms</th>\n",
       "      <th>Lobby_in_Building</th>\n",
       "      <th>Double_Glazed_Windows</th>\n",
       "      <th>Central_Air_Conditioning</th>\n",
       "      <th>Central_Heating</th>\n",
       "      <th>Waste_Disposal</th>\n",
       "      <th>Furnished</th>\n",
       "      <th>Service_Elevators_in_Building</th>\n",
       "      <th>Flooring</th>\n",
       "      <th>Electricity_Backup</th>\n",
       "      <th>Servant_Quarters</th>\n",
       "      <th>Study_Room</th>\n",
       "      <th>Prayer_Room</th>\n",
       "      <th>Powder_Room</th>\n",
       "      <th>Gym</th>\n",
       "      <th>Lounge_or_Sitting_Room</th>\n",
       "      <th>Laundry_Room</th>\n",
       "      <th>Business_Center_or_Media_Room_in_Building</th>\n",
       "      <th>Satellite_or_Cable_TV_Ready</th>\n",
       "      <th>Broadband_Internet_Access</th>\n",
       "      <th>Intercom</th>\n",
       "      <th>Conference_Room_in_Building</th>\n",
       "      <th>Community_Swimming_Pool</th>\n",
       "      <th>Community_Lawn_or_Garden</th>\n",
       "      <th>Community_Gym</th>\n",
       "      <th>Community_Center</th>\n",
       "      <th>First_Aid_or_Medical_Centre</th>\n",
       "      <th>Day_Care_center</th>\n",
       "      <th>Kids_Play_Area</th>\n",
       "      <th>Mosque</th>\n",
       "      <th>Barbeque_Area</th>\n",
       "      <th>Lawn_or_Garden</th>\n",
       "      <th>Swimming_Pool</th>\n",
       "      <th>Sauna</th>\n",
       "      <th>Jacuzzi</th>\n",
       "      <th>Nearby_Schools</th>\n",
       "      <th>Nearby_Hospital</th>\n",
       "      <th>Nearby_Shopping_Malls</th>\n",
       "      <th>Nearby_Restaurants</th>\n",
       "      <th>Nearby_Public_Transport_Service</th>\n",
       "      <th>Other_Nearby_Places</th>\n",
       "      <th>Security_Staff</th>\n",
       "      <th>Maintainance_Staff</th>\n",
       "      <th>Laundry_or_Dry_Cleaning_Facility</th>\n",
       "      <th>Facilities_for_Disabled</th>\n",
       "    </tr>\n",
       "  </thead>\n",
       "  <tbody>\n",
       "    <tr>\n",
       "      <th>0</th>\n",
       "      <td>0</td>\n",
       "      <td>DHA Phase 6, DHA Defence</td>\n",
       "      <td>DHA Defence</td>\n",
       "      <td>House</td>\n",
       "      <td>6.0</td>\n",
       "      <td>6.0</td>\n",
       "      <td>600.0</td>\n",
       "      <td>220.0</td>\n",
       "      <td>NaT</td>\n",
       "      <td>3</td>\n",
       "      <td>NaN</td>\n",
       "      <td>NaN</td>\n",
       "      <td>NaN</td>\n",
       "      <td>0</td>\n",
       "      <td>1</td>\n",
       "      <td>1</td>\n",
       "      <td>1</td>\n",
       "      <td>0</td>\n",
       "      <td>0</td>\n",
       "      <td>0</td>\n",
       "      <td>1</td>\n",
       "      <td>0</td>\n",
       "      <td>1</td>\n",
       "      <td>1</td>\n",
       "      <td>0</td>\n",
       "      <td>0</td>\n",
       "      <td>1</td>\n",
       "      <td>1</td>\n",
       "      <td>0</td>\n",
       "      <td>0</td>\n",
       "      <td>0</td>\n",
       "      <td>0</td>\n",
       "      <td>0</td>\n",
       "      <td>0</td>\n",
       "      <td>0</td>\n",
       "      <td>0</td>\n",
       "      <td>0</td>\n",
       "      <td>0</td>\n",
       "      <td>0</td>\n",
       "      <td>0</td>\n",
       "      <td>0</td>\n",
       "      <td>0</td>\n",
       "      <td>0</td>\n",
       "      <td>0</td>\n",
       "      <td>0</td>\n",
       "      <td>0</td>\n",
       "      <td>0</td>\n",
       "      <td>0</td>\n",
       "      <td>0</td>\n",
       "      <td>0</td>\n",
       "      <td>0</td>\n",
       "      <td>0</td>\n",
       "      <td>0</td>\n",
       "      <td>0</td>\n",
       "      <td>0</td>\n",
       "      <td>0</td>\n",
       "      <td>0</td>\n",
       "    </tr>\n",
       "    <tr>\n",
       "      <th>1</th>\n",
       "      <td>1</td>\n",
       "      <td>Saadi Town - Block 3, Saadi Town, Scheme 33</td>\n",
       "      <td>Scheme 33</td>\n",
       "      <td>House</td>\n",
       "      <td>6.0</td>\n",
       "      <td>6.0</td>\n",
       "      <td>240.0</td>\n",
       "      <td>38.5</td>\n",
       "      <td>NaT</td>\n",
       "      <td>1</td>\n",
       "      <td>NaN</td>\n",
       "      <td>NaN</td>\n",
       "      <td>NaN</td>\n",
       "      <td>0</td>\n",
       "      <td>0</td>\n",
       "      <td>0</td>\n",
       "      <td>0</td>\n",
       "      <td>0</td>\n",
       "      <td>0</td>\n",
       "      <td>0</td>\n",
       "      <td>1</td>\n",
       "      <td>1</td>\n",
       "      <td>0</td>\n",
       "      <td>1</td>\n",
       "      <td>0</td>\n",
       "      <td>0</td>\n",
       "      <td>0</td>\n",
       "      <td>0</td>\n",
       "      <td>0</td>\n",
       "      <td>0</td>\n",
       "      <td>0</td>\n",
       "      <td>0</td>\n",
       "      <td>0</td>\n",
       "      <td>0</td>\n",
       "      <td>0</td>\n",
       "      <td>0</td>\n",
       "      <td>0</td>\n",
       "      <td>0</td>\n",
       "      <td>0</td>\n",
       "      <td>0</td>\n",
       "      <td>0</td>\n",
       "      <td>0</td>\n",
       "      <td>0</td>\n",
       "      <td>0</td>\n",
       "      <td>0</td>\n",
       "      <td>0</td>\n",
       "      <td>0</td>\n",
       "      <td>0</td>\n",
       "      <td>0</td>\n",
       "      <td>0</td>\n",
       "      <td>0</td>\n",
       "      <td>0</td>\n",
       "      <td>0</td>\n",
       "      <td>0</td>\n",
       "      <td>0</td>\n",
       "      <td>0</td>\n",
       "      <td>0</td>\n",
       "    </tr>\n",
       "  </tbody>\n",
       "</table>\n",
       "</div>"
      ],
      "text/plain": [
       "   Ids                                    Location1    Location2   Type  \\\n",
       "0    0                     DHA Phase 6, DHA Defence  DHA Defence  House   \n",
       "1    1  Saadi Town - Block 3, Saadi Town, Scheme 33    Scheme 33  House   \n",
       "\n",
       "   Bedrooms  Bathrooms  Size_in_SqYds  Price_in_millions Built_in_year  \\\n",
       "0       6.0        6.0          600.0              220.0           NaT   \n",
       "1       6.0        6.0          240.0               38.5           NaT   \n",
       "\n",
       "   Parking_Spaces  Floors_in_Building  Elevators  Store_Rooms  \\\n",
       "0               3                 NaN        NaN          NaN   \n",
       "1               1                 NaN        NaN          NaN   \n",
       "\n",
       "   Lobby_in_Building  Double_Glazed_Windows  Central_Air_Conditioning  \\\n",
       "0                  0                      1                         1   \n",
       "1                  0                      0                         0   \n",
       "\n",
       "   Central_Heating  Waste_Disposal  Furnished  Service_Elevators_in_Building  \\\n",
       "0                1               0          0                              0   \n",
       "1                0               0          0                              0   \n",
       "\n",
       "   Flooring  Electricity_Backup  Servant_Quarters  Study_Room  Prayer_Room  \\\n",
       "0         1                   0                 1           1            0   \n",
       "1         1                   1                 0           1            0   \n",
       "\n",
       "   Powder_Room  Gym  Lounge_or_Sitting_Room  Laundry_Room  \\\n",
       "0            0    1                       1             0   \n",
       "1            0    0                       0             0   \n",
       "\n",
       "   Business_Center_or_Media_Room_in_Building  Satellite_or_Cable_TV_Ready  \\\n",
       "0                                          0                            0   \n",
       "1                                          0                            0   \n",
       "\n",
       "   Broadband_Internet_Access  Intercom  Conference_Room_in_Building  \\\n",
       "0                          0         0                            0   \n",
       "1                          0         0                            0   \n",
       "\n",
       "   Community_Swimming_Pool  Community_Lawn_or_Garden  Community_Gym  \\\n",
       "0                        0                         0              0   \n",
       "1                        0                         0              0   \n",
       "\n",
       "   Community_Center  First_Aid_or_Medical_Centre  Day_Care_center  \\\n",
       "0                 0                            0                0   \n",
       "1                 0                            0                0   \n",
       "\n",
       "   Kids_Play_Area  Mosque  Barbeque_Area  Lawn_or_Garden  Swimming_Pool  \\\n",
       "0               0       0              0               0              0   \n",
       "1               0       0              0               0              0   \n",
       "\n",
       "   Sauna  Jacuzzi  Nearby_Schools  Nearby_Hospital  Nearby_Shopping_Malls  \\\n",
       "0      0        0               0                0                      0   \n",
       "1      0        0               0                0                      0   \n",
       "\n",
       "   Nearby_Restaurants  Nearby_Public_Transport_Service  Other_Nearby_Places  \\\n",
       "0                   0                                0                    0   \n",
       "1                   0                                0                    0   \n",
       "\n",
       "   Security_Staff  Maintainance_Staff  Laundry_or_Dry_Cleaning_Facility  \\\n",
       "0               0                   0                                 0   \n",
       "1               0                   0                                 0   \n",
       "\n",
       "   Facilities_for_Disabled  \n",
       "0                        0  \n",
       "1                        0  "
      ]
     },
     "execution_count": 3,
     "metadata": {},
     "output_type": "execute_result"
    }
   ],
   "source": [
    "# load dataset\n",
    "data = pd.read_csv(\"../Data/data.csv\", parse_dates = ['Built_in_year'])\n",
    "data.head(2)"
   ]
  },
  {
   "cell_type": "markdown",
   "metadata": {},
   "source": [
    "## Drop Columns and Rows"
   ]
  },
  {
   "cell_type": "code",
   "execution_count": 4,
   "metadata": {},
   "outputs": [
    {
     "name": "stdout",
     "output_type": "stream",
     "text": [
      "Shape:  (14201, 57)\n"
     ]
    }
   ],
   "source": [
    "# drop rows in col 'Price_in_millions' that have missing values\n",
    "data.drop(data.loc[data['Price_in_millions'].isnull()].index, axis = 0, inplace = True)\n",
    "print(\"Shape: \", data.shape)\n",
    "\n",
    "# drop id, it is just a number given to identify each house\n",
    "# drop 'Built_in_year', 'Location2', 'Store_Rooms' columns\n",
    "drop_features = DropFeatures(features_to_drop = ['Ids', 'Location2', 'Store_Rooms'])\n",
    "data = drop_features.fit_transform(data)"
   ]
  },
  {
   "cell_type": "markdown",
   "metadata": {},
   "source": [
    "## Datetime Features"
   ]
  },
  {
   "cell_type": "code",
   "execution_count": 5,
   "metadata": {},
   "outputs": [],
   "source": [
    "date_time_features = DatetimeFeatures(variables = ['Built_in_year'], \n",
    "                                      features_to_extract = ['year'], \n",
    "                                      drop_original = True, \n",
    "                                      missing_values = 'ignore')\n",
    "\n",
    "data = date_time_features.fit_transform(data)"
   ]
  },
  {
   "cell_type": "markdown",
   "metadata": {},
   "source": [
    "## Drop Duplicates"
   ]
  },
  {
   "cell_type": "code",
   "execution_count": 6,
   "metadata": {},
   "outputs": [
    {
     "name": "stdout",
     "output_type": "stream",
     "text": [
      "Shape: (9819, 54)\n"
     ]
    }
   ],
   "source": [
    "# Using DataFrame.drop_duplicates() to keep first duplicate row\n",
    "data = data.drop_duplicates(keep = 'first')\n",
    "# rows and columns of the data\n",
    "print(f'Shape: {data.shape}')"
   ]
  },
  {
   "cell_type": "code",
   "execution_count": 7,
   "metadata": {},
   "outputs": [
    {
     "data": {
      "text/plain": [
       "Index(['Location1', 'Type', 'Bedrooms', 'Bathrooms', 'Size_in_SqYds',\n",
       "       'Price_in_millions', 'Parking_Spaces', 'Floors_in_Building',\n",
       "       'Elevators', 'Lobby_in_Building', 'Double_Glazed_Windows',\n",
       "       'Central_Air_Conditioning', 'Central_Heating', 'Waste_Disposal',\n",
       "       'Furnished', 'Service_Elevators_in_Building', 'Flooring',\n",
       "       'Electricity_Backup', 'Servant_Quarters', 'Study_Room', 'Prayer_Room',\n",
       "       'Powder_Room', 'Gym', 'Lounge_or_Sitting_Room', 'Laundry_Room',\n",
       "       'Business_Center_or_Media_Room_in_Building',\n",
       "       'Satellite_or_Cable_TV_Ready', 'Broadband_Internet_Access', 'Intercom',\n",
       "       'Conference_Room_in_Building', 'Community_Swimming_Pool',\n",
       "       'Community_Lawn_or_Garden', 'Community_Gym', 'Community_Center',\n",
       "       'First_Aid_or_Medical_Centre', 'Day_Care_center', 'Kids_Play_Area',\n",
       "       'Mosque', 'Barbeque_Area', 'Lawn_or_Garden', 'Swimming_Pool', 'Sauna',\n",
       "       'Jacuzzi', 'Nearby_Schools', 'Nearby_Hospital', 'Nearby_Shopping_Malls',\n",
       "       'Nearby_Restaurants', 'Nearby_Public_Transport_Service',\n",
       "       'Other_Nearby_Places', 'Security_Staff', 'Maintainance_Staff',\n",
       "       'Laundry_or_Dry_Cleaning_Facility', 'Facilities_for_Disabled',\n",
       "       'Built_in_year_year'],\n",
       "      dtype='object')"
      ]
     },
     "execution_count": 7,
     "metadata": {},
     "output_type": "execute_result"
    }
   ],
   "source": [
    "data.columns"
   ]
  },
  {
   "cell_type": "markdown",
   "metadata": {},
   "source": [
    "## Dataset"
   ]
  },
  {
   "cell_type": "code",
   "execution_count": 8,
   "metadata": {},
   "outputs": [
    {
     "name": "stdout",
     "output_type": "stream",
     "text": [
      "Shape: (9819, 54)\n",
      "-----------------\n",
      "\n",
      "Dataset: \n",
      "----------\n"
     ]
    },
    {
     "data": {
      "text/html": [
       "<div>\n",
       "<style scoped>\n",
       "    .dataframe tbody tr th:only-of-type {\n",
       "        vertical-align: middle;\n",
       "    }\n",
       "\n",
       "    .dataframe tbody tr th {\n",
       "        vertical-align: top;\n",
       "    }\n",
       "\n",
       "    .dataframe thead th {\n",
       "        text-align: right;\n",
       "    }\n",
       "</style>\n",
       "<table border=\"1\" class=\"dataframe\">\n",
       "  <thead>\n",
       "    <tr style=\"text-align: right;\">\n",
       "      <th></th>\n",
       "      <th>Location1</th>\n",
       "      <th>Type</th>\n",
       "      <th>Bedrooms</th>\n",
       "      <th>Bathrooms</th>\n",
       "      <th>Size_in_SqYds</th>\n",
       "      <th>Price_in_millions</th>\n",
       "      <th>Parking_Spaces</th>\n",
       "      <th>Floors_in_Building</th>\n",
       "      <th>Elevators</th>\n",
       "      <th>Lobby_in_Building</th>\n",
       "      <th>Double_Glazed_Windows</th>\n",
       "      <th>Central_Air_Conditioning</th>\n",
       "      <th>Central_Heating</th>\n",
       "      <th>Waste_Disposal</th>\n",
       "      <th>Furnished</th>\n",
       "      <th>Service_Elevators_in_Building</th>\n",
       "      <th>Flooring</th>\n",
       "      <th>Electricity_Backup</th>\n",
       "      <th>Servant_Quarters</th>\n",
       "      <th>Study_Room</th>\n",
       "      <th>Prayer_Room</th>\n",
       "      <th>Powder_Room</th>\n",
       "      <th>Gym</th>\n",
       "      <th>Lounge_or_Sitting_Room</th>\n",
       "      <th>Laundry_Room</th>\n",
       "      <th>Business_Center_or_Media_Room_in_Building</th>\n",
       "      <th>Satellite_or_Cable_TV_Ready</th>\n",
       "      <th>Broadband_Internet_Access</th>\n",
       "      <th>Intercom</th>\n",
       "      <th>Conference_Room_in_Building</th>\n",
       "      <th>Community_Swimming_Pool</th>\n",
       "      <th>Community_Lawn_or_Garden</th>\n",
       "      <th>Community_Gym</th>\n",
       "      <th>Community_Center</th>\n",
       "      <th>First_Aid_or_Medical_Centre</th>\n",
       "      <th>Day_Care_center</th>\n",
       "      <th>Kids_Play_Area</th>\n",
       "      <th>Mosque</th>\n",
       "      <th>Barbeque_Area</th>\n",
       "      <th>Lawn_or_Garden</th>\n",
       "      <th>Swimming_Pool</th>\n",
       "      <th>Sauna</th>\n",
       "      <th>Jacuzzi</th>\n",
       "      <th>Nearby_Schools</th>\n",
       "      <th>Nearby_Hospital</th>\n",
       "      <th>Nearby_Shopping_Malls</th>\n",
       "      <th>Nearby_Restaurants</th>\n",
       "      <th>Nearby_Public_Transport_Service</th>\n",
       "      <th>Other_Nearby_Places</th>\n",
       "      <th>Security_Staff</th>\n",
       "      <th>Maintainance_Staff</th>\n",
       "      <th>Laundry_or_Dry_Cleaning_Facility</th>\n",
       "      <th>Facilities_for_Disabled</th>\n",
       "      <th>Built_in_year_year</th>\n",
       "    </tr>\n",
       "  </thead>\n",
       "  <tbody>\n",
       "    <tr>\n",
       "      <th>0</th>\n",
       "      <td>DHA Phase 6, DHA Defence</td>\n",
       "      <td>House</td>\n",
       "      <td>6.0</td>\n",
       "      <td>6.0</td>\n",
       "      <td>600.0</td>\n",
       "      <td>220.0</td>\n",
       "      <td>3</td>\n",
       "      <td>NaN</td>\n",
       "      <td>NaN</td>\n",
       "      <td>0</td>\n",
       "      <td>1</td>\n",
       "      <td>1</td>\n",
       "      <td>1</td>\n",
       "      <td>0</td>\n",
       "      <td>0</td>\n",
       "      <td>0</td>\n",
       "      <td>1</td>\n",
       "      <td>0</td>\n",
       "      <td>1</td>\n",
       "      <td>1</td>\n",
       "      <td>0</td>\n",
       "      <td>0</td>\n",
       "      <td>1</td>\n",
       "      <td>1</td>\n",
       "      <td>0</td>\n",
       "      <td>0</td>\n",
       "      <td>0</td>\n",
       "      <td>0</td>\n",
       "      <td>0</td>\n",
       "      <td>0</td>\n",
       "      <td>0</td>\n",
       "      <td>0</td>\n",
       "      <td>0</td>\n",
       "      <td>0</td>\n",
       "      <td>0</td>\n",
       "      <td>0</td>\n",
       "      <td>0</td>\n",
       "      <td>0</td>\n",
       "      <td>0</td>\n",
       "      <td>0</td>\n",
       "      <td>0</td>\n",
       "      <td>0</td>\n",
       "      <td>0</td>\n",
       "      <td>0</td>\n",
       "      <td>0</td>\n",
       "      <td>0</td>\n",
       "      <td>0</td>\n",
       "      <td>0</td>\n",
       "      <td>0</td>\n",
       "      <td>0</td>\n",
       "      <td>0</td>\n",
       "      <td>0</td>\n",
       "      <td>0</td>\n",
       "      <td>NaN</td>\n",
       "    </tr>\n",
       "    <tr>\n",
       "      <th>1</th>\n",
       "      <td>Saadi Town - Block 3, Saadi Town, Scheme 33</td>\n",
       "      <td>House</td>\n",
       "      <td>6.0</td>\n",
       "      <td>6.0</td>\n",
       "      <td>240.0</td>\n",
       "      <td>38.5</td>\n",
       "      <td>1</td>\n",
       "      <td>NaN</td>\n",
       "      <td>NaN</td>\n",
       "      <td>0</td>\n",
       "      <td>0</td>\n",
       "      <td>0</td>\n",
       "      <td>0</td>\n",
       "      <td>0</td>\n",
       "      <td>0</td>\n",
       "      <td>0</td>\n",
       "      <td>1</td>\n",
       "      <td>1</td>\n",
       "      <td>0</td>\n",
       "      <td>1</td>\n",
       "      <td>0</td>\n",
       "      <td>0</td>\n",
       "      <td>0</td>\n",
       "      <td>0</td>\n",
       "      <td>0</td>\n",
       "      <td>0</td>\n",
       "      <td>0</td>\n",
       "      <td>0</td>\n",
       "      <td>0</td>\n",
       "      <td>0</td>\n",
       "      <td>0</td>\n",
       "      <td>0</td>\n",
       "      <td>0</td>\n",
       "      <td>0</td>\n",
       "      <td>0</td>\n",
       "      <td>0</td>\n",
       "      <td>0</td>\n",
       "      <td>0</td>\n",
       "      <td>0</td>\n",
       "      <td>0</td>\n",
       "      <td>0</td>\n",
       "      <td>0</td>\n",
       "      <td>0</td>\n",
       "      <td>0</td>\n",
       "      <td>0</td>\n",
       "      <td>0</td>\n",
       "      <td>0</td>\n",
       "      <td>0</td>\n",
       "      <td>0</td>\n",
       "      <td>0</td>\n",
       "      <td>0</td>\n",
       "      <td>0</td>\n",
       "      <td>0</td>\n",
       "      <td>NaN</td>\n",
       "    </tr>\n",
       "  </tbody>\n",
       "</table>\n",
       "</div>"
      ],
      "text/plain": [
       "                                     Location1   Type  Bedrooms  Bathrooms  \\\n",
       "0                     DHA Phase 6, DHA Defence  House       6.0        6.0   \n",
       "1  Saadi Town - Block 3, Saadi Town, Scheme 33  House       6.0        6.0   \n",
       "\n",
       "   Size_in_SqYds  Price_in_millions  Parking_Spaces  Floors_in_Building  \\\n",
       "0          600.0              220.0               3                 NaN   \n",
       "1          240.0               38.5               1                 NaN   \n",
       "\n",
       "   Elevators  Lobby_in_Building  Double_Glazed_Windows  \\\n",
       "0        NaN                  0                      1   \n",
       "1        NaN                  0                      0   \n",
       "\n",
       "   Central_Air_Conditioning  Central_Heating  Waste_Disposal  Furnished  \\\n",
       "0                         1                1               0          0   \n",
       "1                         0                0               0          0   \n",
       "\n",
       "   Service_Elevators_in_Building  Flooring  Electricity_Backup  \\\n",
       "0                              0         1                   0   \n",
       "1                              0         1                   1   \n",
       "\n",
       "   Servant_Quarters  Study_Room  Prayer_Room  Powder_Room  Gym  \\\n",
       "0                 1           1            0            0    1   \n",
       "1                 0           1            0            0    0   \n",
       "\n",
       "   Lounge_or_Sitting_Room  Laundry_Room  \\\n",
       "0                       1             0   \n",
       "1                       0             0   \n",
       "\n",
       "   Business_Center_or_Media_Room_in_Building  Satellite_or_Cable_TV_Ready  \\\n",
       "0                                          0                            0   \n",
       "1                                          0                            0   \n",
       "\n",
       "   Broadband_Internet_Access  Intercom  Conference_Room_in_Building  \\\n",
       "0                          0         0                            0   \n",
       "1                          0         0                            0   \n",
       "\n",
       "   Community_Swimming_Pool  Community_Lawn_or_Garden  Community_Gym  \\\n",
       "0                        0                         0              0   \n",
       "1                        0                         0              0   \n",
       "\n",
       "   Community_Center  First_Aid_or_Medical_Centre  Day_Care_center  \\\n",
       "0                 0                            0                0   \n",
       "1                 0                            0                0   \n",
       "\n",
       "   Kids_Play_Area  Mosque  Barbeque_Area  Lawn_or_Garden  Swimming_Pool  \\\n",
       "0               0       0              0               0              0   \n",
       "1               0       0              0               0              0   \n",
       "\n",
       "   Sauna  Jacuzzi  Nearby_Schools  Nearby_Hospital  Nearby_Shopping_Malls  \\\n",
       "0      0        0               0                0                      0   \n",
       "1      0        0               0                0                      0   \n",
       "\n",
       "   Nearby_Restaurants  Nearby_Public_Transport_Service  Other_Nearby_Places  \\\n",
       "0                   0                                0                    0   \n",
       "1                   0                                0                    0   \n",
       "\n",
       "   Security_Staff  Maintainance_Staff  Laundry_or_Dry_Cleaning_Facility  \\\n",
       "0               0                   0                                 0   \n",
       "1               0                   0                                 0   \n",
       "\n",
       "   Facilities_for_Disabled  Built_in_year_year  \n",
       "0                        0                 NaN  \n",
       "1                        0                 NaN  "
      ]
     },
     "execution_count": 8,
     "metadata": {},
     "output_type": "execute_result"
    }
   ],
   "source": [
    "# rows and columns of the data\n",
    "print(f'Shape: {data.shape}')\n",
    "print('-' * 17)\n",
    "\n",
    "# visualise the dataset\n",
    "print('')\n",
    "print('Dataset: ')\n",
    "print('-' * 10)\n",
    "\n",
    "data.head(2)"
   ]
  },
  {
   "cell_type": "markdown",
   "metadata": {},
   "source": [
    "## Load the pre-selected features"
   ]
  },
  {
   "cell_type": "code",
   "execution_count": 9,
   "metadata": {},
   "outputs": [
    {
     "name": "stdout",
     "output_type": "stream",
     "text": [
      "Selected Features:\n",
      "------------------\n",
      "['Location1', 'Type', 'Bedrooms', 'Bathrooms', 'Size_in_SqYds', 'Floors_in_Building', 'Lobby_in_Building', 'Double_Glazed_Windows', 'Central_Heating', 'Service_Elevators_in_Building', 'Flooring', 'Electricity_Backup', 'Servant_Quarters', 'Study_Room', 'Powder_Room', 'Gym', 'Lounge_or_Sitting_Room', 'Laundry_Room', 'Business_Center_or_Media_Room_in_Building', 'Broadband_Internet_Access', 'Intercom', 'Conference_Room_in_Building', 'Community_Lawn_or_Garden', 'Community_Gym', 'First_Aid_or_Medical_Centre', 'Kids_Play_Area', 'Mosque', 'Nearby_Shopping_Malls', 'Nearby_Restaurants', 'Other_Nearby_Places', 'Security_Staff', 'Bedrooms_na', 'Bathrooms_na', 'Size_in_SqYds_na', 'Floors_in_Building_na', 'Elevators_na', 'Built_in_year_year_na']\n"
     ]
    }
   ],
   "source": [
    "# we selected the features in the previous notebook (step 2 or step 5)\n",
    "\n",
    "features = pd.read_csv('../Data/selected_features.csv')\n",
    "features = features['0'].to_list() \n",
    "\n",
    "# display final feature set\n",
    "print(f\"Selected Features:\")\n",
    "print('-' * 18)\n",
    "print(features)"
   ]
  },
  {
   "cell_type": "code",
   "execution_count": 10,
   "metadata": {},
   "outputs": [
    {
     "data": {
      "text/plain": [
       "37"
      ]
     },
     "execution_count": 10,
     "metadata": {},
     "output_type": "execute_result"
    }
   ],
   "source": [
    "len(features)"
   ]
  },
  {
   "cell_type": "markdown",
   "metadata": {},
   "source": [
    "# Separate dataset into train and test\n",
    "\n",
    "It is important to separate our data intro training and testing set. \n",
    "\n",
    "When we engineer features, some techniques learn parameters from data. It is important to learn these parameters only from the train set. This is to avoid over-fitting.\n",
    "\n",
    "Our feature engineering techniques will learn:\n",
    "\n",
    "- mean\n",
    "- mode\n",
    "- exponents for the log\n",
    "- category frequency\n",
    "- and category to number mappings\n",
    "\n",
    "from the train set.\n",
    "\n",
    "**Separating the data into train and test involves randomness, therefore, we need to set the seed.**"
   ]
  },
  {
   "cell_type": "code",
   "execution_count": 11,
   "metadata": {},
   "outputs": [
    {
     "data": {
      "text/plain": [
       "((8837, 53), (982, 53))"
      ]
     },
     "execution_count": 11,
     "metadata": {},
     "output_type": "execute_result"
    }
   ],
   "source": [
    "# Let's separate into train and test set\n",
    "# Remember to set the seed (random_state for this sklearn function)\n",
    "\n",
    "X_train, X_test, y_train, y_test = train_test_split(\n",
    "    data.drop(['Price_in_millions'], axis = 1), # predictive variables\n",
    "    data['Price_in_millions'], # target\n",
    "    test_size = 0.1, # portion of dataset to allocate to test set\n",
    "    random_state = 0, # we are setting the seed here\n",
    ")\n",
    "\n",
    "X_train.shape, X_test.shape"
   ]
  },
  {
   "cell_type": "markdown",
   "metadata": {},
   "source": [
    "# Target\n",
    "\n",
    "We apply the logarithm"
   ]
  },
  {
   "cell_type": "code",
   "execution_count": 12,
   "metadata": {},
   "outputs": [],
   "source": [
    "y_train = np.log(y_train)\n",
    "y_test = np.log(y_test)"
   ]
  },
  {
   "cell_type": "code",
   "execution_count": 13,
   "metadata": {},
   "outputs": [
    {
     "data": {
      "text/plain": [
       "pandas.core.series.Series"
      ]
     },
     "execution_count": 13,
     "metadata": {},
     "output_type": "execute_result"
    }
   ],
   "source": [
    "type(y_train)"
   ]
  },
  {
   "cell_type": "code",
   "execution_count": 14,
   "metadata": {},
   "outputs": [],
   "source": [
    "#X_train.head()"
   ]
  },
  {
   "cell_type": "code",
   "execution_count": 15,
   "metadata": {},
   "outputs": [],
   "source": [
    "#X_test.head()"
   ]
  },
  {
   "cell_type": "code",
   "execution_count": 16,
   "metadata": {},
   "outputs": [],
   "source": [
    "#y_train.head()"
   ]
  },
  {
   "cell_type": "code",
   "execution_count": 17,
   "metadata": {},
   "outputs": [],
   "source": [
    "# y_test.head()"
   ]
  },
  {
   "cell_type": "code",
   "execution_count": 18,
   "metadata": {},
   "outputs": [
    {
     "name": "stdout",
     "output_type": "stream",
     "text": [
      "<class 'pandas.core.frame.DataFrame'>\n",
      "Int64Index: 9819 entries, 0 to 14201\n",
      "Data columns (total 54 columns):\n",
      " #   Column                                     Non-Null Count  Dtype  \n",
      "---  ------                                     --------------  -----  \n",
      " 0   Location1                                  9819 non-null   object \n",
      " 1   Type                                       9819 non-null   object \n",
      " 2   Bedrooms                                   9097 non-null   float64\n",
      " 3   Bathrooms                                  8877 non-null   float64\n",
      " 4   Size_in_SqYds                              9604 non-null   float64\n",
      " 5   Price_in_millions                          9819 non-null   float64\n",
      " 6   Parking_Spaces                             9819 non-null   int64  \n",
      " 7   Floors_in_Building                         1309 non-null   float64\n",
      " 8   Elevators                                  1191 non-null   float64\n",
      " 9   Lobby_in_Building                          9819 non-null   int64  \n",
      " 10  Double_Glazed_Windows                      9819 non-null   int64  \n",
      " 11  Central_Air_Conditioning                   9819 non-null   int64  \n",
      " 12  Central_Heating                            9819 non-null   int64  \n",
      " 13  Waste_Disposal                             9819 non-null   int64  \n",
      " 14  Furnished                                  9819 non-null   int64  \n",
      " 15  Service_Elevators_in_Building              9819 non-null   int64  \n",
      " 16  Flooring                                   9819 non-null   int64  \n",
      " 17  Electricity_Backup                         9819 non-null   int64  \n",
      " 18  Servant_Quarters                           9819 non-null   int64  \n",
      " 19  Study_Room                                 9819 non-null   int64  \n",
      " 20  Prayer_Room                                9819 non-null   int64  \n",
      " 21  Powder_Room                                9819 non-null   int64  \n",
      " 22  Gym                                        9819 non-null   int64  \n",
      " 23  Lounge_or_Sitting_Room                     9819 non-null   int64  \n",
      " 24  Laundry_Room                               9819 non-null   int64  \n",
      " 25  Business_Center_or_Media_Room_in_Building  9819 non-null   int64  \n",
      " 26  Satellite_or_Cable_TV_Ready                9819 non-null   int64  \n",
      " 27  Broadband_Internet_Access                  9819 non-null   int64  \n",
      " 28  Intercom                                   9819 non-null   int64  \n",
      " 29  Conference_Room_in_Building                9819 non-null   int64  \n",
      " 30  Community_Swimming_Pool                    9819 non-null   int64  \n",
      " 31  Community_Lawn_or_Garden                   9819 non-null   int64  \n",
      " 32  Community_Gym                              9819 non-null   int64  \n",
      " 33  Community_Center                           9819 non-null   int64  \n",
      " 34  First_Aid_or_Medical_Centre                9819 non-null   int64  \n",
      " 35  Day_Care_center                            9819 non-null   int64  \n",
      " 36  Kids_Play_Area                             9819 non-null   int64  \n",
      " 37  Mosque                                     9819 non-null   int64  \n",
      " 38  Barbeque_Area                              9819 non-null   int64  \n",
      " 39  Lawn_or_Garden                             9819 non-null   int64  \n",
      " 40  Swimming_Pool                              9819 non-null   int64  \n",
      " 41  Sauna                                      9819 non-null   int64  \n",
      " 42  Jacuzzi                                    9819 non-null   int64  \n",
      " 43  Nearby_Schools                             9819 non-null   int64  \n",
      " 44  Nearby_Hospital                            9819 non-null   int64  \n",
      " 45  Nearby_Shopping_Malls                      9819 non-null   int64  \n",
      " 46  Nearby_Restaurants                         9819 non-null   int64  \n",
      " 47  Nearby_Public_Transport_Service            9819 non-null   int64  \n",
      " 48  Other_Nearby_Places                        9819 non-null   int64  \n",
      " 49  Security_Staff                             9819 non-null   int64  \n",
      " 50  Maintainance_Staff                         9819 non-null   int64  \n",
      " 51  Laundry_or_Dry_Cleaning_Facility           9819 non-null   int64  \n",
      " 52  Facilities_for_Disabled                    9819 non-null   int64  \n",
      " 53  Built_in_year_year                         2368 non-null   float64\n",
      "dtypes: float64(7), int64(45), object(2)\n",
      "memory usage: 4.1+ MB\n"
     ]
    }
   ],
   "source": [
    "data.info()"
   ]
  },
  {
   "cell_type": "markdown",
   "metadata": {},
   "source": [
    "# Configuration"
   ]
  },
  {
   "cell_type": "code",
   "execution_count": 19,
   "metadata": {},
   "outputs": [],
   "source": [
    "#### numerical variables with NA in train set\n",
    "NUMERICAL_VARS_WITH_NA = ['Bedrooms', 'Bathrooms', 'Size_in_SqYds', 'Floors_in_Building', 'Elevators', 'Built_in_year_year']\n",
    "\n",
    "#### Year Vars/Temporal Vars\n",
    "TEMPORAL_VARS = ['Built_in_year_year']\n",
    "REF_VAR = None\n",
    "# this variable is to calculate the temporal variable, can be dropped afterwards\n",
    "DROP_FEATURES = [\"Built_in_year_year\"]\n",
    "\n",
    "#### categorical variables with NA in train set\n",
    "# CATEGORICAL_VARS_WITH_NA_FREQUENT = []\n",
    "# CATEGORICAL_VARS_WITH_NA_MISSING = []\n",
    "\n",
    "#### data type conversion\n",
    "FLOAT_COLS = ['Bedrooms', 'Bathrooms', 'Floors_in_Building', 'Elevators']\n",
    "TO_INT64 = 'int64'\n",
    "\n",
    "#### variables to log transform\n",
    "NUMERICALS_LOG_VARS = [\"Size_in_SqYds\"]\n",
    "\n",
    "#### variables to binarize\n",
    "# BINARIZE_VARS = []\n",
    "\n",
    "#### variables to map\n",
    "TYPE_VARS = ['Type']\n",
    "\n",
    "#### variable mappings\n",
    "TYPE_VARS_MAPPINGS = {'Missing': 0, 'NA': 0, 'NaN': 0, 'Flat': 1, 'House': 2}\n",
    "\n",
    "# categorical variables to encode\n",
    "CATEGORICAL_VARS = ['Location1']\n",
    "\n",
    "\n",
    "\n",
    "# the selected variables\n",
    "FEATURES = ['Location1', 'Type', 'Bedrooms', 'Bathrooms', 'Size_in_SqYds', 'Floors_in_Building', 'Lobby_in_Building', \n",
    "            'Double_Glazed_Windows', 'Central_Heating', 'Service_Elevators_in_Building', 'Flooring', 'Electricity_Backup', \n",
    "            'Servant_Quarters', 'Study_Room', 'Powder_Room', 'Gym', 'Lounge_or_Sitting_Room', 'Laundry_Room', \n",
    "            'Business_Center_or_Media_Room_in_Building', 'Broadband_Internet_Access', 'Intercom', 'Conference_Room_in_Building', \n",
    "            'Community_Lawn_or_Garden', 'Community_Gym', 'First_Aid_or_Medical_Centre', 'Kids_Play_Area', 'Mosque', \n",
    "            'Nearby_Shopping_Malls', 'Nearby_Restaurants', 'Other_Nearby_Places', 'Security_Staff', 'Bedrooms_na', 'Bathrooms_na', \n",
    "            'Size_in_SqYds_na', 'Floors_in_Building_na', 'Elevators_na', 'Built_in_year_year_na',\n",
    "            # this one is only to calculate temporal variable:\n",
    "            #'Built_in_year_year',\n",
    "]"
   ]
  },
  {
   "cell_type": "code",
   "execution_count": 20,
   "metadata": {},
   "outputs": [
    {
     "data": {
      "text/plain": [
       "37"
      ]
     },
     "execution_count": 20,
     "metadata": {},
     "output_type": "execute_result"
    }
   ],
   "source": [
    "len(FEATURES)"
   ]
  },
  {
   "cell_type": "code",
   "execution_count": 21,
   "metadata": {},
   "outputs": [],
   "source": [
    "# X_train = X_train[FEATURES]\n",
    "# X_test = X_test[FEATURES]\n",
    "\n",
    "# X_train.shape, X_test.shape"
   ]
  },
  {
   "cell_type": "markdown",
   "metadata": {},
   "source": [
    "# Pipeline - End-to-end\n",
    "\n",
    "We have 3 steps less, they are commented out. So the pipeline is also simpler:\n",
    "\n",
    "- the yeo-johnson transformation\n",
    "- 1 of the mappings\n",
    "- the selection procedure\n",
    "\n",
    "this makes the pipeline faster and easier to deploy."
   ]
  },
  {
   "cell_type": "code",
   "execution_count": 22,
   "metadata": {},
   "outputs": [],
   "source": [
    "# # Create a pipeline with preprocessing steps and an estimator\n",
    "# pipeline = Pipeline([\n",
    "#     ('preprocess', FeatureUnion([('scaling', Pipeline([('selector', FunctionTransformer(lambda X: X[selected_features])),\n",
    "#             ('scaler', StandardScaler())])),\n",
    "#         ('feature_selection', Pipeline([\n",
    "#             ('selector', FunctionTransformer(lambda X: X[selected_features])),\n",
    "#             ('selector_kbest', SelectKBest(k='all'))\n",
    "#         ]))\n",
    "#     ])),\n",
    "#     ('estimator', LogisticRegression())\n",
    "# ])"
   ]
  },
  {
   "cell_type": "code",
   "execution_count": 23,
   "metadata": {},
   "outputs": [],
   "source": [
    "# set up the pipeline\n",
    "price_pipe = Pipeline([\n",
    "\n",
    "    # ===== IMPUTATION =====\n",
    "    \n",
    "    # add missing indicator\n",
    "    ('missing_indicator', AddMissingIndicator(variables = NUMERICAL_VARS_WITH_NA)),\n",
    "\n",
    "    # impute numerical variables with the mean\n",
    "    ('mean_imputation', MeanMedianImputer(imputation_method = 'mean', variables = NUMERICAL_VARS_WITH_NA)),\n",
    "    \n",
    "    # ==== TEMPORAL VARIABLES ====\n",
    "    \n",
    "    ('elapsed_time', skpp.ElapsedYearsTransformer(vars = TEMPORAL_VARS, ref_var = REF_VAR)),\n",
    "\n",
    "    ('drop_features', DropFeatures(features_to_drop = DROP_FEATURES)),\n",
    "    \n",
    "    # impute categorical variables with string missing\n",
    "    # ('missing_imputation', CategoricalImputer(imputation_method = 'missing', variables = CATEGORICAL_VARS_WITH_NA_MISSING)),\n",
    "\n",
    "    # ('frequent_imputation', CategoricalImputer(imputation_method = 'frequent', variables = CATEGORICAL_VARS_WITH_NA_FREQUENT)),\n",
    "    \n",
    "    \n",
    "    # ==== data types Conversion =====\n",
    "    \n",
    "    ('convert_to_int64', skpp.DataTypeConverter(vars = FLOAT_COLS, data_type = TO_INT64)),\n",
    "    \n",
    "    # ==== VARIABLE TRANSFORMATION =====\n",
    "    \n",
    "    ('log', LogTransformer(variables = NUMERICALS_LOG_VARS)),\n",
    "    \n",
    "    # ('yeojohnson', YeoJohnsonTransformer(variables=NUMERICALS_YEO_VARS)),\n",
    "    \n",
    "    # ('binarizer', SklearnTransformerWrapper(transformer = Binarizer(threshold = 0), variables = BINARIZE_VARS)),\n",
    "    \n",
    "    \n",
    "    # ==== mappers ====\n",
    "    \n",
    "    ('mapper_type_vars', skpp.Mapper(variables = TYPE_VARS, mappings = TYPE_VARS_MAPPINGS)),\n",
    "\n",
    "    \n",
    "    # ==== CATEGORICAL ENCODING ====\n",
    "    \n",
    "    ('rare_label_encoder', RareLabelEncoder(tol = 0.01, n_categories = 1, variables = CATEGORICAL_VARS)),\n",
    "\n",
    "    # encode categorical and discrete variables using the target mean\n",
    "    ('categorical_encoder', OrdinalEncoder(encoding_method = 'ordered', variables = CATEGORICAL_VARS)),\n",
    "    \n",
    "    \n",
    "    # ==== Feature Selection ====\n",
    "    \n",
    "    # #include pre-selected features\n",
    "    # ('preprocess', FeatureUnion([('scaling', Pipeline([('selector', FunctionTransformer(lambda X: X[FEATURES])),\n",
    "    #         ('scaler', MinMaxScaler())])),\n",
    "    #     ('feature_selection', Pipeline([\n",
    "    #         ('selector', FunctionTransformer(lambda X: X[FEATURES])),\n",
    "    #         ('selector_kbest', SelectKBest(k = 'all'))\n",
    "    #     ]))\n",
    "    # ])),\n",
    "    \n",
    "    # ==== MinMaxScaler ====\n",
    "    \n",
    "    ('scaler', MinMaxScaler()),\n",
    "    \n",
    "    # ==== Feature Selection ====\n",
    "\n",
    "    #('feature_selection', SelectKBest(k = 'all')),\n",
    "    \n",
    "    # ==== Model Selection ====\n",
    "    \n",
    "    ('selector', SelectFromModel(Lasso(alpha = 0.001, random_state = 0))),\n",
    "    ('Lasso', Lasso(alpha = 0.001, random_state = 0)),\n",
    "    \n",
    "])"
   ]
  },
  {
   "cell_type": "code",
   "execution_count": 24,
   "metadata": {},
   "outputs": [
    {
     "data": {
      "text/plain": [
       "Index(['Location1', 'Type', 'Bedrooms', 'Bathrooms', 'Size_in_SqYds',\n",
       "       'Parking_Spaces', 'Floors_in_Building', 'Elevators',\n",
       "       'Lobby_in_Building', 'Double_Glazed_Windows',\n",
       "       'Central_Air_Conditioning', 'Central_Heating', 'Waste_Disposal',\n",
       "       'Furnished', 'Service_Elevators_in_Building', 'Flooring',\n",
       "       'Electricity_Backup', 'Servant_Quarters', 'Study_Room', 'Prayer_Room',\n",
       "       'Powder_Room', 'Gym', 'Lounge_or_Sitting_Room', 'Laundry_Room',\n",
       "       'Business_Center_or_Media_Room_in_Building',\n",
       "       'Satellite_or_Cable_TV_Ready', 'Broadband_Internet_Access', 'Intercom',\n",
       "       'Conference_Room_in_Building', 'Community_Swimming_Pool',\n",
       "       'Community_Lawn_or_Garden', 'Community_Gym', 'Community_Center',\n",
       "       'First_Aid_or_Medical_Centre', 'Day_Care_center', 'Kids_Play_Area',\n",
       "       'Mosque', 'Barbeque_Area', 'Lawn_or_Garden', 'Swimming_Pool', 'Sauna',\n",
       "       'Jacuzzi', 'Nearby_Schools', 'Nearby_Hospital', 'Nearby_Shopping_Malls',\n",
       "       'Nearby_Restaurants', 'Nearby_Public_Transport_Service',\n",
       "       'Other_Nearby_Places', 'Security_Staff', 'Maintainance_Staff',\n",
       "       'Laundry_or_Dry_Cleaning_Facility', 'Facilities_for_Disabled',\n",
       "       'Built_in_year_year'],\n",
       "      dtype='object')"
      ]
     },
     "execution_count": 24,
     "metadata": {},
     "output_type": "execute_result"
    }
   ],
   "source": [
    "X_train.columns"
   ]
  },
  {
   "cell_type": "code",
   "execution_count": 25,
   "metadata": {},
   "outputs": [
    {
     "data": {
      "text/html": [
       "<style>#sk-container-id-1 {color: black;background-color: white;}#sk-container-id-1 pre{padding: 0;}#sk-container-id-1 div.sk-toggleable {background-color: white;}#sk-container-id-1 label.sk-toggleable__label {cursor: pointer;display: block;width: 100%;margin-bottom: 0;padding: 0.3em;box-sizing: border-box;text-align: center;}#sk-container-id-1 label.sk-toggleable__label-arrow:before {content: \"▸\";float: left;margin-right: 0.25em;color: #696969;}#sk-container-id-1 label.sk-toggleable__label-arrow:hover:before {color: black;}#sk-container-id-1 div.sk-estimator:hover label.sk-toggleable__label-arrow:before {color: black;}#sk-container-id-1 div.sk-toggleable__content {max-height: 0;max-width: 0;overflow: hidden;text-align: left;background-color: #f0f8ff;}#sk-container-id-1 div.sk-toggleable__content pre {margin: 0.2em;color: black;border-radius: 0.25em;background-color: #f0f8ff;}#sk-container-id-1 input.sk-toggleable__control:checked~div.sk-toggleable__content {max-height: 200px;max-width: 100%;overflow: auto;}#sk-container-id-1 input.sk-toggleable__control:checked~label.sk-toggleable__label-arrow:before {content: \"▾\";}#sk-container-id-1 div.sk-estimator input.sk-toggleable__control:checked~label.sk-toggleable__label {background-color: #d4ebff;}#sk-container-id-1 div.sk-label input.sk-toggleable__control:checked~label.sk-toggleable__label {background-color: #d4ebff;}#sk-container-id-1 input.sk-hidden--visually {border: 0;clip: rect(1px 1px 1px 1px);clip: rect(1px, 1px, 1px, 1px);height: 1px;margin: -1px;overflow: hidden;padding: 0;position: absolute;width: 1px;}#sk-container-id-1 div.sk-estimator {font-family: monospace;background-color: #f0f8ff;border: 1px dotted black;border-radius: 0.25em;box-sizing: border-box;margin-bottom: 0.5em;}#sk-container-id-1 div.sk-estimator:hover {background-color: #d4ebff;}#sk-container-id-1 div.sk-parallel-item::after {content: \"\";width: 100%;border-bottom: 1px solid gray;flex-grow: 1;}#sk-container-id-1 div.sk-label:hover label.sk-toggleable__label {background-color: #d4ebff;}#sk-container-id-1 div.sk-serial::before {content: \"\";position: absolute;border-left: 1px solid gray;box-sizing: border-box;top: 0;bottom: 0;left: 50%;z-index: 0;}#sk-container-id-1 div.sk-serial {display: flex;flex-direction: column;align-items: center;background-color: white;padding-right: 0.2em;padding-left: 0.2em;position: relative;}#sk-container-id-1 div.sk-item {position: relative;z-index: 1;}#sk-container-id-1 div.sk-parallel {display: flex;align-items: stretch;justify-content: center;background-color: white;position: relative;}#sk-container-id-1 div.sk-item::before, #sk-container-id-1 div.sk-parallel-item::before {content: \"\";position: absolute;border-left: 1px solid gray;box-sizing: border-box;top: 0;bottom: 0;left: 50%;z-index: -1;}#sk-container-id-1 div.sk-parallel-item {display: flex;flex-direction: column;z-index: 1;position: relative;background-color: white;}#sk-container-id-1 div.sk-parallel-item:first-child::after {align-self: flex-end;width: 50%;}#sk-container-id-1 div.sk-parallel-item:last-child::after {align-self: flex-start;width: 50%;}#sk-container-id-1 div.sk-parallel-item:only-child::after {width: 0;}#sk-container-id-1 div.sk-dashed-wrapped {border: 1px dashed gray;margin: 0 0.4em 0.5em 0.4em;box-sizing: border-box;padding-bottom: 0.4em;background-color: white;}#sk-container-id-1 div.sk-label label {font-family: monospace;font-weight: bold;display: inline-block;line-height: 1.2em;}#sk-container-id-1 div.sk-label-container {text-align: center;}#sk-container-id-1 div.sk-container {/* jupyter's `normalize.less` sets `[hidden] { display: none; }` but bootstrap.min.css set `[hidden] { display: none !important; }` so we also need the `!important` here to be able to override the default hidden behavior on the sphinx rendered scikit-learn.org. See: https://github.com/scikit-learn/scikit-learn/issues/21755 */display: inline-block !important;position: relative;}#sk-container-id-1 div.sk-text-repr-fallback {display: none;}</style><div id=\"sk-container-id-1\" class=\"sk-top-container\"><div class=\"sk-text-repr-fallback\"><pre>Pipeline(steps=[(&#x27;missing_indicator&#x27;,\n",
       "                 AddMissingIndicator(variables=[&#x27;Bedrooms&#x27;, &#x27;Bathrooms&#x27;,\n",
       "                                                &#x27;Size_in_SqYds&#x27;,\n",
       "                                                &#x27;Floors_in_Building&#x27;,\n",
       "                                                &#x27;Elevators&#x27;,\n",
       "                                                &#x27;Built_in_year_year&#x27;])),\n",
       "                (&#x27;mean_imputation&#x27;,\n",
       "                 MeanMedianImputer(imputation_method=&#x27;mean&#x27;,\n",
       "                                   variables=[&#x27;Bedrooms&#x27;, &#x27;Bathrooms&#x27;,\n",
       "                                              &#x27;Size_in_SqYds&#x27;,\n",
       "                                              &#x27;Floors_in_Building&#x27;, &#x27;Elevators&#x27;,\n",
       "                                              &#x27;Built_in_year_year&#x27;])),\n",
       "                (&#x27;elapsed_time&#x27;,\n",
       "                 E...\n",
       "                 Mapper(mappings={&#x27;Flat&#x27;: 1, &#x27;House&#x27;: 2, &#x27;Missing&#x27;: 0, &#x27;NA&#x27;: 0,\n",
       "                                  &#x27;NaN&#x27;: 0},\n",
       "                        variables=[&#x27;Type&#x27;])),\n",
       "                (&#x27;rare_label_encoder&#x27;,\n",
       "                 RareLabelEncoder(n_categories=1, tol=0.01,\n",
       "                                  variables=[&#x27;Location1&#x27;])),\n",
       "                (&#x27;categorical_encoder&#x27;,\n",
       "                 OrdinalEncoder(variables=[&#x27;Location1&#x27;])),\n",
       "                (&#x27;scaler&#x27;, MinMaxScaler()),\n",
       "                (&#x27;selector&#x27;,\n",
       "                 SelectFromModel(estimator=Lasso(alpha=0.001, random_state=0))),\n",
       "                (&#x27;Lasso&#x27;, Lasso(alpha=0.001, random_state=0))])</pre><b>In a Jupyter environment, please rerun this cell to show the HTML representation or trust the notebook. <br />On GitHub, the HTML representation is unable to render, please try loading this page with nbviewer.org.</b></div><div class=\"sk-container\" hidden><div class=\"sk-item sk-dashed-wrapped\"><div class=\"sk-label-container\"><div class=\"sk-label sk-toggleable\"><input class=\"sk-toggleable__control sk-hidden--visually\" id=\"sk-estimator-id-1\" type=\"checkbox\" ><label for=\"sk-estimator-id-1\" class=\"sk-toggleable__label sk-toggleable__label-arrow\">Pipeline</label><div class=\"sk-toggleable__content\"><pre>Pipeline(steps=[(&#x27;missing_indicator&#x27;,\n",
       "                 AddMissingIndicator(variables=[&#x27;Bedrooms&#x27;, &#x27;Bathrooms&#x27;,\n",
       "                                                &#x27;Size_in_SqYds&#x27;,\n",
       "                                                &#x27;Floors_in_Building&#x27;,\n",
       "                                                &#x27;Elevators&#x27;,\n",
       "                                                &#x27;Built_in_year_year&#x27;])),\n",
       "                (&#x27;mean_imputation&#x27;,\n",
       "                 MeanMedianImputer(imputation_method=&#x27;mean&#x27;,\n",
       "                                   variables=[&#x27;Bedrooms&#x27;, &#x27;Bathrooms&#x27;,\n",
       "                                              &#x27;Size_in_SqYds&#x27;,\n",
       "                                              &#x27;Floors_in_Building&#x27;, &#x27;Elevators&#x27;,\n",
       "                                              &#x27;Built_in_year_year&#x27;])),\n",
       "                (&#x27;elapsed_time&#x27;,\n",
       "                 E...\n",
       "                 Mapper(mappings={&#x27;Flat&#x27;: 1, &#x27;House&#x27;: 2, &#x27;Missing&#x27;: 0, &#x27;NA&#x27;: 0,\n",
       "                                  &#x27;NaN&#x27;: 0},\n",
       "                        variables=[&#x27;Type&#x27;])),\n",
       "                (&#x27;rare_label_encoder&#x27;,\n",
       "                 RareLabelEncoder(n_categories=1, tol=0.01,\n",
       "                                  variables=[&#x27;Location1&#x27;])),\n",
       "                (&#x27;categorical_encoder&#x27;,\n",
       "                 OrdinalEncoder(variables=[&#x27;Location1&#x27;])),\n",
       "                (&#x27;scaler&#x27;, MinMaxScaler()),\n",
       "                (&#x27;selector&#x27;,\n",
       "                 SelectFromModel(estimator=Lasso(alpha=0.001, random_state=0))),\n",
       "                (&#x27;Lasso&#x27;, Lasso(alpha=0.001, random_state=0))])</pre></div></div></div><div class=\"sk-serial\"><div class=\"sk-item\"><div class=\"sk-estimator sk-toggleable\"><input class=\"sk-toggleable__control sk-hidden--visually\" id=\"sk-estimator-id-2\" type=\"checkbox\" ><label for=\"sk-estimator-id-2\" class=\"sk-toggleable__label sk-toggleable__label-arrow\">AddMissingIndicator</label><div class=\"sk-toggleable__content\"><pre>AddMissingIndicator(variables=[&#x27;Bedrooms&#x27;, &#x27;Bathrooms&#x27;, &#x27;Size_in_SqYds&#x27;,\n",
       "                               &#x27;Floors_in_Building&#x27;, &#x27;Elevators&#x27;,\n",
       "                               &#x27;Built_in_year_year&#x27;])</pre></div></div></div><div class=\"sk-item\"><div class=\"sk-estimator sk-toggleable\"><input class=\"sk-toggleable__control sk-hidden--visually\" id=\"sk-estimator-id-3\" type=\"checkbox\" ><label for=\"sk-estimator-id-3\" class=\"sk-toggleable__label sk-toggleable__label-arrow\">MeanMedianImputer</label><div class=\"sk-toggleable__content\"><pre>MeanMedianImputer(imputation_method=&#x27;mean&#x27;,\n",
       "                  variables=[&#x27;Bedrooms&#x27;, &#x27;Bathrooms&#x27;, &#x27;Size_in_SqYds&#x27;,\n",
       "                             &#x27;Floors_in_Building&#x27;, &#x27;Elevators&#x27;,\n",
       "                             &#x27;Built_in_year_year&#x27;])</pre></div></div></div><div class=\"sk-item\"><div class=\"sk-estimator sk-toggleable\"><input class=\"sk-toggleable__control sk-hidden--visually\" id=\"sk-estimator-id-4\" type=\"checkbox\" ><label for=\"sk-estimator-id-4\" class=\"sk-toggleable__label sk-toggleable__label-arrow\">ElapsedYearsTransformer</label><div class=\"sk-toggleable__content\"><pre>ElapsedYearsTransformer(ref_var=2023, vars=[&#x27;Built_in_year_year&#x27;])</pre></div></div></div><div class=\"sk-item\"><div class=\"sk-estimator sk-toggleable\"><input class=\"sk-toggleable__control sk-hidden--visually\" id=\"sk-estimator-id-5\" type=\"checkbox\" ><label for=\"sk-estimator-id-5\" class=\"sk-toggleable__label sk-toggleable__label-arrow\">DropFeatures</label><div class=\"sk-toggleable__content\"><pre>DropFeatures(features_to_drop=[&#x27;Built_in_year_year&#x27;])</pre></div></div></div><div class=\"sk-item\"><div class=\"sk-estimator sk-toggleable\"><input class=\"sk-toggleable__control sk-hidden--visually\" id=\"sk-estimator-id-6\" type=\"checkbox\" ><label for=\"sk-estimator-id-6\" class=\"sk-toggleable__label sk-toggleable__label-arrow\">DataTypeConverter</label><div class=\"sk-toggleable__content\"><pre>DataTypeConverter(data_type=&#x27;int64&#x27;,\n",
       "                  vars=[&#x27;Bedrooms&#x27;, &#x27;Bathrooms&#x27;, &#x27;Floors_in_Building&#x27;,\n",
       "                        &#x27;Elevators&#x27;])</pre></div></div></div><div class=\"sk-item\"><div class=\"sk-estimator sk-toggleable\"><input class=\"sk-toggleable__control sk-hidden--visually\" id=\"sk-estimator-id-7\" type=\"checkbox\" ><label for=\"sk-estimator-id-7\" class=\"sk-toggleable__label sk-toggleable__label-arrow\">LogTransformer</label><div class=\"sk-toggleable__content\"><pre>LogTransformer(variables=[&#x27;Size_in_SqYds&#x27;])</pre></div></div></div><div class=\"sk-item\"><div class=\"sk-estimator sk-toggleable\"><input class=\"sk-toggleable__control sk-hidden--visually\" id=\"sk-estimator-id-8\" type=\"checkbox\" ><label for=\"sk-estimator-id-8\" class=\"sk-toggleable__label sk-toggleable__label-arrow\">Mapper</label><div class=\"sk-toggleable__content\"><pre>Mapper(mappings={&#x27;Flat&#x27;: 1, &#x27;House&#x27;: 2, &#x27;Missing&#x27;: 0, &#x27;NA&#x27;: 0, &#x27;NaN&#x27;: 0},\n",
       "       variables=[&#x27;Type&#x27;])</pre></div></div></div><div class=\"sk-item\"><div class=\"sk-estimator sk-toggleable\"><input class=\"sk-toggleable__control sk-hidden--visually\" id=\"sk-estimator-id-9\" type=\"checkbox\" ><label for=\"sk-estimator-id-9\" class=\"sk-toggleable__label sk-toggleable__label-arrow\">RareLabelEncoder</label><div class=\"sk-toggleable__content\"><pre>RareLabelEncoder(n_categories=1, tol=0.01, variables=[&#x27;Location1&#x27;])</pre></div></div></div><div class=\"sk-item\"><div class=\"sk-estimator sk-toggleable\"><input class=\"sk-toggleable__control sk-hidden--visually\" id=\"sk-estimator-id-10\" type=\"checkbox\" ><label for=\"sk-estimator-id-10\" class=\"sk-toggleable__label sk-toggleable__label-arrow\">OrdinalEncoder</label><div class=\"sk-toggleable__content\"><pre>OrdinalEncoder(variables=[&#x27;Location1&#x27;])</pre></div></div></div><div class=\"sk-item\"><div class=\"sk-estimator sk-toggleable\"><input class=\"sk-toggleable__control sk-hidden--visually\" id=\"sk-estimator-id-11\" type=\"checkbox\" ><label for=\"sk-estimator-id-11\" class=\"sk-toggleable__label sk-toggleable__label-arrow\">MinMaxScaler</label><div class=\"sk-toggleable__content\"><pre>MinMaxScaler()</pre></div></div></div><div class=\"sk-item sk-dashed-wrapped\"><div class=\"sk-label-container\"><div class=\"sk-label sk-toggleable\"><input class=\"sk-toggleable__control sk-hidden--visually\" id=\"sk-estimator-id-12\" type=\"checkbox\" ><label for=\"sk-estimator-id-12\" class=\"sk-toggleable__label sk-toggleable__label-arrow\">selector: SelectFromModel</label><div class=\"sk-toggleable__content\"><pre>SelectFromModel(estimator=Lasso(alpha=0.001, random_state=0))</pre></div></div></div><div class=\"sk-parallel\"><div class=\"sk-parallel-item\"><div class=\"sk-item\"><div class=\"sk-label-container\"><div class=\"sk-label sk-toggleable\"><input class=\"sk-toggleable__control sk-hidden--visually\" id=\"sk-estimator-id-13\" type=\"checkbox\" ><label for=\"sk-estimator-id-13\" class=\"sk-toggleable__label sk-toggleable__label-arrow\">estimator: Lasso</label><div class=\"sk-toggleable__content\"><pre>Lasso(alpha=0.001, random_state=0)</pre></div></div></div><div class=\"sk-serial\"><div class=\"sk-item\"><div class=\"sk-estimator sk-toggleable\"><input class=\"sk-toggleable__control sk-hidden--visually\" id=\"sk-estimator-id-14\" type=\"checkbox\" ><label for=\"sk-estimator-id-14\" class=\"sk-toggleable__label sk-toggleable__label-arrow\">Lasso</label><div class=\"sk-toggleable__content\"><pre>Lasso(alpha=0.001, random_state=0)</pre></div></div></div></div></div></div></div></div><div class=\"sk-item\"><div class=\"sk-estimator sk-toggleable\"><input class=\"sk-toggleable__control sk-hidden--visually\" id=\"sk-estimator-id-15\" type=\"checkbox\" ><label for=\"sk-estimator-id-15\" class=\"sk-toggleable__label sk-toggleable__label-arrow\">Lasso</label><div class=\"sk-toggleable__content\"><pre>Lasso(alpha=0.001, random_state=0)</pre></div></div></div></div></div></div></div>"
      ],
      "text/plain": [
       "Pipeline(steps=[('missing_indicator',\n",
       "                 AddMissingIndicator(variables=['Bedrooms', 'Bathrooms',\n",
       "                                                'Size_in_SqYds',\n",
       "                                                'Floors_in_Building',\n",
       "                                                'Elevators',\n",
       "                                                'Built_in_year_year'])),\n",
       "                ('mean_imputation',\n",
       "                 MeanMedianImputer(imputation_method='mean',\n",
       "                                   variables=['Bedrooms', 'Bathrooms',\n",
       "                                              'Size_in_SqYds',\n",
       "                                              'Floors_in_Building', 'Elevators',\n",
       "                                              'Built_in_year_year'])),\n",
       "                ('elapsed_time',\n",
       "                 E...\n",
       "                 Mapper(mappings={'Flat': 1, 'House': 2, 'Missing': 0, 'NA': 0,\n",
       "                                  'NaN': 0},\n",
       "                        variables=['Type'])),\n",
       "                ('rare_label_encoder',\n",
       "                 RareLabelEncoder(n_categories=1, tol=0.01,\n",
       "                                  variables=['Location1'])),\n",
       "                ('categorical_encoder',\n",
       "                 OrdinalEncoder(variables=['Location1'])),\n",
       "                ('scaler', MinMaxScaler()),\n",
       "                ('selector',\n",
       "                 SelectFromModel(estimator=Lasso(alpha=0.001, random_state=0))),\n",
       "                ('Lasso', Lasso(alpha=0.001, random_state=0))])"
      ]
     },
     "execution_count": 25,
     "metadata": {},
     "output_type": "execute_result"
    }
   ],
   "source": [
    "# train the pipeline\n",
    "price_pipe.fit(X_train, y_train)"
   ]
  },
  {
   "cell_type": "code",
   "execution_count": 26,
   "metadata": {},
   "outputs": [
    {
     "name": "stdout",
     "output_type": "stream",
     "text": [
      "Selected features:  37\n",
      "------------------\n",
      "['x0' 'x1' 'x2' 'x3' 'x4' 'x6' 'x8' 'x9' 'x11' 'x14' 'x15' 'x16' 'x17'\n",
      " 'x18' 'x20' 'x21' 'x22' 'x23' 'x24' 'x26' 'x27' 'x28' 'x30' 'x31' 'x33'\n",
      " 'x35' 'x36' 'x44' 'x45' 'x47' 'x48' 'x52' 'x53' 'x54' 'x55' 'x56' 'x57']\n"
     ]
    }
   ],
   "source": [
    "features_selected = price_pipe.named_steps['selector'].get_feature_names_out()\n",
    "print(f\"Selected features: \", len(features_selected))\n",
    "print(\"-\" * 18)\n",
    "print(features_selected)"
   ]
  },
  {
   "cell_type": "code",
   "execution_count": 27,
   "metadata": {},
   "outputs": [
    {
     "data": {
      "text/plain": [
       "array([ True,  True,  True,  True,  True, False,  True, False,  True,\n",
       "        True, False,  True, False, False,  True,  True,  True,  True,\n",
       "        True, False,  True,  True,  True,  True,  True, False,  True,\n",
       "        True,  True, False,  True,  True, False,  True, False,  True,\n",
       "        True, False, False, False, False, False, False, False,  True,\n",
       "        True, False,  True,  True, False, False, False,  True,  True,\n",
       "        True,  True,  True,  True, False])"
      ]
     },
     "execution_count": 27,
     "metadata": {},
     "output_type": "execute_result"
    }
   ],
   "source": [
    "features_selected = price_pipe.named_steps['selector'].get_support()\n",
    "features_selected"
   ]
  },
  {
   "cell_type": "code",
   "execution_count": 28,
   "metadata": {},
   "outputs": [
    {
     "data": {
      "text/plain": [
       "59"
      ]
     },
     "execution_count": 28,
     "metadata": {},
     "output_type": "execute_result"
    }
   ],
   "source": [
    "len(features_selected)"
   ]
  },
  {
   "cell_type": "code",
   "execution_count": 29,
   "metadata": {},
   "outputs": [
    {
     "data": {
      "text/plain": [
       "pandas.core.frame.DataFrame"
      ]
     },
     "execution_count": 29,
     "metadata": {},
     "output_type": "execute_result"
    }
   ],
   "source": [
    "type(X_train)"
   ]
  },
  {
   "cell_type": "code",
   "execution_count": 30,
   "metadata": {},
   "outputs": [
    {
     "name": "stdout",
     "output_type": "stream",
     "text": [
      "train mse: 1133\n",
      "train rmse: 33\n",
      "train r2: 0.6628158715634062\n",
      "\n",
      "test mse: 996\n",
      "test rmse: 31\n",
      "test r2: 0.6996224433084909\n",
      "\n",
      "Average house price:  27\n"
     ]
    }
   ],
   "source": [
    "# make predictions for train set\n",
    "pred_train = price_pipe[:-1].transform(X_train)  # Exclude the last step (Lasso) and only apply transformations\n",
    "pred_train = price_pipe[-1].predict(pred_train)  # Apply the final Lasso step and make predictions\n",
    "\n",
    "# determine mse, rmse and r2\n",
    "print('train mse: {}'.format(int(\n",
    "    mean_squared_error(np.exp(y_train), np.exp(pred_train)))))\n",
    "print('train rmse: {}'.format(int(\n",
    "    mean_squared_error(np.exp(y_train), np.exp(pred_train), squared=False))))\n",
    "print('train r2: {}'.format(\n",
    "    r2_score(np.exp(y_train), np.exp(pred_train))))\n",
    "print()\n",
    "\n",
    "\n",
    "\n",
    "# make predictions for test set\n",
    "pred_test = price_pipe[:-1].transform(X_test)  # Exclude the last step (Lasso) and only apply transformations\n",
    "pred_test = price_pipe[-1].predict(pred_test)  # Apply the final Lasso step and make predictions\n",
    "\n",
    "# determine mse, rmse and r2\n",
    "print('test mse: {}'.format(int(\n",
    "    mean_squared_error(np.exp(y_test), np.exp(pred_test)))))\n",
    "print('test rmse: {}'.format(int(\n",
    "    mean_squared_error(np.exp(y_test), np.exp(pred_test), squared=False))))\n",
    "print('test r2: {}'.format(\n",
    "    r2_score(np.exp(y_test), np.exp(pred_test))))\n",
    "print()\n",
    "\n",
    "print('Average house price: ', int(np.exp(y_train).median()))"
   ]
  },
  {
   "cell_type": "code",
   "execution_count": 31,
   "metadata": {
    "scrolled": true
   },
   "outputs": [
    {
     "data": {
      "image/png": "[encoded data removed]",
      "text/plain": [
       "<Figure size 640x480 with 1 Axes>"
      ]
     },
     "metadata": {},
     "output_type": "display_data"
    }
   ],
   "source": [
    "# let's evaluate our predictions respect to the real sale price\n",
    "plt.scatter(y_test, pred_test)\n",
    "plt.xlabel('True House Price')\n",
    "plt.ylabel('Predicted House Price')\n",
    "plt.title('Evaluation of Lasso Predictions')\n",
    "plt.show()"
   ]
  },
  {
   "cell_type": "code",
   "execution_count": 32,
   "metadata": {},
   "outputs": [
    {
     "data": {
      "image/png": "[encoded data removed]",
      "text/plain": [
       "<Figure size 640x480 with 1 Axes>"
      ]
     },
     "metadata": {},
     "output_type": "display_data"
    }
   ],
   "source": [
    "# let's evaluate the distribution of the errors: \n",
    "# they should be fairly normally distributed\n",
    "\n",
    "y_test.reset_index(drop = True, inplace = True)\n",
    "\n",
    "preds = pd.Series(pred_test)\n",
    "\n",
    "errors = y_test - preds\n",
    "errors.hist(bins=30)\n",
    "plt.show()"
   ]
  },
  {
   "cell_type": "code",
   "execution_count": 33,
   "metadata": {},
   "outputs": [
    {
     "data": {
      "text/plain": [
       "['../Models/price_pipe.joblib']"
      ]
     },
     "execution_count": 33,
     "metadata": {},
     "output_type": "execute_result"
    }
   ],
   "source": [
    "# now let's save the scaler\n",
    "\n",
    "joblib.dump(price_pipe, '../Models/price_pipe.joblib') "
   ]
  },
  {
   "cell_type": "markdown",
   "metadata": {},
   "source": [
    "# Score new data"
   ]
  },
  {
   "cell_type": "code",
   "execution_count": 34,
   "metadata": {},
   "outputs": [
    {
     "data": {
      "text/html": [
       "<div>\n",
       "<style scoped>\n",
       "    .dataframe tbody tr th:only-of-type {\n",
       "        vertical-align: middle;\n",
       "    }\n",
       "\n",
       "    .dataframe tbody tr th {\n",
       "        vertical-align: top;\n",
       "    }\n",
       "\n",
       "    .dataframe thead th {\n",
       "        text-align: right;\n",
       "    }\n",
       "</style>\n",
       "<table border=\"1\" class=\"dataframe\">\n",
       "  <thead>\n",
       "    <tr style=\"text-align: right;\">\n",
       "      <th></th>\n",
       "      <th>Ids</th>\n",
       "      <th>Location1</th>\n",
       "      <th>Location2</th>\n",
       "      <th>Type</th>\n",
       "      <th>Bedrooms</th>\n",
       "      <th>Bathrooms</th>\n",
       "      <th>Size_in_SqYds</th>\n",
       "      <th>Price_in_millions</th>\n",
       "      <th>Built_in_year</th>\n",
       "      <th>Parking_Spaces</th>\n",
       "      <th>Floors_in_Building</th>\n",
       "      <th>Elevators</th>\n",
       "      <th>Store_Rooms</th>\n",
       "      <th>Lobby_in_Building</th>\n",
       "      <th>Double_Glazed_Windows</th>\n",
       "      <th>Central_Air_Conditioning</th>\n",
       "      <th>Central_Heating</th>\n",
       "      <th>Waste_Disposal</th>\n",
       "      <th>Furnished</th>\n",
       "      <th>Service_Elevators_in_Building</th>\n",
       "      <th>Flooring</th>\n",
       "      <th>Electricity_Backup</th>\n",
       "      <th>Servant_Quarters</th>\n",
       "      <th>Study_Room</th>\n",
       "      <th>Prayer_Room</th>\n",
       "      <th>Powder_Room</th>\n",
       "      <th>Gym</th>\n",
       "      <th>Lounge_or_Sitting_Room</th>\n",
       "      <th>Laundry_Room</th>\n",
       "      <th>Business_Center_or_Media_Room_in_Building</th>\n",
       "      <th>Satellite_or_Cable_TV_Ready</th>\n",
       "      <th>Broadband_Internet_Access</th>\n",
       "      <th>Intercom</th>\n",
       "      <th>Conference_Room_in_Building</th>\n",
       "      <th>Community_Swimming_Pool</th>\n",
       "      <th>Community_Lawn_or_Garden</th>\n",
       "      <th>Community_Gym</th>\n",
       "      <th>Community_Center</th>\n",
       "      <th>First_Aid_or_Medical_Centre</th>\n",
       "      <th>Day_Care_center</th>\n",
       "      <th>Kids_Play_Area</th>\n",
       "      <th>Mosque</th>\n",
       "      <th>Barbeque_Area</th>\n",
       "      <th>Lawn_or_Garden</th>\n",
       "      <th>Swimming_Pool</th>\n",
       "      <th>Sauna</th>\n",
       "      <th>Jacuzzi</th>\n",
       "      <th>Nearby_Schools</th>\n",
       "      <th>Nearby_Hospital</th>\n",
       "      <th>Nearby_Shopping_Malls</th>\n",
       "      <th>Nearby_Restaurants</th>\n",
       "      <th>Nearby_Public_Transport_Service</th>\n",
       "      <th>Other_Nearby_Places</th>\n",
       "      <th>Security_Staff</th>\n",
       "      <th>Maintainance_Staff</th>\n",
       "      <th>Laundry_or_Dry_Cleaning_Facility</th>\n",
       "      <th>Facilities_for_Disabled</th>\n",
       "    </tr>\n",
       "  </thead>\n",
       "  <tbody>\n",
       "    <tr>\n",
       "      <th>0</th>\n",
       "      <td>9</td>\n",
       "      <td>Bahria Apartments, Bahria Town Karachi</td>\n",
       "      <td>Bahria Town Karachi</td>\n",
       "      <td>Flat</td>\n",
       "      <td>4.0</td>\n",
       "      <td>4.0</td>\n",
       "      <td>328.0</td>\n",
       "      <td>28.0</td>\n",
       "      <td>NaT</td>\n",
       "      <td>1</td>\n",
       "      <td>NaN</td>\n",
       "      <td>NaN</td>\n",
       "      <td>NaN</td>\n",
       "      <td>0</td>\n",
       "      <td>0</td>\n",
       "      <td>0</td>\n",
       "      <td>0</td>\n",
       "      <td>0</td>\n",
       "      <td>0</td>\n",
       "      <td>0</td>\n",
       "      <td>1</td>\n",
       "      <td>1</td>\n",
       "      <td>0</td>\n",
       "      <td>0</td>\n",
       "      <td>0</td>\n",
       "      <td>0</td>\n",
       "      <td>0</td>\n",
       "      <td>0</td>\n",
       "      <td>0</td>\n",
       "      <td>0</td>\n",
       "      <td>1</td>\n",
       "      <td>1</td>\n",
       "      <td>1</td>\n",
       "      <td>0</td>\n",
       "      <td>0</td>\n",
       "      <td>0</td>\n",
       "      <td>0</td>\n",
       "      <td>0</td>\n",
       "      <td>0</td>\n",
       "      <td>0</td>\n",
       "      <td>0</td>\n",
       "      <td>0</td>\n",
       "      <td>0</td>\n",
       "      <td>0</td>\n",
       "      <td>0</td>\n",
       "      <td>0</td>\n",
       "      <td>0</td>\n",
       "      <td>0</td>\n",
       "      <td>0</td>\n",
       "      <td>0</td>\n",
       "      <td>0</td>\n",
       "      <td>0</td>\n",
       "      <td>0</td>\n",
       "      <td>0</td>\n",
       "      <td>0</td>\n",
       "      <td>0</td>\n",
       "      <td>0</td>\n",
       "    </tr>\n",
       "    <tr>\n",
       "      <th>1</th>\n",
       "      <td>56</td>\n",
       "      <td>Bahria Apartments, Bahria Town Karachi</td>\n",
       "      <td>Bahria Town Karachi</td>\n",
       "      <td>Flat</td>\n",
       "      <td>2.0</td>\n",
       "      <td>2.0</td>\n",
       "      <td>106.0</td>\n",
       "      <td>8.2</td>\n",
       "      <td>NaT</td>\n",
       "      <td>1</td>\n",
       "      <td>NaN</td>\n",
       "      <td>NaN</td>\n",
       "      <td>NaN</td>\n",
       "      <td>0</td>\n",
       "      <td>0</td>\n",
       "      <td>0</td>\n",
       "      <td>0</td>\n",
       "      <td>0</td>\n",
       "      <td>0</td>\n",
       "      <td>0</td>\n",
       "      <td>1</td>\n",
       "      <td>1</td>\n",
       "      <td>0</td>\n",
       "      <td>0</td>\n",
       "      <td>0</td>\n",
       "      <td>0</td>\n",
       "      <td>0</td>\n",
       "      <td>0</td>\n",
       "      <td>0</td>\n",
       "      <td>1</td>\n",
       "      <td>1</td>\n",
       "      <td>1</td>\n",
       "      <td>0</td>\n",
       "      <td>1</td>\n",
       "      <td>0</td>\n",
       "      <td>0</td>\n",
       "      <td>0</td>\n",
       "      <td>0</td>\n",
       "      <td>0</td>\n",
       "      <td>0</td>\n",
       "      <td>0</td>\n",
       "      <td>0</td>\n",
       "      <td>0</td>\n",
       "      <td>0</td>\n",
       "      <td>0</td>\n",
       "      <td>0</td>\n",
       "      <td>0</td>\n",
       "      <td>0</td>\n",
       "      <td>0</td>\n",
       "      <td>0</td>\n",
       "      <td>0</td>\n",
       "      <td>0</td>\n",
       "      <td>0</td>\n",
       "      <td>0</td>\n",
       "      <td>0</td>\n",
       "      <td>0</td>\n",
       "      <td>0</td>\n",
       "    </tr>\n",
       "  </tbody>\n",
       "</table>\n",
       "</div>"
      ],
      "text/plain": [
       "   Ids                               Location1            Location2  Type  \\\n",
       "0    9  Bahria Apartments, Bahria Town Karachi  Bahria Town Karachi  Flat   \n",
       "1   56  Bahria Apartments, Bahria Town Karachi  Bahria Town Karachi  Flat   \n",
       "\n",
       "   Bedrooms  Bathrooms  Size_in_SqYds  Price_in_millions Built_in_year  \\\n",
       "0       4.0        4.0          328.0               28.0           NaT   \n",
       "1       2.0        2.0          106.0                8.2           NaT   \n",
       "\n",
       "   Parking_Spaces  Floors_in_Building  Elevators  Store_Rooms  \\\n",
       "0               1                 NaN        NaN          NaN   \n",
       "1               1                 NaN        NaN          NaN   \n",
       "\n",
       "   Lobby_in_Building  Double_Glazed_Windows  Central_Air_Conditioning  \\\n",
       "0                  0                      0                         0   \n",
       "1                  0                      0                         0   \n",
       "\n",
       "   Central_Heating  Waste_Disposal  Furnished  Service_Elevators_in_Building  \\\n",
       "0                0               0          0                              0   \n",
       "1                0               0          0                              0   \n",
       "\n",
       "   Flooring  Electricity_Backup  Servant_Quarters  Study_Room  Prayer_Room  \\\n",
       "0         1                   1                 0           0            0   \n",
       "1         1                   1                 0           0            0   \n",
       "\n",
       "   Powder_Room  Gym  Lounge_or_Sitting_Room  Laundry_Room  \\\n",
       "0            0    0                       0             0   \n",
       "1            0    0                       0             0   \n",
       "\n",
       "   Business_Center_or_Media_Room_in_Building  Satellite_or_Cable_TV_Ready  \\\n",
       "0                                          0                            1   \n",
       "1                                          1                            1   \n",
       "\n",
       "   Broadband_Internet_Access  Intercom  Conference_Room_in_Building  \\\n",
       "0                          1         1                            0   \n",
       "1                          1         0                            1   \n",
       "\n",
       "   Community_Swimming_Pool  Community_Lawn_or_Garden  Community_Gym  \\\n",
       "0                        0                         0              0   \n",
       "1                        0                         0              0   \n",
       "\n",
       "   Community_Center  First_Aid_or_Medical_Centre  Day_Care_center  \\\n",
       "0                 0                            0                0   \n",
       "1                 0                            0                0   \n",
       "\n",
       "   Kids_Play_Area  Mosque  Barbeque_Area  Lawn_or_Garden  Swimming_Pool  \\\n",
       "0               0       0              0               0              0   \n",
       "1               0       0              0               0              0   \n",
       "\n",
       "   Sauna  Jacuzzi  Nearby_Schools  Nearby_Hospital  Nearby_Shopping_Malls  \\\n",
       "0      0        0               0                0                      0   \n",
       "1      0        0               0                0                      0   \n",
       "\n",
       "   Nearby_Restaurants  Nearby_Public_Transport_Service  Other_Nearby_Places  \\\n",
       "0                   0                                0                    0   \n",
       "1                   0                                0                    0   \n",
       "\n",
       "   Security_Staff  Maintainance_Staff  Laundry_or_Dry_Cleaning_Facility  \\\n",
       "0               0                   0                                 0   \n",
       "1               0                   0                                 0   \n",
       "\n",
       "   Facilities_for_Disabled  \n",
       "0                        0  \n",
       "1                        0  "
      ]
     },
     "execution_count": 34,
     "metadata": {},
     "output_type": "execute_result"
    }
   ],
   "source": [
    "# load dataset\n",
    "df = pd.read_csv(\"../Data/new_data.csv\", parse_dates = ['Built_in_year'])\n",
    "df.head(2)"
   ]
  },
  {
   "cell_type": "code",
   "execution_count": 35,
   "metadata": {},
   "outputs": [
    {
     "name": "stdout",
     "output_type": "stream",
     "text": [
      "Shape:  (592, 57)\n"
     ]
    }
   ],
   "source": [
    "# drop rows in col 'Price_in_millions' that have missing values\n",
    "df.drop(df.loc[df['Price_in_millions'].isnull()].index, axis = 0, inplace = True)\n",
    "print(\"Shape: \", df.shape)\n",
    "\n",
    "# drop id, it is just a number given to identify each house\n",
    "# drop 'Built_in_year', 'Location2', 'Store_Rooms' columns\n",
    "drop_features = DropFeatures(features_to_drop = ['Ids', 'Location2', 'Store_Rooms'])\n",
    "df = drop_features.fit_transform(df)"
   ]
  },
  {
   "cell_type": "code",
   "execution_count": 36,
   "metadata": {},
   "outputs": [],
   "source": [
    "date_time_features = DatetimeFeatures(variables = ['Built_in_year'], \n",
    "                                      features_to_extract = ['year'], \n",
    "                                      drop_original = True, \n",
    "                                      missing_values = 'ignore')\n",
    "\n",
    "df = date_time_features.fit_transform(df)"
   ]
  },
  {
   "cell_type": "code",
   "execution_count": 37,
   "metadata": {},
   "outputs": [
    {
     "name": "stdout",
     "output_type": "stream",
     "text": [
      "Shape: (530, 54)\n"
     ]
    }
   ],
   "source": [
    "# Using DataFrame.drop_duplicates() to keep first duplicate row\n",
    "df = df.drop_duplicates(keep = 'first')\n",
    "# rows and columns of the data\n",
    "print(f'Shape: {df.shape}')"
   ]
  },
  {
   "cell_type": "code",
   "execution_count": 38,
   "metadata": {},
   "outputs": [],
   "source": [
    "actual_price = df['Price_in_millions']"
   ]
  },
  {
   "cell_type": "code",
   "execution_count": 39,
   "metadata": {},
   "outputs": [],
   "source": [
    "actual_price = actual_price.reset_index(drop = True)"
   ]
  },
  {
   "cell_type": "code",
   "execution_count": 40,
   "metadata": {},
   "outputs": [
    {
     "data": {
      "text/plain": [
       "pandas.core.series.Series"
      ]
     },
     "execution_count": 40,
     "metadata": {},
     "output_type": "execute_result"
    }
   ],
   "source": [
    "type(actual_price)"
   ]
  },
  {
   "cell_type": "code",
   "execution_count": 41,
   "metadata": {},
   "outputs": [
    {
     "data": {
      "text/plain": [
       "530"
      ]
     },
     "execution_count": 41,
     "metadata": {},
     "output_type": "execute_result"
    }
   ],
   "source": [
    "len(actual_price)"
   ]
  },
  {
   "cell_type": "code",
   "execution_count": 42,
   "metadata": {},
   "outputs": [],
   "source": [
    "drop_features = DropFeatures(features_to_drop = ['Price_in_millions'])\n",
    "df = drop_features.fit_transform(df)"
   ]
  },
  {
   "cell_type": "code",
   "execution_count": 43,
   "metadata": {},
   "outputs": [],
   "source": [
    "#df.head(2)"
   ]
  },
  {
   "cell_type": "code",
   "execution_count": 44,
   "metadata": {},
   "outputs": [],
   "source": [
    "#len(df)"
   ]
  },
  {
   "cell_type": "code",
   "execution_count": 45,
   "metadata": {},
   "outputs": [
    {
     "data": {
      "text/plain": [
       "(530, 53)"
      ]
     },
     "execution_count": 45,
     "metadata": {},
     "output_type": "execute_result"
    }
   ],
   "source": [
    "df.shape"
   ]
  },
  {
   "cell_type": "code",
   "execution_count": 46,
   "metadata": {},
   "outputs": [],
   "source": [
    "# make predictions for new data\n",
    "new_data = price_pipe[:-1].transform(df)  # Exclude the last step (Lasso) and only apply transformations\n",
    "pred_new_data = price_pipe[-1].predict(new_data)  # Apply the final Lasso step and make predictions"
   ]
  },
  {
   "cell_type": "code",
   "execution_count": 47,
   "metadata": {},
   "outputs": [
    {
     "data": {
      "text/plain": [
       "530"
      ]
     },
     "execution_count": 47,
     "metadata": {},
     "output_type": "execute_result"
    }
   ],
   "source": [
    "len(pred_new_data)"
   ]
  },
  {
   "cell_type": "code",
   "execution_count": 48,
   "metadata": {},
   "outputs": [
    {
     "data": {
      "text/plain": [
       "numpy.ndarray"
      ]
     },
     "execution_count": 48,
     "metadata": {},
     "output_type": "execute_result"
    }
   ],
   "source": [
    "type(pred_new_data)"
   ]
  },
  {
   "cell_type": "code",
   "execution_count": 49,
   "metadata": {},
   "outputs": [
    {
     "data": {
      "text/plain": [
       "pandas.core.series.Series"
      ]
     },
     "execution_count": 49,
     "metadata": {},
     "output_type": "execute_result"
    }
   ],
   "source": [
    "# convert to series\n",
    "pred_new_data = pd.Series(np.exp(pred_new_data))\n",
    "type(pred_new_data)"
   ]
  },
  {
   "cell_type": "code",
   "execution_count": 50,
   "metadata": {},
   "outputs": [
    {
     "data": {
      "text/plain": [
       "530"
      ]
     },
     "execution_count": 50,
     "metadata": {},
     "output_type": "execute_result"
    }
   ],
   "source": [
    "len(pred_new_data)"
   ]
  },
  {
   "cell_type": "code",
   "execution_count": 51,
   "metadata": {},
   "outputs": [
    {
     "data": {
      "text/html": [
       "<div>\n",
       "<style scoped>\n",
       "    .dataframe tbody tr th:only-of-type {\n",
       "        vertical-align: middle;\n",
       "    }\n",
       "\n",
       "    .dataframe tbody tr th {\n",
       "        vertical-align: top;\n",
       "    }\n",
       "\n",
       "    .dataframe thead th {\n",
       "        text-align: right;\n",
       "    }\n",
       "</style>\n",
       "<table border=\"1\" class=\"dataframe\">\n",
       "  <thead>\n",
       "    <tr style=\"text-align: right;\">\n",
       "      <th></th>\n",
       "      <th>Actual_Price</th>\n",
       "      <th>Predicted_Price</th>\n",
       "      <th>Error</th>\n",
       "    </tr>\n",
       "  </thead>\n",
       "  <tbody>\n",
       "    <tr>\n",
       "      <th>0</th>\n",
       "      <td>28.0</td>\n",
       "      <td>31.057837</td>\n",
       "      <td>3.057837</td>\n",
       "    </tr>\n",
       "    <tr>\n",
       "      <th>1</th>\n",
       "      <td>8.2</td>\n",
       "      <td>11.944540</td>\n",
       "      <td>3.744540</td>\n",
       "    </tr>\n",
       "    <tr>\n",
       "      <th>2</th>\n",
       "      <td>7.2</td>\n",
       "      <td>10.571296</td>\n",
       "      <td>3.371296</td>\n",
       "    </tr>\n",
       "    <tr>\n",
       "      <th>3</th>\n",
       "      <td>24.5</td>\n",
       "      <td>26.915127</td>\n",
       "      <td>2.415127</td>\n",
       "    </tr>\n",
       "    <tr>\n",
       "      <th>4</th>\n",
       "      <td>17.5</td>\n",
       "      <td>20.671074</td>\n",
       "      <td>3.171074</td>\n",
       "    </tr>\n",
       "    <tr>\n",
       "      <th>...</th>\n",
       "      <td>...</td>\n",
       "      <td>...</td>\n",
       "      <td>...</td>\n",
       "    </tr>\n",
       "    <tr>\n",
       "      <th>525</th>\n",
       "      <td>165.0</td>\n",
       "      <td>153.071789</td>\n",
       "      <td>-11.928211</td>\n",
       "    </tr>\n",
       "    <tr>\n",
       "      <th>526</th>\n",
       "      <td>200.0</td>\n",
       "      <td>150.718330</td>\n",
       "      <td>-49.281670</td>\n",
       "    </tr>\n",
       "    <tr>\n",
       "      <th>527</th>\n",
       "      <td>72.0</td>\n",
       "      <td>48.480006</td>\n",
       "      <td>-23.519994</td>\n",
       "    </tr>\n",
       "    <tr>\n",
       "      <th>528</th>\n",
       "      <td>750.0</td>\n",
       "      <td>381.474703</td>\n",
       "      <td>-368.525297</td>\n",
       "    </tr>\n",
       "    <tr>\n",
       "      <th>529</th>\n",
       "      <td>90.0</td>\n",
       "      <td>62.450336</td>\n",
       "      <td>-27.549664</td>\n",
       "    </tr>\n",
       "  </tbody>\n",
       "</table>\n",
       "<p>530 rows × 3 columns</p>\n",
       "</div>"
      ],
      "text/plain": [
       "     Actual_Price  Predicted_Price       Error\n",
       "0            28.0        31.057837    3.057837\n",
       "1             8.2        11.944540    3.744540\n",
       "2             7.2        10.571296    3.371296\n",
       "3            24.5        26.915127    2.415127\n",
       "4            17.5        20.671074    3.171074\n",
       "..            ...              ...         ...\n",
       "525         165.0       153.071789  -11.928211\n",
       "526         200.0       150.718330  -49.281670\n",
       "527          72.0        48.480006  -23.519994\n",
       "528         750.0       381.474703 -368.525297\n",
       "529          90.0        62.450336  -27.549664\n",
       "\n",
       "[530 rows x 3 columns]"
      ]
     },
     "execution_count": 51,
     "metadata": {},
     "output_type": "execute_result"
    }
   ],
   "source": [
    "# Create a DataFrame from the two Series\n",
    "dfx = pd.DataFrame({'Actual_Price': actual_price, 'Predicted_Price': pred_new_data, 'Error': pred_new_data - actual_price})\n",
    "dfx"
   ]
  },
  {
   "cell_type": "code",
   "execution_count": 52,
   "metadata": {},
   "outputs": [
    {
     "data": {
      "image/png": "[encoded data removed]",
      "text/plain": [
       "<Figure size 640x480 with 1 Axes>"
      ]
     },
     "metadata": {},
     "output_type": "display_data"
    }
   ],
   "source": [
    "# let's plot the predicted sale prices\n",
    "pd.Series(pred_new_data).hist(bins = 50)\n",
    "plt.show()"
   ]
  },
  {
   "cell_type": "markdown",
   "metadata": {},
   "source": [
    "# Conclusion\n",
    "\n",
    "Now we are ready for deployment!!!"
   ]
  }
 ],
 "metadata": {
  "kernelspec": {
   "display_name": "mlPipeLine",
   "language": "python",
   "name": "mlpipeline"
  },
  "language_info": {
   "codemirror_mode": {
    "name": "ipython",
    "version": 3
   },
   "file_extension": ".py",
   "mimetype": "text/x-python",
   "name": "python",
   "nbconvert_exporter": "python",
   "pygments_lexer": "ipython3",
   "version": "3.11.3"
  },
  "toc": {
   "base_numbering": 1,
   "nav_menu": {},
   "number_sections": true,
   "sideBar": true,
   "skip_h1_title": false,
   "title_cell": "Table of Contents",
   "title_sidebar": "Contents",
   "toc_cell": false,
   "toc_position": {
    "height": "583px",
    "left": "0px",
    "right": "1324px",
    "top": "107px",
    "width": "212px"
   },
   "toc_section_display": "block",
   "toc_window_display": true
  }
 },
 "nbformat": 4,
 "nbformat_minor": 4
}
